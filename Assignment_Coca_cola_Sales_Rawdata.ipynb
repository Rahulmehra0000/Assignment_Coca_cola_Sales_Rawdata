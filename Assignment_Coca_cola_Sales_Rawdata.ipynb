{
  "nbformat": 4,
  "nbformat_minor": 0,
  "metadata": {
    "colab": {
      "name": "Assignment Coca_cola_Sales_Rawdata.ipynb",
      "provenance": []
    },
    "kernelspec": {
      "name": "python3",
      "display_name": "Python 3"
    },
    "language_info": {
      "name": "python"
    }
  },
  "cells": [
    {
      "cell_type": "markdown",
      "metadata": {
        "id": "_scQ4r_J5uk0"
      },
      "source": [
        "#Forecast the CocaCola prices data set. Prepare a document for each model explaining how many dummy variables you have created and RMSE value for each model. Finally which model you will use for Forecasting.\n"
      ]
    },
    {
      "cell_type": "code",
      "metadata": {
        "id": "lAYUcEXv53N7"
      },
      "source": [
        "##importing the required libraries for Analysis\n",
        "\n",
        "import pandas as pd\n",
        "import numpy as np\n",
        "from numpy import sqrt\n",
        "\n",
        "from pandas import Grouper\n",
        "from pandas import DataFrame\n",
        "\n",
        "import matplotlib.pyplot as plt\n",
        "import seaborn as sns\n",
        "\n",
        "from sklearn.metrics import mean_squared_error\n",
        "from pandas.plotting import lag_plot\n",
        "from statsmodels.graphics.tsaplots import plot_acf\n",
        "\n",
        "from statsmodels.tsa.seasonal import seasonal_decompose\n",
        "## with the help of this we will be able to creat graphs for the dfferent components of time series data \n",
        "#like trends, level, sesional components and residual data\n",
        "\n",
        "from statsmodels.tsa.holtwinters import SimpleExpSmoothing # SES\n",
        "from statsmodels.tsa.holtwinters import Holt # Holts Exponential Smoothing\n",
        "from statsmodels.tsa.holtwinters import ExponentialSmoothing "
      ],
      "execution_count": 3,
      "outputs": []
    },
    {
      "cell_type": "code",
      "metadata": {
        "id": "lj9Z6Mzm23I9"
      },
      "source": [
        "##Loading the dataset\n",
        "df = pd.read_excel('/content/CocaCola_Sales_Rawdata.xlsx',header=0,parse_dates=True)"
      ],
      "execution_count": 4,
      "outputs": []
    },
    {
      "cell_type": "code",
      "metadata": {
        "colab": {
          "base_uri": "https://localhost:8080/",
          "height": 1000
        },
        "id": "EYYM_t_T3Lex",
        "outputId": "e3ec7eff-8555-4954-eef0-34cd7dc700b3"
      },
      "source": [
        "df"
      ],
      "execution_count": 5,
      "outputs": [
        {
          "output_type": "execute_result",
          "data": {
            "text/html": [
              "<div>\n",
              "<style scoped>\n",
              "    .dataframe tbody tr th:only-of-type {\n",
              "        vertical-align: middle;\n",
              "    }\n",
              "\n",
              "    .dataframe tbody tr th {\n",
              "        vertical-align: top;\n",
              "    }\n",
              "\n",
              "    .dataframe thead th {\n",
              "        text-align: right;\n",
              "    }\n",
              "</style>\n",
              "<table border=\"1\" class=\"dataframe\">\n",
              "  <thead>\n",
              "    <tr style=\"text-align: right;\">\n",
              "      <th></th>\n",
              "      <th>Quarter</th>\n",
              "      <th>Sales</th>\n",
              "    </tr>\n",
              "  </thead>\n",
              "  <tbody>\n",
              "    <tr>\n",
              "      <th>0</th>\n",
              "      <td>Q1_86</td>\n",
              "      <td>1734.827000</td>\n",
              "    </tr>\n",
              "    <tr>\n",
              "      <th>1</th>\n",
              "      <td>Q2_86</td>\n",
              "      <td>2244.960999</td>\n",
              "    </tr>\n",
              "    <tr>\n",
              "      <th>2</th>\n",
              "      <td>Q3_86</td>\n",
              "      <td>2533.804993</td>\n",
              "    </tr>\n",
              "    <tr>\n",
              "      <th>3</th>\n",
              "      <td>Q4_86</td>\n",
              "      <td>2154.962997</td>\n",
              "    </tr>\n",
              "    <tr>\n",
              "      <th>4</th>\n",
              "      <td>Q1_87</td>\n",
              "      <td>1547.818996</td>\n",
              "    </tr>\n",
              "    <tr>\n",
              "      <th>5</th>\n",
              "      <td>Q2_87</td>\n",
              "      <td>2104.411995</td>\n",
              "    </tr>\n",
              "    <tr>\n",
              "      <th>6</th>\n",
              "      <td>Q3_87</td>\n",
              "      <td>2014.362999</td>\n",
              "    </tr>\n",
              "    <tr>\n",
              "      <th>7</th>\n",
              "      <td>Q4_87</td>\n",
              "      <td>1991.746998</td>\n",
              "    </tr>\n",
              "    <tr>\n",
              "      <th>8</th>\n",
              "      <td>Q1_88</td>\n",
              "      <td>1869.049999</td>\n",
              "    </tr>\n",
              "    <tr>\n",
              "      <th>9</th>\n",
              "      <td>Q2_88</td>\n",
              "      <td>2313.631996</td>\n",
              "    </tr>\n",
              "    <tr>\n",
              "      <th>10</th>\n",
              "      <td>Q3_88</td>\n",
              "      <td>2128.320000</td>\n",
              "    </tr>\n",
              "    <tr>\n",
              "      <th>11</th>\n",
              "      <td>Q4_88</td>\n",
              "      <td>2026.828999</td>\n",
              "    </tr>\n",
              "    <tr>\n",
              "      <th>12</th>\n",
              "      <td>Q1_89</td>\n",
              "      <td>1910.603996</td>\n",
              "    </tr>\n",
              "    <tr>\n",
              "      <th>13</th>\n",
              "      <td>Q2_89</td>\n",
              "      <td>2331.164993</td>\n",
              "    </tr>\n",
              "    <tr>\n",
              "      <th>14</th>\n",
              "      <td>Q3_89</td>\n",
              "      <td>2206.549995</td>\n",
              "    </tr>\n",
              "    <tr>\n",
              "      <th>15</th>\n",
              "      <td>Q4_89</td>\n",
              "      <td>2173.967995</td>\n",
              "    </tr>\n",
              "    <tr>\n",
              "      <th>16</th>\n",
              "      <td>Q1_90</td>\n",
              "      <td>2148.278000</td>\n",
              "    </tr>\n",
              "    <tr>\n",
              "      <th>17</th>\n",
              "      <td>Q2_90</td>\n",
              "      <td>2739.307999</td>\n",
              "    </tr>\n",
              "    <tr>\n",
              "      <th>18</th>\n",
              "      <td>Q3_90</td>\n",
              "      <td>2792.753998</td>\n",
              "    </tr>\n",
              "    <tr>\n",
              "      <th>19</th>\n",
              "      <td>Q4_90</td>\n",
              "      <td>2556.009995</td>\n",
              "    </tr>\n",
              "    <tr>\n",
              "      <th>20</th>\n",
              "      <td>Q1_91</td>\n",
              "      <td>2480.973999</td>\n",
              "    </tr>\n",
              "    <tr>\n",
              "      <th>21</th>\n",
              "      <td>Q2_91</td>\n",
              "      <td>3039.522995</td>\n",
              "    </tr>\n",
              "    <tr>\n",
              "      <th>22</th>\n",
              "      <td>Q3_91</td>\n",
              "      <td>3172.115997</td>\n",
              "    </tr>\n",
              "    <tr>\n",
              "      <th>23</th>\n",
              "      <td>Q4_91</td>\n",
              "      <td>2879.000999</td>\n",
              "    </tr>\n",
              "    <tr>\n",
              "      <th>24</th>\n",
              "      <td>Q1_92</td>\n",
              "      <td>2772.000000</td>\n",
              "    </tr>\n",
              "    <tr>\n",
              "      <th>25</th>\n",
              "      <td>Q2_92</td>\n",
              "      <td>3550.000000</td>\n",
              "    </tr>\n",
              "    <tr>\n",
              "      <th>26</th>\n",
              "      <td>Q3_92</td>\n",
              "      <td>3508.000000</td>\n",
              "    </tr>\n",
              "    <tr>\n",
              "      <th>27</th>\n",
              "      <td>Q4_92</td>\n",
              "      <td>3243.859993</td>\n",
              "    </tr>\n",
              "    <tr>\n",
              "      <th>28</th>\n",
              "      <td>Q1_93</td>\n",
              "      <td>3056.000000</td>\n",
              "    </tr>\n",
              "    <tr>\n",
              "      <th>29</th>\n",
              "      <td>Q2_93</td>\n",
              "      <td>3899.000000</td>\n",
              "    </tr>\n",
              "    <tr>\n",
              "      <th>30</th>\n",
              "      <td>Q3_93</td>\n",
              "      <td>3629.000000</td>\n",
              "    </tr>\n",
              "    <tr>\n",
              "      <th>31</th>\n",
              "      <td>Q4_93</td>\n",
              "      <td>3373.000000</td>\n",
              "    </tr>\n",
              "    <tr>\n",
              "      <th>32</th>\n",
              "      <td>Q1_94</td>\n",
              "      <td>3352.000000</td>\n",
              "    </tr>\n",
              "    <tr>\n",
              "      <th>33</th>\n",
              "      <td>Q2_94</td>\n",
              "      <td>4342.000000</td>\n",
              "    </tr>\n",
              "    <tr>\n",
              "      <th>34</th>\n",
              "      <td>Q3_94</td>\n",
              "      <td>4461.000000</td>\n",
              "    </tr>\n",
              "    <tr>\n",
              "      <th>35</th>\n",
              "      <td>Q4_94</td>\n",
              "      <td>4017.000000</td>\n",
              "    </tr>\n",
              "    <tr>\n",
              "      <th>36</th>\n",
              "      <td>Q1_95</td>\n",
              "      <td>3854.000000</td>\n",
              "    </tr>\n",
              "    <tr>\n",
              "      <th>37</th>\n",
              "      <td>Q2_95</td>\n",
              "      <td>4936.000000</td>\n",
              "    </tr>\n",
              "    <tr>\n",
              "      <th>38</th>\n",
              "      <td>Q3_95</td>\n",
              "      <td>4895.000000</td>\n",
              "    </tr>\n",
              "    <tr>\n",
              "      <th>39</th>\n",
              "      <td>Q4_95</td>\n",
              "      <td>4333.000000</td>\n",
              "    </tr>\n",
              "    <tr>\n",
              "      <th>40</th>\n",
              "      <td>Q1_96</td>\n",
              "      <td>4194.000000</td>\n",
              "    </tr>\n",
              "    <tr>\n",
              "      <th>41</th>\n",
              "      <td>Q2_96</td>\n",
              "      <td>5253.000000</td>\n",
              "    </tr>\n",
              "  </tbody>\n",
              "</table>\n",
              "</div>"
            ],
            "text/plain": [
              "   Quarter        Sales\n",
              "0    Q1_86  1734.827000\n",
              "1    Q2_86  2244.960999\n",
              "2    Q3_86  2533.804993\n",
              "3    Q4_86  2154.962997\n",
              "4    Q1_87  1547.818996\n",
              "5    Q2_87  2104.411995\n",
              "6    Q3_87  2014.362999\n",
              "7    Q4_87  1991.746998\n",
              "8    Q1_88  1869.049999\n",
              "9    Q2_88  2313.631996\n",
              "10   Q3_88  2128.320000\n",
              "11   Q4_88  2026.828999\n",
              "12   Q1_89  1910.603996\n",
              "13   Q2_89  2331.164993\n",
              "14   Q3_89  2206.549995\n",
              "15   Q4_89  2173.967995\n",
              "16   Q1_90  2148.278000\n",
              "17   Q2_90  2739.307999\n",
              "18   Q3_90  2792.753998\n",
              "19   Q4_90  2556.009995\n",
              "20   Q1_91  2480.973999\n",
              "21   Q2_91  3039.522995\n",
              "22   Q3_91  3172.115997\n",
              "23   Q4_91  2879.000999\n",
              "24   Q1_92  2772.000000\n",
              "25   Q2_92  3550.000000\n",
              "26   Q3_92  3508.000000\n",
              "27   Q4_92  3243.859993\n",
              "28   Q1_93  3056.000000\n",
              "29   Q2_93  3899.000000\n",
              "30   Q3_93  3629.000000\n",
              "31   Q4_93  3373.000000\n",
              "32   Q1_94  3352.000000\n",
              "33   Q2_94  4342.000000\n",
              "34   Q3_94  4461.000000\n",
              "35   Q4_94  4017.000000\n",
              "36   Q1_95  3854.000000\n",
              "37   Q2_95  4936.000000\n",
              "38   Q3_95  4895.000000\n",
              "39   Q4_95  4333.000000\n",
              "40   Q1_96  4194.000000\n",
              "41   Q2_96  5253.000000"
            ]
          },
          "metadata": {},
          "execution_count": 5
        }
      ]
    },
    {
      "cell_type": "markdown",
      "metadata": {
        "id": "eIHINo-iCVbs"
      },
      "source": [
        "# EDA"
      ]
    },
    {
      "cell_type": "code",
      "metadata": {
        "colab": {
          "base_uri": "https://localhost:8080/"
        },
        "id": "hYgDsk-o342f",
        "outputId": "108f038b-3087-467d-c951-a7a60a916366"
      },
      "source": [
        "df.info()"
      ],
      "execution_count": 6,
      "outputs": [
        {
          "output_type": "stream",
          "name": "stdout",
          "text": [
            "<class 'pandas.core.frame.DataFrame'>\n",
            "RangeIndex: 42 entries, 0 to 41\n",
            "Data columns (total 2 columns):\n",
            " #   Column   Non-Null Count  Dtype  \n",
            "---  ------   --------------  -----  \n",
            " 0   Quarter  42 non-null     object \n",
            " 1   Sales    42 non-null     float64\n",
            "dtypes: float64(1), object(1)\n",
            "memory usage: 800.0+ bytes\n"
          ]
        }
      ]
    },
    {
      "cell_type": "code",
      "metadata": {
        "id": "DBJmzgZ53_my"
      },
      "source": [
        "df['Quarter_Year'] = df['Quarter'].str.split('_').apply(lambda x: ' 19'.join(x[:]))\n",
        "#Clean way to convert quarterly periods to datetime in pandas\n"
      ],
      "execution_count": 9,
      "outputs": []
    },
    {
      "cell_type": "code",
      "metadata": {
        "colab": {
          "base_uri": "https://localhost:8080/",
          "height": 1000
        },
        "id": "bu29hnRWbrkq",
        "outputId": "c5a8c5f1-00a7-466c-f6ec-a311f641e4ef"
      },
      "source": [
        "df"
      ],
      "execution_count": 10,
      "outputs": [
        {
          "output_type": "execute_result",
          "data": {
            "text/html": [
              "<div>\n",
              "<style scoped>\n",
              "    .dataframe tbody tr th:only-of-type {\n",
              "        vertical-align: middle;\n",
              "    }\n",
              "\n",
              "    .dataframe tbody tr th {\n",
              "        vertical-align: top;\n",
              "    }\n",
              "\n",
              "    .dataframe thead th {\n",
              "        text-align: right;\n",
              "    }\n",
              "</style>\n",
              "<table border=\"1\" class=\"dataframe\">\n",
              "  <thead>\n",
              "    <tr style=\"text-align: right;\">\n",
              "      <th></th>\n",
              "      <th>Quarter</th>\n",
              "      <th>Sales</th>\n",
              "      <th>Quarter_Year</th>\n",
              "    </tr>\n",
              "  </thead>\n",
              "  <tbody>\n",
              "    <tr>\n",
              "      <th>0</th>\n",
              "      <td>Q1_86</td>\n",
              "      <td>1734.827000</td>\n",
              "      <td>Q1 1986</td>\n",
              "    </tr>\n",
              "    <tr>\n",
              "      <th>1</th>\n",
              "      <td>Q2_86</td>\n",
              "      <td>2244.960999</td>\n",
              "      <td>Q2 1986</td>\n",
              "    </tr>\n",
              "    <tr>\n",
              "      <th>2</th>\n",
              "      <td>Q3_86</td>\n",
              "      <td>2533.804993</td>\n",
              "      <td>Q3 1986</td>\n",
              "    </tr>\n",
              "    <tr>\n",
              "      <th>3</th>\n",
              "      <td>Q4_86</td>\n",
              "      <td>2154.962997</td>\n",
              "      <td>Q4 1986</td>\n",
              "    </tr>\n",
              "    <tr>\n",
              "      <th>4</th>\n",
              "      <td>Q1_87</td>\n",
              "      <td>1547.818996</td>\n",
              "      <td>Q1 1987</td>\n",
              "    </tr>\n",
              "    <tr>\n",
              "      <th>5</th>\n",
              "      <td>Q2_87</td>\n",
              "      <td>2104.411995</td>\n",
              "      <td>Q2 1987</td>\n",
              "    </tr>\n",
              "    <tr>\n",
              "      <th>6</th>\n",
              "      <td>Q3_87</td>\n",
              "      <td>2014.362999</td>\n",
              "      <td>Q3 1987</td>\n",
              "    </tr>\n",
              "    <tr>\n",
              "      <th>7</th>\n",
              "      <td>Q4_87</td>\n",
              "      <td>1991.746998</td>\n",
              "      <td>Q4 1987</td>\n",
              "    </tr>\n",
              "    <tr>\n",
              "      <th>8</th>\n",
              "      <td>Q1_88</td>\n",
              "      <td>1869.049999</td>\n",
              "      <td>Q1 1988</td>\n",
              "    </tr>\n",
              "    <tr>\n",
              "      <th>9</th>\n",
              "      <td>Q2_88</td>\n",
              "      <td>2313.631996</td>\n",
              "      <td>Q2 1988</td>\n",
              "    </tr>\n",
              "    <tr>\n",
              "      <th>10</th>\n",
              "      <td>Q3_88</td>\n",
              "      <td>2128.320000</td>\n",
              "      <td>Q3 1988</td>\n",
              "    </tr>\n",
              "    <tr>\n",
              "      <th>11</th>\n",
              "      <td>Q4_88</td>\n",
              "      <td>2026.828999</td>\n",
              "      <td>Q4 1988</td>\n",
              "    </tr>\n",
              "    <tr>\n",
              "      <th>12</th>\n",
              "      <td>Q1_89</td>\n",
              "      <td>1910.603996</td>\n",
              "      <td>Q1 1989</td>\n",
              "    </tr>\n",
              "    <tr>\n",
              "      <th>13</th>\n",
              "      <td>Q2_89</td>\n",
              "      <td>2331.164993</td>\n",
              "      <td>Q2 1989</td>\n",
              "    </tr>\n",
              "    <tr>\n",
              "      <th>14</th>\n",
              "      <td>Q3_89</td>\n",
              "      <td>2206.549995</td>\n",
              "      <td>Q3 1989</td>\n",
              "    </tr>\n",
              "    <tr>\n",
              "      <th>15</th>\n",
              "      <td>Q4_89</td>\n",
              "      <td>2173.967995</td>\n",
              "      <td>Q4 1989</td>\n",
              "    </tr>\n",
              "    <tr>\n",
              "      <th>16</th>\n",
              "      <td>Q1_90</td>\n",
              "      <td>2148.278000</td>\n",
              "      <td>Q1 1990</td>\n",
              "    </tr>\n",
              "    <tr>\n",
              "      <th>17</th>\n",
              "      <td>Q2_90</td>\n",
              "      <td>2739.307999</td>\n",
              "      <td>Q2 1990</td>\n",
              "    </tr>\n",
              "    <tr>\n",
              "      <th>18</th>\n",
              "      <td>Q3_90</td>\n",
              "      <td>2792.753998</td>\n",
              "      <td>Q3 1990</td>\n",
              "    </tr>\n",
              "    <tr>\n",
              "      <th>19</th>\n",
              "      <td>Q4_90</td>\n",
              "      <td>2556.009995</td>\n",
              "      <td>Q4 1990</td>\n",
              "    </tr>\n",
              "    <tr>\n",
              "      <th>20</th>\n",
              "      <td>Q1_91</td>\n",
              "      <td>2480.973999</td>\n",
              "      <td>Q1 1991</td>\n",
              "    </tr>\n",
              "    <tr>\n",
              "      <th>21</th>\n",
              "      <td>Q2_91</td>\n",
              "      <td>3039.522995</td>\n",
              "      <td>Q2 1991</td>\n",
              "    </tr>\n",
              "    <tr>\n",
              "      <th>22</th>\n",
              "      <td>Q3_91</td>\n",
              "      <td>3172.115997</td>\n",
              "      <td>Q3 1991</td>\n",
              "    </tr>\n",
              "    <tr>\n",
              "      <th>23</th>\n",
              "      <td>Q4_91</td>\n",
              "      <td>2879.000999</td>\n",
              "      <td>Q4 1991</td>\n",
              "    </tr>\n",
              "    <tr>\n",
              "      <th>24</th>\n",
              "      <td>Q1_92</td>\n",
              "      <td>2772.000000</td>\n",
              "      <td>Q1 1992</td>\n",
              "    </tr>\n",
              "    <tr>\n",
              "      <th>25</th>\n",
              "      <td>Q2_92</td>\n",
              "      <td>3550.000000</td>\n",
              "      <td>Q2 1992</td>\n",
              "    </tr>\n",
              "    <tr>\n",
              "      <th>26</th>\n",
              "      <td>Q3_92</td>\n",
              "      <td>3508.000000</td>\n",
              "      <td>Q3 1992</td>\n",
              "    </tr>\n",
              "    <tr>\n",
              "      <th>27</th>\n",
              "      <td>Q4_92</td>\n",
              "      <td>3243.859993</td>\n",
              "      <td>Q4 1992</td>\n",
              "    </tr>\n",
              "    <tr>\n",
              "      <th>28</th>\n",
              "      <td>Q1_93</td>\n",
              "      <td>3056.000000</td>\n",
              "      <td>Q1 1993</td>\n",
              "    </tr>\n",
              "    <tr>\n",
              "      <th>29</th>\n",
              "      <td>Q2_93</td>\n",
              "      <td>3899.000000</td>\n",
              "      <td>Q2 1993</td>\n",
              "    </tr>\n",
              "    <tr>\n",
              "      <th>30</th>\n",
              "      <td>Q3_93</td>\n",
              "      <td>3629.000000</td>\n",
              "      <td>Q3 1993</td>\n",
              "    </tr>\n",
              "    <tr>\n",
              "      <th>31</th>\n",
              "      <td>Q4_93</td>\n",
              "      <td>3373.000000</td>\n",
              "      <td>Q4 1993</td>\n",
              "    </tr>\n",
              "    <tr>\n",
              "      <th>32</th>\n",
              "      <td>Q1_94</td>\n",
              "      <td>3352.000000</td>\n",
              "      <td>Q1 1994</td>\n",
              "    </tr>\n",
              "    <tr>\n",
              "      <th>33</th>\n",
              "      <td>Q2_94</td>\n",
              "      <td>4342.000000</td>\n",
              "      <td>Q2 1994</td>\n",
              "    </tr>\n",
              "    <tr>\n",
              "      <th>34</th>\n",
              "      <td>Q3_94</td>\n",
              "      <td>4461.000000</td>\n",
              "      <td>Q3 1994</td>\n",
              "    </tr>\n",
              "    <tr>\n",
              "      <th>35</th>\n",
              "      <td>Q4_94</td>\n",
              "      <td>4017.000000</td>\n",
              "      <td>Q4 1994</td>\n",
              "    </tr>\n",
              "    <tr>\n",
              "      <th>36</th>\n",
              "      <td>Q1_95</td>\n",
              "      <td>3854.000000</td>\n",
              "      <td>Q1 1995</td>\n",
              "    </tr>\n",
              "    <tr>\n",
              "      <th>37</th>\n",
              "      <td>Q2_95</td>\n",
              "      <td>4936.000000</td>\n",
              "      <td>Q2 1995</td>\n",
              "    </tr>\n",
              "    <tr>\n",
              "      <th>38</th>\n",
              "      <td>Q3_95</td>\n",
              "      <td>4895.000000</td>\n",
              "      <td>Q3 1995</td>\n",
              "    </tr>\n",
              "    <tr>\n",
              "      <th>39</th>\n",
              "      <td>Q4_95</td>\n",
              "      <td>4333.000000</td>\n",
              "      <td>Q4 1995</td>\n",
              "    </tr>\n",
              "    <tr>\n",
              "      <th>40</th>\n",
              "      <td>Q1_96</td>\n",
              "      <td>4194.000000</td>\n",
              "      <td>Q1 1996</td>\n",
              "    </tr>\n",
              "    <tr>\n",
              "      <th>41</th>\n",
              "      <td>Q2_96</td>\n",
              "      <td>5253.000000</td>\n",
              "      <td>Q2 1996</td>\n",
              "    </tr>\n",
              "  </tbody>\n",
              "</table>\n",
              "</div>"
            ],
            "text/plain": [
              "   Quarter        Sales Quarter_Year\n",
              "0    Q1_86  1734.827000      Q1 1986\n",
              "1    Q2_86  2244.960999      Q2 1986\n",
              "2    Q3_86  2533.804993      Q3 1986\n",
              "3    Q4_86  2154.962997      Q4 1986\n",
              "4    Q1_87  1547.818996      Q1 1987\n",
              "5    Q2_87  2104.411995      Q2 1987\n",
              "6    Q3_87  2014.362999      Q3 1987\n",
              "7    Q4_87  1991.746998      Q4 1987\n",
              "8    Q1_88  1869.049999      Q1 1988\n",
              "9    Q2_88  2313.631996      Q2 1988\n",
              "10   Q3_88  2128.320000      Q3 1988\n",
              "11   Q4_88  2026.828999      Q4 1988\n",
              "12   Q1_89  1910.603996      Q1 1989\n",
              "13   Q2_89  2331.164993      Q2 1989\n",
              "14   Q3_89  2206.549995      Q3 1989\n",
              "15   Q4_89  2173.967995      Q4 1989\n",
              "16   Q1_90  2148.278000      Q1 1990\n",
              "17   Q2_90  2739.307999      Q2 1990\n",
              "18   Q3_90  2792.753998      Q3 1990\n",
              "19   Q4_90  2556.009995      Q4 1990\n",
              "20   Q1_91  2480.973999      Q1 1991\n",
              "21   Q2_91  3039.522995      Q2 1991\n",
              "22   Q3_91  3172.115997      Q3 1991\n",
              "23   Q4_91  2879.000999      Q4 1991\n",
              "24   Q1_92  2772.000000      Q1 1992\n",
              "25   Q2_92  3550.000000      Q2 1992\n",
              "26   Q3_92  3508.000000      Q3 1992\n",
              "27   Q4_92  3243.859993      Q4 1992\n",
              "28   Q1_93  3056.000000      Q1 1993\n",
              "29   Q2_93  3899.000000      Q2 1993\n",
              "30   Q3_93  3629.000000      Q3 1993\n",
              "31   Q4_93  3373.000000      Q4 1993\n",
              "32   Q1_94  3352.000000      Q1 1994\n",
              "33   Q2_94  4342.000000      Q2 1994\n",
              "34   Q3_94  4461.000000      Q3 1994\n",
              "35   Q4_94  4017.000000      Q4 1994\n",
              "36   Q1_95  3854.000000      Q1 1995\n",
              "37   Q2_95  4936.000000      Q2 1995\n",
              "38   Q3_95  4895.000000      Q3 1995\n",
              "39   Q4_95  4333.000000      Q4 1995\n",
              "40   Q1_96  4194.000000      Q1 1996\n",
              "41   Q2_96  5253.000000      Q2 1996"
            ]
          },
          "metadata": {},
          "execution_count": 10
        }
      ]
    },
    {
      "cell_type": "code",
      "metadata": {
        "id": "S2U_3YPe-zJM"
      },
      "source": [
        "# converting into datetime formate as the index was not in correct formate.\n",
        "df['date'] = (\n",
        "    pd.to_datetime(\n",
        "        df['Quarter_Year'].str.split(' ').apply(lambda x: ''.join(x[::-1]))\n",
        ",dayfirst=True))"
      ],
      "execution_count": 11,
      "outputs": []
    },
    {
      "cell_type": "code",
      "metadata": {
        "colab": {
          "base_uri": "https://localhost:8080/",
          "height": 1000
        },
        "id": "xlc68vqICCtP",
        "outputId": "c452d568-6ee6-4b2f-e3fd-d1955c9882f2"
      },
      "source": [
        "df"
      ],
      "execution_count": 12,
      "outputs": [
        {
          "output_type": "execute_result",
          "data": {
            "text/html": [
              "<div>\n",
              "<style scoped>\n",
              "    .dataframe tbody tr th:only-of-type {\n",
              "        vertical-align: middle;\n",
              "    }\n",
              "\n",
              "    .dataframe tbody tr th {\n",
              "        vertical-align: top;\n",
              "    }\n",
              "\n",
              "    .dataframe thead th {\n",
              "        text-align: right;\n",
              "    }\n",
              "</style>\n",
              "<table border=\"1\" class=\"dataframe\">\n",
              "  <thead>\n",
              "    <tr style=\"text-align: right;\">\n",
              "      <th></th>\n",
              "      <th>Quarter</th>\n",
              "      <th>Sales</th>\n",
              "      <th>Quarter_Year</th>\n",
              "      <th>date</th>\n",
              "    </tr>\n",
              "  </thead>\n",
              "  <tbody>\n",
              "    <tr>\n",
              "      <th>0</th>\n",
              "      <td>Q1_86</td>\n",
              "      <td>1734.827000</td>\n",
              "      <td>Q1 1986</td>\n",
              "      <td>1986-01-01</td>\n",
              "    </tr>\n",
              "    <tr>\n",
              "      <th>1</th>\n",
              "      <td>Q2_86</td>\n",
              "      <td>2244.960999</td>\n",
              "      <td>Q2 1986</td>\n",
              "      <td>1986-04-01</td>\n",
              "    </tr>\n",
              "    <tr>\n",
              "      <th>2</th>\n",
              "      <td>Q3_86</td>\n",
              "      <td>2533.804993</td>\n",
              "      <td>Q3 1986</td>\n",
              "      <td>1986-07-01</td>\n",
              "    </tr>\n",
              "    <tr>\n",
              "      <th>3</th>\n",
              "      <td>Q4_86</td>\n",
              "      <td>2154.962997</td>\n",
              "      <td>Q4 1986</td>\n",
              "      <td>1986-10-01</td>\n",
              "    </tr>\n",
              "    <tr>\n",
              "      <th>4</th>\n",
              "      <td>Q1_87</td>\n",
              "      <td>1547.818996</td>\n",
              "      <td>Q1 1987</td>\n",
              "      <td>1987-01-01</td>\n",
              "    </tr>\n",
              "    <tr>\n",
              "      <th>5</th>\n",
              "      <td>Q2_87</td>\n",
              "      <td>2104.411995</td>\n",
              "      <td>Q2 1987</td>\n",
              "      <td>1987-04-01</td>\n",
              "    </tr>\n",
              "    <tr>\n",
              "      <th>6</th>\n",
              "      <td>Q3_87</td>\n",
              "      <td>2014.362999</td>\n",
              "      <td>Q3 1987</td>\n",
              "      <td>1987-07-01</td>\n",
              "    </tr>\n",
              "    <tr>\n",
              "      <th>7</th>\n",
              "      <td>Q4_87</td>\n",
              "      <td>1991.746998</td>\n",
              "      <td>Q4 1987</td>\n",
              "      <td>1987-10-01</td>\n",
              "    </tr>\n",
              "    <tr>\n",
              "      <th>8</th>\n",
              "      <td>Q1_88</td>\n",
              "      <td>1869.049999</td>\n",
              "      <td>Q1 1988</td>\n",
              "      <td>1988-01-01</td>\n",
              "    </tr>\n",
              "    <tr>\n",
              "      <th>9</th>\n",
              "      <td>Q2_88</td>\n",
              "      <td>2313.631996</td>\n",
              "      <td>Q2 1988</td>\n",
              "      <td>1988-04-01</td>\n",
              "    </tr>\n",
              "    <tr>\n",
              "      <th>10</th>\n",
              "      <td>Q3_88</td>\n",
              "      <td>2128.320000</td>\n",
              "      <td>Q3 1988</td>\n",
              "      <td>1988-07-01</td>\n",
              "    </tr>\n",
              "    <tr>\n",
              "      <th>11</th>\n",
              "      <td>Q4_88</td>\n",
              "      <td>2026.828999</td>\n",
              "      <td>Q4 1988</td>\n",
              "      <td>1988-10-01</td>\n",
              "    </tr>\n",
              "    <tr>\n",
              "      <th>12</th>\n",
              "      <td>Q1_89</td>\n",
              "      <td>1910.603996</td>\n",
              "      <td>Q1 1989</td>\n",
              "      <td>1989-01-01</td>\n",
              "    </tr>\n",
              "    <tr>\n",
              "      <th>13</th>\n",
              "      <td>Q2_89</td>\n",
              "      <td>2331.164993</td>\n",
              "      <td>Q2 1989</td>\n",
              "      <td>1989-04-01</td>\n",
              "    </tr>\n",
              "    <tr>\n",
              "      <th>14</th>\n",
              "      <td>Q3_89</td>\n",
              "      <td>2206.549995</td>\n",
              "      <td>Q3 1989</td>\n",
              "      <td>1989-07-01</td>\n",
              "    </tr>\n",
              "    <tr>\n",
              "      <th>15</th>\n",
              "      <td>Q4_89</td>\n",
              "      <td>2173.967995</td>\n",
              "      <td>Q4 1989</td>\n",
              "      <td>1989-10-01</td>\n",
              "    </tr>\n",
              "    <tr>\n",
              "      <th>16</th>\n",
              "      <td>Q1_90</td>\n",
              "      <td>2148.278000</td>\n",
              "      <td>Q1 1990</td>\n",
              "      <td>1990-01-01</td>\n",
              "    </tr>\n",
              "    <tr>\n",
              "      <th>17</th>\n",
              "      <td>Q2_90</td>\n",
              "      <td>2739.307999</td>\n",
              "      <td>Q2 1990</td>\n",
              "      <td>1990-04-01</td>\n",
              "    </tr>\n",
              "    <tr>\n",
              "      <th>18</th>\n",
              "      <td>Q3_90</td>\n",
              "      <td>2792.753998</td>\n",
              "      <td>Q3 1990</td>\n",
              "      <td>1990-07-01</td>\n",
              "    </tr>\n",
              "    <tr>\n",
              "      <th>19</th>\n",
              "      <td>Q4_90</td>\n",
              "      <td>2556.009995</td>\n",
              "      <td>Q4 1990</td>\n",
              "      <td>1990-10-01</td>\n",
              "    </tr>\n",
              "    <tr>\n",
              "      <th>20</th>\n",
              "      <td>Q1_91</td>\n",
              "      <td>2480.973999</td>\n",
              "      <td>Q1 1991</td>\n",
              "      <td>1991-01-01</td>\n",
              "    </tr>\n",
              "    <tr>\n",
              "      <th>21</th>\n",
              "      <td>Q2_91</td>\n",
              "      <td>3039.522995</td>\n",
              "      <td>Q2 1991</td>\n",
              "      <td>1991-04-01</td>\n",
              "    </tr>\n",
              "    <tr>\n",
              "      <th>22</th>\n",
              "      <td>Q3_91</td>\n",
              "      <td>3172.115997</td>\n",
              "      <td>Q3 1991</td>\n",
              "      <td>1991-07-01</td>\n",
              "    </tr>\n",
              "    <tr>\n",
              "      <th>23</th>\n",
              "      <td>Q4_91</td>\n",
              "      <td>2879.000999</td>\n",
              "      <td>Q4 1991</td>\n",
              "      <td>1991-10-01</td>\n",
              "    </tr>\n",
              "    <tr>\n",
              "      <th>24</th>\n",
              "      <td>Q1_92</td>\n",
              "      <td>2772.000000</td>\n",
              "      <td>Q1 1992</td>\n",
              "      <td>1992-01-01</td>\n",
              "    </tr>\n",
              "    <tr>\n",
              "      <th>25</th>\n",
              "      <td>Q2_92</td>\n",
              "      <td>3550.000000</td>\n",
              "      <td>Q2 1992</td>\n",
              "      <td>1992-04-01</td>\n",
              "    </tr>\n",
              "    <tr>\n",
              "      <th>26</th>\n",
              "      <td>Q3_92</td>\n",
              "      <td>3508.000000</td>\n",
              "      <td>Q3 1992</td>\n",
              "      <td>1992-07-01</td>\n",
              "    </tr>\n",
              "    <tr>\n",
              "      <th>27</th>\n",
              "      <td>Q4_92</td>\n",
              "      <td>3243.859993</td>\n",
              "      <td>Q4 1992</td>\n",
              "      <td>1992-10-01</td>\n",
              "    </tr>\n",
              "    <tr>\n",
              "      <th>28</th>\n",
              "      <td>Q1_93</td>\n",
              "      <td>3056.000000</td>\n",
              "      <td>Q1 1993</td>\n",
              "      <td>1993-01-01</td>\n",
              "    </tr>\n",
              "    <tr>\n",
              "      <th>29</th>\n",
              "      <td>Q2_93</td>\n",
              "      <td>3899.000000</td>\n",
              "      <td>Q2 1993</td>\n",
              "      <td>1993-04-01</td>\n",
              "    </tr>\n",
              "    <tr>\n",
              "      <th>30</th>\n",
              "      <td>Q3_93</td>\n",
              "      <td>3629.000000</td>\n",
              "      <td>Q3 1993</td>\n",
              "      <td>1993-07-01</td>\n",
              "    </tr>\n",
              "    <tr>\n",
              "      <th>31</th>\n",
              "      <td>Q4_93</td>\n",
              "      <td>3373.000000</td>\n",
              "      <td>Q4 1993</td>\n",
              "      <td>1993-10-01</td>\n",
              "    </tr>\n",
              "    <tr>\n",
              "      <th>32</th>\n",
              "      <td>Q1_94</td>\n",
              "      <td>3352.000000</td>\n",
              "      <td>Q1 1994</td>\n",
              "      <td>1994-01-01</td>\n",
              "    </tr>\n",
              "    <tr>\n",
              "      <th>33</th>\n",
              "      <td>Q2_94</td>\n",
              "      <td>4342.000000</td>\n",
              "      <td>Q2 1994</td>\n",
              "      <td>1994-04-01</td>\n",
              "    </tr>\n",
              "    <tr>\n",
              "      <th>34</th>\n",
              "      <td>Q3_94</td>\n",
              "      <td>4461.000000</td>\n",
              "      <td>Q3 1994</td>\n",
              "      <td>1994-07-01</td>\n",
              "    </tr>\n",
              "    <tr>\n",
              "      <th>35</th>\n",
              "      <td>Q4_94</td>\n",
              "      <td>4017.000000</td>\n",
              "      <td>Q4 1994</td>\n",
              "      <td>1994-10-01</td>\n",
              "    </tr>\n",
              "    <tr>\n",
              "      <th>36</th>\n",
              "      <td>Q1_95</td>\n",
              "      <td>3854.000000</td>\n",
              "      <td>Q1 1995</td>\n",
              "      <td>1995-01-01</td>\n",
              "    </tr>\n",
              "    <tr>\n",
              "      <th>37</th>\n",
              "      <td>Q2_95</td>\n",
              "      <td>4936.000000</td>\n",
              "      <td>Q2 1995</td>\n",
              "      <td>1995-04-01</td>\n",
              "    </tr>\n",
              "    <tr>\n",
              "      <th>38</th>\n",
              "      <td>Q3_95</td>\n",
              "      <td>4895.000000</td>\n",
              "      <td>Q3 1995</td>\n",
              "      <td>1995-07-01</td>\n",
              "    </tr>\n",
              "    <tr>\n",
              "      <th>39</th>\n",
              "      <td>Q4_95</td>\n",
              "      <td>4333.000000</td>\n",
              "      <td>Q4 1995</td>\n",
              "      <td>1995-10-01</td>\n",
              "    </tr>\n",
              "    <tr>\n",
              "      <th>40</th>\n",
              "      <td>Q1_96</td>\n",
              "      <td>4194.000000</td>\n",
              "      <td>Q1 1996</td>\n",
              "      <td>1996-01-01</td>\n",
              "    </tr>\n",
              "    <tr>\n",
              "      <th>41</th>\n",
              "      <td>Q2_96</td>\n",
              "      <td>5253.000000</td>\n",
              "      <td>Q2 1996</td>\n",
              "      <td>1996-04-01</td>\n",
              "    </tr>\n",
              "  </tbody>\n",
              "</table>\n",
              "</div>"
            ],
            "text/plain": [
              "   Quarter        Sales Quarter_Year       date\n",
              "0    Q1_86  1734.827000      Q1 1986 1986-01-01\n",
              "1    Q2_86  2244.960999      Q2 1986 1986-04-01\n",
              "2    Q3_86  2533.804993      Q3 1986 1986-07-01\n",
              "3    Q4_86  2154.962997      Q4 1986 1986-10-01\n",
              "4    Q1_87  1547.818996      Q1 1987 1987-01-01\n",
              "5    Q2_87  2104.411995      Q2 1987 1987-04-01\n",
              "6    Q3_87  2014.362999      Q3 1987 1987-07-01\n",
              "7    Q4_87  1991.746998      Q4 1987 1987-10-01\n",
              "8    Q1_88  1869.049999      Q1 1988 1988-01-01\n",
              "9    Q2_88  2313.631996      Q2 1988 1988-04-01\n",
              "10   Q3_88  2128.320000      Q3 1988 1988-07-01\n",
              "11   Q4_88  2026.828999      Q4 1988 1988-10-01\n",
              "12   Q1_89  1910.603996      Q1 1989 1989-01-01\n",
              "13   Q2_89  2331.164993      Q2 1989 1989-04-01\n",
              "14   Q3_89  2206.549995      Q3 1989 1989-07-01\n",
              "15   Q4_89  2173.967995      Q4 1989 1989-10-01\n",
              "16   Q1_90  2148.278000      Q1 1990 1990-01-01\n",
              "17   Q2_90  2739.307999      Q2 1990 1990-04-01\n",
              "18   Q3_90  2792.753998      Q3 1990 1990-07-01\n",
              "19   Q4_90  2556.009995      Q4 1990 1990-10-01\n",
              "20   Q1_91  2480.973999      Q1 1991 1991-01-01\n",
              "21   Q2_91  3039.522995      Q2 1991 1991-04-01\n",
              "22   Q3_91  3172.115997      Q3 1991 1991-07-01\n",
              "23   Q4_91  2879.000999      Q4 1991 1991-10-01\n",
              "24   Q1_92  2772.000000      Q1 1992 1992-01-01\n",
              "25   Q2_92  3550.000000      Q2 1992 1992-04-01\n",
              "26   Q3_92  3508.000000      Q3 1992 1992-07-01\n",
              "27   Q4_92  3243.859993      Q4 1992 1992-10-01\n",
              "28   Q1_93  3056.000000      Q1 1993 1993-01-01\n",
              "29   Q2_93  3899.000000      Q2 1993 1993-04-01\n",
              "30   Q3_93  3629.000000      Q3 1993 1993-07-01\n",
              "31   Q4_93  3373.000000      Q4 1993 1993-10-01\n",
              "32   Q1_94  3352.000000      Q1 1994 1994-01-01\n",
              "33   Q2_94  4342.000000      Q2 1994 1994-04-01\n",
              "34   Q3_94  4461.000000      Q3 1994 1994-07-01\n",
              "35   Q4_94  4017.000000      Q4 1994 1994-10-01\n",
              "36   Q1_95  3854.000000      Q1 1995 1995-01-01\n",
              "37   Q2_95  4936.000000      Q2 1995 1995-04-01\n",
              "38   Q3_95  4895.000000      Q3 1995 1995-07-01\n",
              "39   Q4_95  4333.000000      Q4 1995 1995-10-01\n",
              "40   Q1_96  4194.000000      Q1 1996 1996-01-01\n",
              "41   Q2_96  5253.000000      Q2 1996 1996-04-01"
            ]
          },
          "metadata": {},
          "execution_count": 12
        }
      ]
    },
    {
      "cell_type": "code",
      "metadata": {
        "colab": {
          "base_uri": "https://localhost:8080/"
        },
        "id": "ffcBMwTSCeU0",
        "outputId": "9756130e-aa52-41e6-b731-9196b4d23b4b"
      },
      "source": [
        "df.info()"
      ],
      "execution_count": 13,
      "outputs": [
        {
          "output_type": "stream",
          "name": "stdout",
          "text": [
            "<class 'pandas.core.frame.DataFrame'>\n",
            "RangeIndex: 42 entries, 0 to 41\n",
            "Data columns (total 4 columns):\n",
            " #   Column        Non-Null Count  Dtype         \n",
            "---  ------        --------------  -----         \n",
            " 0   Quarter       42 non-null     object        \n",
            " 1   Sales         42 non-null     float64       \n",
            " 2   Quarter_Year  42 non-null     object        \n",
            " 3   date          42 non-null     datetime64[ns]\n",
            "dtypes: datetime64[ns](1), float64(1), object(2)\n",
            "memory usage: 1.4+ KB\n"
          ]
        }
      ]
    },
    {
      "cell_type": "code",
      "metadata": {
        "id": "QHyJZQYkCh-V"
      },
      "source": [
        "## droping the Column Quarter and Quarter_Year from the data set as we had get our required ate time column and no need for object coumn"
      ],
      "execution_count": 14,
      "outputs": []
    },
    {
      "cell_type": "code",
      "metadata": {
        "id": "YssAFo-YCDlj"
      },
      "source": [
        "df.drop(columns=['Quarter','Quarter_Year'],inplace=True)"
      ],
      "execution_count": 15,
      "outputs": []
    },
    {
      "cell_type": "code",
      "metadata": {
        "colab": {
          "base_uri": "https://localhost:8080/",
          "height": 1000
        },
        "id": "0-GVrQBdC2yq",
        "outputId": "62b47dbd-8b59-436e-f578-01f0dd272152"
      },
      "source": [
        "df"
      ],
      "execution_count": 16,
      "outputs": [
        {
          "output_type": "execute_result",
          "data": {
            "text/html": [
              "<div>\n",
              "<style scoped>\n",
              "    .dataframe tbody tr th:only-of-type {\n",
              "        vertical-align: middle;\n",
              "    }\n",
              "\n",
              "    .dataframe tbody tr th {\n",
              "        vertical-align: top;\n",
              "    }\n",
              "\n",
              "    .dataframe thead th {\n",
              "        text-align: right;\n",
              "    }\n",
              "</style>\n",
              "<table border=\"1\" class=\"dataframe\">\n",
              "  <thead>\n",
              "    <tr style=\"text-align: right;\">\n",
              "      <th></th>\n",
              "      <th>Sales</th>\n",
              "      <th>date</th>\n",
              "    </tr>\n",
              "  </thead>\n",
              "  <tbody>\n",
              "    <tr>\n",
              "      <th>0</th>\n",
              "      <td>1734.827000</td>\n",
              "      <td>1986-01-01</td>\n",
              "    </tr>\n",
              "    <tr>\n",
              "      <th>1</th>\n",
              "      <td>2244.960999</td>\n",
              "      <td>1986-04-01</td>\n",
              "    </tr>\n",
              "    <tr>\n",
              "      <th>2</th>\n",
              "      <td>2533.804993</td>\n",
              "      <td>1986-07-01</td>\n",
              "    </tr>\n",
              "    <tr>\n",
              "      <th>3</th>\n",
              "      <td>2154.962997</td>\n",
              "      <td>1986-10-01</td>\n",
              "    </tr>\n",
              "    <tr>\n",
              "      <th>4</th>\n",
              "      <td>1547.818996</td>\n",
              "      <td>1987-01-01</td>\n",
              "    </tr>\n",
              "    <tr>\n",
              "      <th>5</th>\n",
              "      <td>2104.411995</td>\n",
              "      <td>1987-04-01</td>\n",
              "    </tr>\n",
              "    <tr>\n",
              "      <th>6</th>\n",
              "      <td>2014.362999</td>\n",
              "      <td>1987-07-01</td>\n",
              "    </tr>\n",
              "    <tr>\n",
              "      <th>7</th>\n",
              "      <td>1991.746998</td>\n",
              "      <td>1987-10-01</td>\n",
              "    </tr>\n",
              "    <tr>\n",
              "      <th>8</th>\n",
              "      <td>1869.049999</td>\n",
              "      <td>1988-01-01</td>\n",
              "    </tr>\n",
              "    <tr>\n",
              "      <th>9</th>\n",
              "      <td>2313.631996</td>\n",
              "      <td>1988-04-01</td>\n",
              "    </tr>\n",
              "    <tr>\n",
              "      <th>10</th>\n",
              "      <td>2128.320000</td>\n",
              "      <td>1988-07-01</td>\n",
              "    </tr>\n",
              "    <tr>\n",
              "      <th>11</th>\n",
              "      <td>2026.828999</td>\n",
              "      <td>1988-10-01</td>\n",
              "    </tr>\n",
              "    <tr>\n",
              "      <th>12</th>\n",
              "      <td>1910.603996</td>\n",
              "      <td>1989-01-01</td>\n",
              "    </tr>\n",
              "    <tr>\n",
              "      <th>13</th>\n",
              "      <td>2331.164993</td>\n",
              "      <td>1989-04-01</td>\n",
              "    </tr>\n",
              "    <tr>\n",
              "      <th>14</th>\n",
              "      <td>2206.549995</td>\n",
              "      <td>1989-07-01</td>\n",
              "    </tr>\n",
              "    <tr>\n",
              "      <th>15</th>\n",
              "      <td>2173.967995</td>\n",
              "      <td>1989-10-01</td>\n",
              "    </tr>\n",
              "    <tr>\n",
              "      <th>16</th>\n",
              "      <td>2148.278000</td>\n",
              "      <td>1990-01-01</td>\n",
              "    </tr>\n",
              "    <tr>\n",
              "      <th>17</th>\n",
              "      <td>2739.307999</td>\n",
              "      <td>1990-04-01</td>\n",
              "    </tr>\n",
              "    <tr>\n",
              "      <th>18</th>\n",
              "      <td>2792.753998</td>\n",
              "      <td>1990-07-01</td>\n",
              "    </tr>\n",
              "    <tr>\n",
              "      <th>19</th>\n",
              "      <td>2556.009995</td>\n",
              "      <td>1990-10-01</td>\n",
              "    </tr>\n",
              "    <tr>\n",
              "      <th>20</th>\n",
              "      <td>2480.973999</td>\n",
              "      <td>1991-01-01</td>\n",
              "    </tr>\n",
              "    <tr>\n",
              "      <th>21</th>\n",
              "      <td>3039.522995</td>\n",
              "      <td>1991-04-01</td>\n",
              "    </tr>\n",
              "    <tr>\n",
              "      <th>22</th>\n",
              "      <td>3172.115997</td>\n",
              "      <td>1991-07-01</td>\n",
              "    </tr>\n",
              "    <tr>\n",
              "      <th>23</th>\n",
              "      <td>2879.000999</td>\n",
              "      <td>1991-10-01</td>\n",
              "    </tr>\n",
              "    <tr>\n",
              "      <th>24</th>\n",
              "      <td>2772.000000</td>\n",
              "      <td>1992-01-01</td>\n",
              "    </tr>\n",
              "    <tr>\n",
              "      <th>25</th>\n",
              "      <td>3550.000000</td>\n",
              "      <td>1992-04-01</td>\n",
              "    </tr>\n",
              "    <tr>\n",
              "      <th>26</th>\n",
              "      <td>3508.000000</td>\n",
              "      <td>1992-07-01</td>\n",
              "    </tr>\n",
              "    <tr>\n",
              "      <th>27</th>\n",
              "      <td>3243.859993</td>\n",
              "      <td>1992-10-01</td>\n",
              "    </tr>\n",
              "    <tr>\n",
              "      <th>28</th>\n",
              "      <td>3056.000000</td>\n",
              "      <td>1993-01-01</td>\n",
              "    </tr>\n",
              "    <tr>\n",
              "      <th>29</th>\n",
              "      <td>3899.000000</td>\n",
              "      <td>1993-04-01</td>\n",
              "    </tr>\n",
              "    <tr>\n",
              "      <th>30</th>\n",
              "      <td>3629.000000</td>\n",
              "      <td>1993-07-01</td>\n",
              "    </tr>\n",
              "    <tr>\n",
              "      <th>31</th>\n",
              "      <td>3373.000000</td>\n",
              "      <td>1993-10-01</td>\n",
              "    </tr>\n",
              "    <tr>\n",
              "      <th>32</th>\n",
              "      <td>3352.000000</td>\n",
              "      <td>1994-01-01</td>\n",
              "    </tr>\n",
              "    <tr>\n",
              "      <th>33</th>\n",
              "      <td>4342.000000</td>\n",
              "      <td>1994-04-01</td>\n",
              "    </tr>\n",
              "    <tr>\n",
              "      <th>34</th>\n",
              "      <td>4461.000000</td>\n",
              "      <td>1994-07-01</td>\n",
              "    </tr>\n",
              "    <tr>\n",
              "      <th>35</th>\n",
              "      <td>4017.000000</td>\n",
              "      <td>1994-10-01</td>\n",
              "    </tr>\n",
              "    <tr>\n",
              "      <th>36</th>\n",
              "      <td>3854.000000</td>\n",
              "      <td>1995-01-01</td>\n",
              "    </tr>\n",
              "    <tr>\n",
              "      <th>37</th>\n",
              "      <td>4936.000000</td>\n",
              "      <td>1995-04-01</td>\n",
              "    </tr>\n",
              "    <tr>\n",
              "      <th>38</th>\n",
              "      <td>4895.000000</td>\n",
              "      <td>1995-07-01</td>\n",
              "    </tr>\n",
              "    <tr>\n",
              "      <th>39</th>\n",
              "      <td>4333.000000</td>\n",
              "      <td>1995-10-01</td>\n",
              "    </tr>\n",
              "    <tr>\n",
              "      <th>40</th>\n",
              "      <td>4194.000000</td>\n",
              "      <td>1996-01-01</td>\n",
              "    </tr>\n",
              "    <tr>\n",
              "      <th>41</th>\n",
              "      <td>5253.000000</td>\n",
              "      <td>1996-04-01</td>\n",
              "    </tr>\n",
              "  </tbody>\n",
              "</table>\n",
              "</div>"
            ],
            "text/plain": [
              "          Sales       date\n",
              "0   1734.827000 1986-01-01\n",
              "1   2244.960999 1986-04-01\n",
              "2   2533.804993 1986-07-01\n",
              "3   2154.962997 1986-10-01\n",
              "4   1547.818996 1987-01-01\n",
              "5   2104.411995 1987-04-01\n",
              "6   2014.362999 1987-07-01\n",
              "7   1991.746998 1987-10-01\n",
              "8   1869.049999 1988-01-01\n",
              "9   2313.631996 1988-04-01\n",
              "10  2128.320000 1988-07-01\n",
              "11  2026.828999 1988-10-01\n",
              "12  1910.603996 1989-01-01\n",
              "13  2331.164993 1989-04-01\n",
              "14  2206.549995 1989-07-01\n",
              "15  2173.967995 1989-10-01\n",
              "16  2148.278000 1990-01-01\n",
              "17  2739.307999 1990-04-01\n",
              "18  2792.753998 1990-07-01\n",
              "19  2556.009995 1990-10-01\n",
              "20  2480.973999 1991-01-01\n",
              "21  3039.522995 1991-04-01\n",
              "22  3172.115997 1991-07-01\n",
              "23  2879.000999 1991-10-01\n",
              "24  2772.000000 1992-01-01\n",
              "25  3550.000000 1992-04-01\n",
              "26  3508.000000 1992-07-01\n",
              "27  3243.859993 1992-10-01\n",
              "28  3056.000000 1993-01-01\n",
              "29  3899.000000 1993-04-01\n",
              "30  3629.000000 1993-07-01\n",
              "31  3373.000000 1993-10-01\n",
              "32  3352.000000 1994-01-01\n",
              "33  4342.000000 1994-04-01\n",
              "34  4461.000000 1994-07-01\n",
              "35  4017.000000 1994-10-01\n",
              "36  3854.000000 1995-01-01\n",
              "37  4936.000000 1995-04-01\n",
              "38  4895.000000 1995-07-01\n",
              "39  4333.000000 1995-10-01\n",
              "40  4194.000000 1996-01-01\n",
              "41  5253.000000 1996-04-01"
            ]
          },
          "metadata": {},
          "execution_count": 16
        }
      ]
    },
    {
      "cell_type": "code",
      "metadata": {
        "colab": {
          "base_uri": "https://localhost:8080/"
        },
        "id": "E4RugigfC3lh",
        "outputId": "18e80e30-5ad1-4012-88f8-07cf4e5d83e9"
      },
      "source": [
        "df.isnull().sum().sum()\n",
        "## no nan values in the data set"
      ],
      "execution_count": 17,
      "outputs": [
        {
          "output_type": "execute_result",
          "data": {
            "text/plain": [
              "0"
            ]
          },
          "metadata": {},
          "execution_count": 17
        }
      ]
    },
    {
      "cell_type": "code",
      "metadata": {
        "colab": {
          "base_uri": "https://localhost:8080/"
        },
        "id": "ZswIgwt2DGRX",
        "outputId": "2f785c2a-3d0a-4ae5-871a-07940af4d9db"
      },
      "source": [
        "df[df.duplicated()].shape\n",
        "# no duplicated values"
      ],
      "execution_count": 18,
      "outputs": [
        {
          "output_type": "execute_result",
          "data": {
            "text/plain": [
              "(0, 2)"
            ]
          },
          "metadata": {},
          "execution_count": 18
        }
      ]
    },
    {
      "cell_type": "code",
      "metadata": {
        "id": "kPqaOSkzDTt7"
      },
      "source": [
        "Df = df[['date','Sales']]\n",
        "## here we are shifting the columns of date and Sales to make it correct for date column as we need to make the date column as index column\n"
      ],
      "execution_count": 19,
      "outputs": []
    },
    {
      "cell_type": "code",
      "metadata": {
        "colab": {
          "base_uri": "https://localhost:8080/",
          "height": 1000
        },
        "id": "tJtBI-6UDXBT",
        "outputId": "19d684b5-fc03-4f82-e52e-8923282c6523"
      },
      "source": [
        "Df"
      ],
      "execution_count": 20,
      "outputs": [
        {
          "output_type": "execute_result",
          "data": {
            "text/html": [
              "<div>\n",
              "<style scoped>\n",
              "    .dataframe tbody tr th:only-of-type {\n",
              "        vertical-align: middle;\n",
              "    }\n",
              "\n",
              "    .dataframe tbody tr th {\n",
              "        vertical-align: top;\n",
              "    }\n",
              "\n",
              "    .dataframe thead th {\n",
              "        text-align: right;\n",
              "    }\n",
              "</style>\n",
              "<table border=\"1\" class=\"dataframe\">\n",
              "  <thead>\n",
              "    <tr style=\"text-align: right;\">\n",
              "      <th></th>\n",
              "      <th>date</th>\n",
              "      <th>Sales</th>\n",
              "    </tr>\n",
              "  </thead>\n",
              "  <tbody>\n",
              "    <tr>\n",
              "      <th>0</th>\n",
              "      <td>1986-01-01</td>\n",
              "      <td>1734.827000</td>\n",
              "    </tr>\n",
              "    <tr>\n",
              "      <th>1</th>\n",
              "      <td>1986-04-01</td>\n",
              "      <td>2244.960999</td>\n",
              "    </tr>\n",
              "    <tr>\n",
              "      <th>2</th>\n",
              "      <td>1986-07-01</td>\n",
              "      <td>2533.804993</td>\n",
              "    </tr>\n",
              "    <tr>\n",
              "      <th>3</th>\n",
              "      <td>1986-10-01</td>\n",
              "      <td>2154.962997</td>\n",
              "    </tr>\n",
              "    <tr>\n",
              "      <th>4</th>\n",
              "      <td>1987-01-01</td>\n",
              "      <td>1547.818996</td>\n",
              "    </tr>\n",
              "    <tr>\n",
              "      <th>5</th>\n",
              "      <td>1987-04-01</td>\n",
              "      <td>2104.411995</td>\n",
              "    </tr>\n",
              "    <tr>\n",
              "      <th>6</th>\n",
              "      <td>1987-07-01</td>\n",
              "      <td>2014.362999</td>\n",
              "    </tr>\n",
              "    <tr>\n",
              "      <th>7</th>\n",
              "      <td>1987-10-01</td>\n",
              "      <td>1991.746998</td>\n",
              "    </tr>\n",
              "    <tr>\n",
              "      <th>8</th>\n",
              "      <td>1988-01-01</td>\n",
              "      <td>1869.049999</td>\n",
              "    </tr>\n",
              "    <tr>\n",
              "      <th>9</th>\n",
              "      <td>1988-04-01</td>\n",
              "      <td>2313.631996</td>\n",
              "    </tr>\n",
              "    <tr>\n",
              "      <th>10</th>\n",
              "      <td>1988-07-01</td>\n",
              "      <td>2128.320000</td>\n",
              "    </tr>\n",
              "    <tr>\n",
              "      <th>11</th>\n",
              "      <td>1988-10-01</td>\n",
              "      <td>2026.828999</td>\n",
              "    </tr>\n",
              "    <tr>\n",
              "      <th>12</th>\n",
              "      <td>1989-01-01</td>\n",
              "      <td>1910.603996</td>\n",
              "    </tr>\n",
              "    <tr>\n",
              "      <th>13</th>\n",
              "      <td>1989-04-01</td>\n",
              "      <td>2331.164993</td>\n",
              "    </tr>\n",
              "    <tr>\n",
              "      <th>14</th>\n",
              "      <td>1989-07-01</td>\n",
              "      <td>2206.549995</td>\n",
              "    </tr>\n",
              "    <tr>\n",
              "      <th>15</th>\n",
              "      <td>1989-10-01</td>\n",
              "      <td>2173.967995</td>\n",
              "    </tr>\n",
              "    <tr>\n",
              "      <th>16</th>\n",
              "      <td>1990-01-01</td>\n",
              "      <td>2148.278000</td>\n",
              "    </tr>\n",
              "    <tr>\n",
              "      <th>17</th>\n",
              "      <td>1990-04-01</td>\n",
              "      <td>2739.307999</td>\n",
              "    </tr>\n",
              "    <tr>\n",
              "      <th>18</th>\n",
              "      <td>1990-07-01</td>\n",
              "      <td>2792.753998</td>\n",
              "    </tr>\n",
              "    <tr>\n",
              "      <th>19</th>\n",
              "      <td>1990-10-01</td>\n",
              "      <td>2556.009995</td>\n",
              "    </tr>\n",
              "    <tr>\n",
              "      <th>20</th>\n",
              "      <td>1991-01-01</td>\n",
              "      <td>2480.973999</td>\n",
              "    </tr>\n",
              "    <tr>\n",
              "      <th>21</th>\n",
              "      <td>1991-04-01</td>\n",
              "      <td>3039.522995</td>\n",
              "    </tr>\n",
              "    <tr>\n",
              "      <th>22</th>\n",
              "      <td>1991-07-01</td>\n",
              "      <td>3172.115997</td>\n",
              "    </tr>\n",
              "    <tr>\n",
              "      <th>23</th>\n",
              "      <td>1991-10-01</td>\n",
              "      <td>2879.000999</td>\n",
              "    </tr>\n",
              "    <tr>\n",
              "      <th>24</th>\n",
              "      <td>1992-01-01</td>\n",
              "      <td>2772.000000</td>\n",
              "    </tr>\n",
              "    <tr>\n",
              "      <th>25</th>\n",
              "      <td>1992-04-01</td>\n",
              "      <td>3550.000000</td>\n",
              "    </tr>\n",
              "    <tr>\n",
              "      <th>26</th>\n",
              "      <td>1992-07-01</td>\n",
              "      <td>3508.000000</td>\n",
              "    </tr>\n",
              "    <tr>\n",
              "      <th>27</th>\n",
              "      <td>1992-10-01</td>\n",
              "      <td>3243.859993</td>\n",
              "    </tr>\n",
              "    <tr>\n",
              "      <th>28</th>\n",
              "      <td>1993-01-01</td>\n",
              "      <td>3056.000000</td>\n",
              "    </tr>\n",
              "    <tr>\n",
              "      <th>29</th>\n",
              "      <td>1993-04-01</td>\n",
              "      <td>3899.000000</td>\n",
              "    </tr>\n",
              "    <tr>\n",
              "      <th>30</th>\n",
              "      <td>1993-07-01</td>\n",
              "      <td>3629.000000</td>\n",
              "    </tr>\n",
              "    <tr>\n",
              "      <th>31</th>\n",
              "      <td>1993-10-01</td>\n",
              "      <td>3373.000000</td>\n",
              "    </tr>\n",
              "    <tr>\n",
              "      <th>32</th>\n",
              "      <td>1994-01-01</td>\n",
              "      <td>3352.000000</td>\n",
              "    </tr>\n",
              "    <tr>\n",
              "      <th>33</th>\n",
              "      <td>1994-04-01</td>\n",
              "      <td>4342.000000</td>\n",
              "    </tr>\n",
              "    <tr>\n",
              "      <th>34</th>\n",
              "      <td>1994-07-01</td>\n",
              "      <td>4461.000000</td>\n",
              "    </tr>\n",
              "    <tr>\n",
              "      <th>35</th>\n",
              "      <td>1994-10-01</td>\n",
              "      <td>4017.000000</td>\n",
              "    </tr>\n",
              "    <tr>\n",
              "      <th>36</th>\n",
              "      <td>1995-01-01</td>\n",
              "      <td>3854.000000</td>\n",
              "    </tr>\n",
              "    <tr>\n",
              "      <th>37</th>\n",
              "      <td>1995-04-01</td>\n",
              "      <td>4936.000000</td>\n",
              "    </tr>\n",
              "    <tr>\n",
              "      <th>38</th>\n",
              "      <td>1995-07-01</td>\n",
              "      <td>4895.000000</td>\n",
              "    </tr>\n",
              "    <tr>\n",
              "      <th>39</th>\n",
              "      <td>1995-10-01</td>\n",
              "      <td>4333.000000</td>\n",
              "    </tr>\n",
              "    <tr>\n",
              "      <th>40</th>\n",
              "      <td>1996-01-01</td>\n",
              "      <td>4194.000000</td>\n",
              "    </tr>\n",
              "    <tr>\n",
              "      <th>41</th>\n",
              "      <td>1996-04-01</td>\n",
              "      <td>5253.000000</td>\n",
              "    </tr>\n",
              "  </tbody>\n",
              "</table>\n",
              "</div>"
            ],
            "text/plain": [
              "         date        Sales\n",
              "0  1986-01-01  1734.827000\n",
              "1  1986-04-01  2244.960999\n",
              "2  1986-07-01  2533.804993\n",
              "3  1986-10-01  2154.962997\n",
              "4  1987-01-01  1547.818996\n",
              "5  1987-04-01  2104.411995\n",
              "6  1987-07-01  2014.362999\n",
              "7  1987-10-01  1991.746998\n",
              "8  1988-01-01  1869.049999\n",
              "9  1988-04-01  2313.631996\n",
              "10 1988-07-01  2128.320000\n",
              "11 1988-10-01  2026.828999\n",
              "12 1989-01-01  1910.603996\n",
              "13 1989-04-01  2331.164993\n",
              "14 1989-07-01  2206.549995\n",
              "15 1989-10-01  2173.967995\n",
              "16 1990-01-01  2148.278000\n",
              "17 1990-04-01  2739.307999\n",
              "18 1990-07-01  2792.753998\n",
              "19 1990-10-01  2556.009995\n",
              "20 1991-01-01  2480.973999\n",
              "21 1991-04-01  3039.522995\n",
              "22 1991-07-01  3172.115997\n",
              "23 1991-10-01  2879.000999\n",
              "24 1992-01-01  2772.000000\n",
              "25 1992-04-01  3550.000000\n",
              "26 1992-07-01  3508.000000\n",
              "27 1992-10-01  3243.859993\n",
              "28 1993-01-01  3056.000000\n",
              "29 1993-04-01  3899.000000\n",
              "30 1993-07-01  3629.000000\n",
              "31 1993-10-01  3373.000000\n",
              "32 1994-01-01  3352.000000\n",
              "33 1994-04-01  4342.000000\n",
              "34 1994-07-01  4461.000000\n",
              "35 1994-10-01  4017.000000\n",
              "36 1995-01-01  3854.000000\n",
              "37 1995-04-01  4936.000000\n",
              "38 1995-07-01  4895.000000\n",
              "39 1995-10-01  4333.000000\n",
              "40 1996-01-01  4194.000000\n",
              "41 1996-04-01  5253.000000"
            ]
          },
          "metadata": {},
          "execution_count": 20
        }
      ]
    },
    {
      "cell_type": "code",
      "metadata": {
        "colab": {
          "base_uri": "https://localhost:8080/"
        },
        "id": "57QsxlVyExyt",
        "outputId": "20a231bd-abe6-4cdc-9e85-5ea1aafcd47d"
      },
      "source": [
        "Df.info()"
      ],
      "execution_count": 21,
      "outputs": [
        {
          "output_type": "stream",
          "name": "stdout",
          "text": [
            "<class 'pandas.core.frame.DataFrame'>\n",
            "RangeIndex: 42 entries, 0 to 41\n",
            "Data columns (total 2 columns):\n",
            " #   Column  Non-Null Count  Dtype         \n",
            "---  ------  --------------  -----         \n",
            " 0   date    42 non-null     datetime64[ns]\n",
            " 1   Sales   42 non-null     float64       \n",
            "dtypes: datetime64[ns](1), float64(1)\n",
            "memory usage: 800.0 bytes\n"
          ]
        }
      ]
    },
    {
      "cell_type": "code",
      "metadata": {
        "colab": {
          "base_uri": "https://localhost:8080/",
          "height": 295
        },
        "id": "tP-W6lhkE8i3",
        "outputId": "0b256661-960d-4dc7-90b2-206e0acc1606"
      },
      "source": [
        "Df.describe()"
      ],
      "execution_count": 22,
      "outputs": [
        {
          "output_type": "execute_result",
          "data": {
            "text/html": [
              "<div>\n",
              "<style scoped>\n",
              "    .dataframe tbody tr th:only-of-type {\n",
              "        vertical-align: middle;\n",
              "    }\n",
              "\n",
              "    .dataframe tbody tr th {\n",
              "        vertical-align: top;\n",
              "    }\n",
              "\n",
              "    .dataframe thead th {\n",
              "        text-align: right;\n",
              "    }\n",
              "</style>\n",
              "<table border=\"1\" class=\"dataframe\">\n",
              "  <thead>\n",
              "    <tr style=\"text-align: right;\">\n",
              "      <th></th>\n",
              "      <th>Sales</th>\n",
              "    </tr>\n",
              "  </thead>\n",
              "  <tbody>\n",
              "    <tr>\n",
              "      <th>count</th>\n",
              "      <td>42.000000</td>\n",
              "    </tr>\n",
              "    <tr>\n",
              "      <th>mean</th>\n",
              "      <td>2994.353308</td>\n",
              "    </tr>\n",
              "    <tr>\n",
              "      <th>std</th>\n",
              "      <td>977.930896</td>\n",
              "    </tr>\n",
              "    <tr>\n",
              "      <th>min</th>\n",
              "      <td>1547.818996</td>\n",
              "    </tr>\n",
              "    <tr>\n",
              "      <th>25%</th>\n",
              "      <td>2159.714247</td>\n",
              "    </tr>\n",
              "    <tr>\n",
              "      <th>50%</th>\n",
              "      <td>2782.376999</td>\n",
              "    </tr>\n",
              "    <tr>\n",
              "      <th>75%</th>\n",
              "      <td>3609.250000</td>\n",
              "    </tr>\n",
              "    <tr>\n",
              "      <th>max</th>\n",
              "      <td>5253.000000</td>\n",
              "    </tr>\n",
              "  </tbody>\n",
              "</table>\n",
              "</div>"
            ],
            "text/plain": [
              "             Sales\n",
              "count    42.000000\n",
              "mean   2994.353308\n",
              "std     977.930896\n",
              "min    1547.818996\n",
              "25%    2159.714247\n",
              "50%    2782.376999\n",
              "75%    3609.250000\n",
              "max    5253.000000"
            ]
          },
          "metadata": {},
          "execution_count": 22
        }
      ]
    },
    {
      "cell_type": "code",
      "metadata": {
        "id": "aPsVSFTRE-M-"
      },
      "source": [
        "Df.set_index('date',inplace=True)\n",
        "## converted ate column to index"
      ],
      "execution_count": 23,
      "outputs": []
    },
    {
      "cell_type": "code",
      "metadata": {
        "colab": {
          "base_uri": "https://localhost:8080/",
          "height": 234
        },
        "id": "gRjdz1qVFIPQ",
        "outputId": "c7e192f7-142c-494f-e11b-36e2a67bf93e"
      },
      "source": [
        "Df.head()"
      ],
      "execution_count": 24,
      "outputs": [
        {
          "output_type": "execute_result",
          "data": {
            "text/html": [
              "<div>\n",
              "<style scoped>\n",
              "    .dataframe tbody tr th:only-of-type {\n",
              "        vertical-align: middle;\n",
              "    }\n",
              "\n",
              "    .dataframe tbody tr th {\n",
              "        vertical-align: top;\n",
              "    }\n",
              "\n",
              "    .dataframe thead th {\n",
              "        text-align: right;\n",
              "    }\n",
              "</style>\n",
              "<table border=\"1\" class=\"dataframe\">\n",
              "  <thead>\n",
              "    <tr style=\"text-align: right;\">\n",
              "      <th></th>\n",
              "      <th>Sales</th>\n",
              "    </tr>\n",
              "    <tr>\n",
              "      <th>date</th>\n",
              "      <th></th>\n",
              "    </tr>\n",
              "  </thead>\n",
              "  <tbody>\n",
              "    <tr>\n",
              "      <th>1986-01-01</th>\n",
              "      <td>1734.827000</td>\n",
              "    </tr>\n",
              "    <tr>\n",
              "      <th>1986-04-01</th>\n",
              "      <td>2244.960999</td>\n",
              "    </tr>\n",
              "    <tr>\n",
              "      <th>1986-07-01</th>\n",
              "      <td>2533.804993</td>\n",
              "    </tr>\n",
              "    <tr>\n",
              "      <th>1986-10-01</th>\n",
              "      <td>2154.962997</td>\n",
              "    </tr>\n",
              "    <tr>\n",
              "      <th>1987-01-01</th>\n",
              "      <td>1547.818996</td>\n",
              "    </tr>\n",
              "  </tbody>\n",
              "</table>\n",
              "</div>"
            ],
            "text/plain": [
              "                  Sales\n",
              "date                   \n",
              "1986-01-01  1734.827000\n",
              "1986-04-01  2244.960999\n",
              "1986-07-01  2533.804993\n",
              "1986-10-01  2154.962997\n",
              "1987-01-01  1547.818996"
            ]
          },
          "metadata": {},
          "execution_count": 24
        }
      ]
    },
    {
      "cell_type": "code",
      "metadata": {
        "colab": {
          "base_uri": "https://localhost:8080/"
        },
        "id": "orP05o3BFIqN",
        "outputId": "879ec229-b7a2-42ad-f7b7-97d01547dd80"
      },
      "source": [
        "Df.index.year"
      ],
      "execution_count": 25,
      "outputs": [
        {
          "output_type": "execute_result",
          "data": {
            "text/plain": [
              "Int64Index([1986, 1986, 1986, 1986, 1987, 1987, 1987, 1987, 1988, 1988, 1988,\n",
              "            1988, 1989, 1989, 1989, 1989, 1990, 1990, 1990, 1990, 1991, 1991,\n",
              "            1991, 1991, 1992, 1992, 1992, 1992, 1993, 1993, 1993, 1993, 1994,\n",
              "            1994, 1994, 1994, 1995, 1995, 1995, 1995, 1996, 1996],\n",
              "           dtype='int64', name='date')"
            ]
          },
          "metadata": {},
          "execution_count": 25
        }
      ]
    },
    {
      "cell_type": "code",
      "metadata": {
        "id": "n0cVuy5aFW9X"
      },
      "source": [
        "DF = Df.copy()\n",
        "## copied the data from Df to DF so that any changes done to coppied data does not reflect to original data"
      ],
      "execution_count": 26,
      "outputs": []
    },
    {
      "cell_type": "code",
      "metadata": {
        "colab": {
          "base_uri": "https://localhost:8080/",
          "height": 1000
        },
        "id": "0iuZRYLmFpin",
        "outputId": "35b496a9-09e3-4484-ca4e-fbba9c6e4dec"
      },
      "source": [
        "DF"
      ],
      "execution_count": 27,
      "outputs": [
        {
          "output_type": "execute_result",
          "data": {
            "text/html": [
              "<div>\n",
              "<style scoped>\n",
              "    .dataframe tbody tr th:only-of-type {\n",
              "        vertical-align: middle;\n",
              "    }\n",
              "\n",
              "    .dataframe tbody tr th {\n",
              "        vertical-align: top;\n",
              "    }\n",
              "\n",
              "    .dataframe thead th {\n",
              "        text-align: right;\n",
              "    }\n",
              "</style>\n",
              "<table border=\"1\" class=\"dataframe\">\n",
              "  <thead>\n",
              "    <tr style=\"text-align: right;\">\n",
              "      <th></th>\n",
              "      <th>Sales</th>\n",
              "    </tr>\n",
              "    <tr>\n",
              "      <th>date</th>\n",
              "      <th></th>\n",
              "    </tr>\n",
              "  </thead>\n",
              "  <tbody>\n",
              "    <tr>\n",
              "      <th>1986-01-01</th>\n",
              "      <td>1734.827000</td>\n",
              "    </tr>\n",
              "    <tr>\n",
              "      <th>1986-04-01</th>\n",
              "      <td>2244.960999</td>\n",
              "    </tr>\n",
              "    <tr>\n",
              "      <th>1986-07-01</th>\n",
              "      <td>2533.804993</td>\n",
              "    </tr>\n",
              "    <tr>\n",
              "      <th>1986-10-01</th>\n",
              "      <td>2154.962997</td>\n",
              "    </tr>\n",
              "    <tr>\n",
              "      <th>1987-01-01</th>\n",
              "      <td>1547.818996</td>\n",
              "    </tr>\n",
              "    <tr>\n",
              "      <th>1987-04-01</th>\n",
              "      <td>2104.411995</td>\n",
              "    </tr>\n",
              "    <tr>\n",
              "      <th>1987-07-01</th>\n",
              "      <td>2014.362999</td>\n",
              "    </tr>\n",
              "    <tr>\n",
              "      <th>1987-10-01</th>\n",
              "      <td>1991.746998</td>\n",
              "    </tr>\n",
              "    <tr>\n",
              "      <th>1988-01-01</th>\n",
              "      <td>1869.049999</td>\n",
              "    </tr>\n",
              "    <tr>\n",
              "      <th>1988-04-01</th>\n",
              "      <td>2313.631996</td>\n",
              "    </tr>\n",
              "    <tr>\n",
              "      <th>1988-07-01</th>\n",
              "      <td>2128.320000</td>\n",
              "    </tr>\n",
              "    <tr>\n",
              "      <th>1988-10-01</th>\n",
              "      <td>2026.828999</td>\n",
              "    </tr>\n",
              "    <tr>\n",
              "      <th>1989-01-01</th>\n",
              "      <td>1910.603996</td>\n",
              "    </tr>\n",
              "    <tr>\n",
              "      <th>1989-04-01</th>\n",
              "      <td>2331.164993</td>\n",
              "    </tr>\n",
              "    <tr>\n",
              "      <th>1989-07-01</th>\n",
              "      <td>2206.549995</td>\n",
              "    </tr>\n",
              "    <tr>\n",
              "      <th>1989-10-01</th>\n",
              "      <td>2173.967995</td>\n",
              "    </tr>\n",
              "    <tr>\n",
              "      <th>1990-01-01</th>\n",
              "      <td>2148.278000</td>\n",
              "    </tr>\n",
              "    <tr>\n",
              "      <th>1990-04-01</th>\n",
              "      <td>2739.307999</td>\n",
              "    </tr>\n",
              "    <tr>\n",
              "      <th>1990-07-01</th>\n",
              "      <td>2792.753998</td>\n",
              "    </tr>\n",
              "    <tr>\n",
              "      <th>1990-10-01</th>\n",
              "      <td>2556.009995</td>\n",
              "    </tr>\n",
              "    <tr>\n",
              "      <th>1991-01-01</th>\n",
              "      <td>2480.973999</td>\n",
              "    </tr>\n",
              "    <tr>\n",
              "      <th>1991-04-01</th>\n",
              "      <td>3039.522995</td>\n",
              "    </tr>\n",
              "    <tr>\n",
              "      <th>1991-07-01</th>\n",
              "      <td>3172.115997</td>\n",
              "    </tr>\n",
              "    <tr>\n",
              "      <th>1991-10-01</th>\n",
              "      <td>2879.000999</td>\n",
              "    </tr>\n",
              "    <tr>\n",
              "      <th>1992-01-01</th>\n",
              "      <td>2772.000000</td>\n",
              "    </tr>\n",
              "    <tr>\n",
              "      <th>1992-04-01</th>\n",
              "      <td>3550.000000</td>\n",
              "    </tr>\n",
              "    <tr>\n",
              "      <th>1992-07-01</th>\n",
              "      <td>3508.000000</td>\n",
              "    </tr>\n",
              "    <tr>\n",
              "      <th>1992-10-01</th>\n",
              "      <td>3243.859993</td>\n",
              "    </tr>\n",
              "    <tr>\n",
              "      <th>1993-01-01</th>\n",
              "      <td>3056.000000</td>\n",
              "    </tr>\n",
              "    <tr>\n",
              "      <th>1993-04-01</th>\n",
              "      <td>3899.000000</td>\n",
              "    </tr>\n",
              "    <tr>\n",
              "      <th>1993-07-01</th>\n",
              "      <td>3629.000000</td>\n",
              "    </tr>\n",
              "    <tr>\n",
              "      <th>1993-10-01</th>\n",
              "      <td>3373.000000</td>\n",
              "    </tr>\n",
              "    <tr>\n",
              "      <th>1994-01-01</th>\n",
              "      <td>3352.000000</td>\n",
              "    </tr>\n",
              "    <tr>\n",
              "      <th>1994-04-01</th>\n",
              "      <td>4342.000000</td>\n",
              "    </tr>\n",
              "    <tr>\n",
              "      <th>1994-07-01</th>\n",
              "      <td>4461.000000</td>\n",
              "    </tr>\n",
              "    <tr>\n",
              "      <th>1994-10-01</th>\n",
              "      <td>4017.000000</td>\n",
              "    </tr>\n",
              "    <tr>\n",
              "      <th>1995-01-01</th>\n",
              "      <td>3854.000000</td>\n",
              "    </tr>\n",
              "    <tr>\n",
              "      <th>1995-04-01</th>\n",
              "      <td>4936.000000</td>\n",
              "    </tr>\n",
              "    <tr>\n",
              "      <th>1995-07-01</th>\n",
              "      <td>4895.000000</td>\n",
              "    </tr>\n",
              "    <tr>\n",
              "      <th>1995-10-01</th>\n",
              "      <td>4333.000000</td>\n",
              "    </tr>\n",
              "    <tr>\n",
              "      <th>1996-01-01</th>\n",
              "      <td>4194.000000</td>\n",
              "    </tr>\n",
              "    <tr>\n",
              "      <th>1996-04-01</th>\n",
              "      <td>5253.000000</td>\n",
              "    </tr>\n",
              "  </tbody>\n",
              "</table>\n",
              "</div>"
            ],
            "text/plain": [
              "                  Sales\n",
              "date                   \n",
              "1986-01-01  1734.827000\n",
              "1986-04-01  2244.960999\n",
              "1986-07-01  2533.804993\n",
              "1986-10-01  2154.962997\n",
              "1987-01-01  1547.818996\n",
              "1987-04-01  2104.411995\n",
              "1987-07-01  2014.362999\n",
              "1987-10-01  1991.746998\n",
              "1988-01-01  1869.049999\n",
              "1988-04-01  2313.631996\n",
              "1988-07-01  2128.320000\n",
              "1988-10-01  2026.828999\n",
              "1989-01-01  1910.603996\n",
              "1989-04-01  2331.164993\n",
              "1989-07-01  2206.549995\n",
              "1989-10-01  2173.967995\n",
              "1990-01-01  2148.278000\n",
              "1990-04-01  2739.307999\n",
              "1990-07-01  2792.753998\n",
              "1990-10-01  2556.009995\n",
              "1991-01-01  2480.973999\n",
              "1991-04-01  3039.522995\n",
              "1991-07-01  3172.115997\n",
              "1991-10-01  2879.000999\n",
              "1992-01-01  2772.000000\n",
              "1992-04-01  3550.000000\n",
              "1992-07-01  3508.000000\n",
              "1992-10-01  3243.859993\n",
              "1993-01-01  3056.000000\n",
              "1993-04-01  3899.000000\n",
              "1993-07-01  3629.000000\n",
              "1993-10-01  3373.000000\n",
              "1994-01-01  3352.000000\n",
              "1994-04-01  4342.000000\n",
              "1994-07-01  4461.000000\n",
              "1994-10-01  4017.000000\n",
              "1995-01-01  3854.000000\n",
              "1995-04-01  4936.000000\n",
              "1995-07-01  4895.000000\n",
              "1995-10-01  4333.000000\n",
              "1996-01-01  4194.000000\n",
              "1996-04-01  5253.000000"
            ]
          },
          "metadata": {},
          "execution_count": 27
        }
      ]
    },
    {
      "cell_type": "code",
      "metadata": {
        "id": "AtU66j60Fq1M"
      },
      "source": [
        "## Visualization of Data Checking the line plot,Histogram and Density Plots,create a density plot,\n",
        "## Box and Whisker Plots by Interval,Lag Plot, Autocorrelation Plot"
      ],
      "execution_count": 28,
      "outputs": []
    },
    {
      "cell_type": "code",
      "metadata": {
        "colab": {
          "base_uri": "https://localhost:8080/",
          "height": 279
        },
        "id": "lw2t5le2GXa7",
        "outputId": "8f4e9261-56a6-40a4-92e8-712a53a0e61b"
      },
      "source": [
        "DF.plot()\n",
        "plt.show()"
      ],
      "execution_count": 29,
      "outputs": [
        {
          "output_type": "display_data",
          "data": {
            "image/png": "[encoded data removed]",
            "text/plain": [
              "<Figure size 432x288 with 1 Axes>"
            ]
          },
          "metadata": {
            "needs_background": "light"
          }
        }
      ]
    },
    {
      "cell_type": "code",
      "metadata": {
        "id": "lmiLAAbAHIgG"
      },
      "source": [
        "## here we can say that the trend is upward and the sessionality is not so clear but may be quadratic or exponential, "
      ],
      "execution_count": 30,
      "outputs": []
    },
    {
      "cell_type": "code",
      "metadata": {
        "colab": {
          "base_uri": "https://localhost:8080/",
          "height": 281
        },
        "id": "UJS58qGxGZh7",
        "outputId": "da4df601-7ec3-4e60-a62f-4a8cc09781c5"
      },
      "source": [
        "##Histogram and Density Plots\n",
        "\n",
        "DF.hist()\n",
        "plt.show()"
      ],
      "execution_count": 31,
      "outputs": [
        {
          "output_type": "display_data",
          "data": {
            "image/png": "[encoded data removed]",
            "text/plain": [
              "<Figure size 432x288 with 1 Axes>"
            ]
          },
          "metadata": {
            "needs_background": "light"
          }
        }
      ]
    },
    {
      "cell_type": "code",
      "metadata": {
        "colab": {
          "base_uri": "https://localhost:8080/",
          "height": 265
        },
        "id": "y0rNzdNyHBK5",
        "outputId": "ba926732-2471-4735-bdab-5ec01adc4f17"
      },
      "source": [
        "# create a density plot\n",
        "DF.plot(kind='kde')\n",
        "plt.show()"
      ],
      "execution_count": 32,
      "outputs": [
        {
          "output_type": "display_data",
          "data": {
            "image/png": "[encoded data removed]",
            "text/plain": [
              "<Figure size 432x288 with 1 Axes>"
            ]
          },
          "metadata": {
            "needs_background": "light"
          }
        }
      ]
    },
    {
      "cell_type": "code",
      "metadata": {
        "colab": {
          "base_uri": "https://localhost:8080/",
          "height": 265
        },
        "id": "Jtx0oMeXHzyr",
        "outputId": "252ad377-b28f-41a2-d257-628742a6ef32"
      },
      "source": [
        "#Box and Whisker Plots by Interval\n",
        "groups = DF.groupby(Grouper(freq='q'))\n",
        "years = DataFrame()\n",
        "for name, group in groups:\n",
        "    years[name.year] = group.values.reshape(-1,)\n",
        "years.boxplot()\n",
        "plt.show()\n"
      ],
      "execution_count": 33,
      "outputs": [
        {
          "output_type": "display_data",
          "data": {
            "image/png": "[encoded data removed]",
            "text/plain": [
              "<Figure size 432x288 with 1 Axes>"
            ]
          },
          "metadata": {
            "needs_background": "light"
          }
        }
      ]
    },
    {
      "cell_type": "code",
      "metadata": {
        "colab": {
          "base_uri": "https://localhost:8080/",
          "height": 279
        },
        "id": "x17Z6_pWIKD6",
        "outputId": "b7236100-c32e-4ef9-c7cc-adf8b16d72a8"
      },
      "source": [
        "##Lag_plot\n",
        "lag_plot(DF)\n",
        "plt.show()"
      ],
      "execution_count": 34,
      "outputs": [
        {
          "output_type": "display_data",
          "data": {
            "image/png": "[encoded data removed]",
            "text/plain": [
              "<Figure size 432x288 with 1 Axes>"
            ]
          },
          "metadata": {
            "needs_background": "light"
          }
        }
      ]
    },
    {
      "cell_type": "code",
      "metadata": {
        "colab": {
          "base_uri": "https://localhost:8080/",
          "height": 281
        },
        "id": "J9wQR4J-J1aU",
        "outputId": "cd0a6e5a-d028-4f92-e3bc-b699047b734e"
      },
      "source": [
        "#Autocorrelation Plot\n",
        "\n",
        "plot_acf(DF,lags=30)\n",
        "plt.show()"
      ],
      "execution_count": 35,
      "outputs": [
        {
          "output_type": "display_data",
          "data": {
            "image/png": "[encoded data removed]",
            "text/plain": [
              "<Figure size 432x288 with 1 Axes>"
            ]
          },
          "metadata": {
            "needs_background": "light"
          }
        }
      ]
    },
    {
      "cell_type": "markdown",
      "metadata": {
        "id": "M5Jcm7zELuU2"
      },
      "source": [
        "# UpSampling"
      ]
    },
    {
      "cell_type": "code",
      "metadata": {
        "colab": {
          "base_uri": "https://localhost:8080/"
        },
        "id": "79Agl1WKKbec",
        "outputId": "626e6216-431c-4db0-b569-60fe5a129d94"
      },
      "source": [
        "upsampled = DF.resample('M').mean()\n",
        "print(upsampled.head(32))"
      ],
      "execution_count": 36,
      "outputs": [
        {
          "output_type": "stream",
          "name": "stdout",
          "text": [
            "                  Sales\n",
            "date                   \n",
            "1986-01-31  1734.827000\n",
            "1986-02-28          NaN\n",
            "1986-03-31          NaN\n",
            "1986-04-30  2244.960999\n",
            "1986-05-31          NaN\n",
            "1986-06-30          NaN\n",
            "1986-07-31  2533.804993\n",
            "1986-08-31          NaN\n",
            "1986-09-30          NaN\n",
            "1986-10-31  2154.962997\n",
            "1986-11-30          NaN\n",
            "1986-12-31          NaN\n",
            "1987-01-31  1547.818996\n",
            "1987-02-28          NaN\n",
            "1987-03-31          NaN\n",
            "1987-04-30  2104.411995\n",
            "1987-05-31          NaN\n",
            "1987-06-30          NaN\n",
            "1987-07-31  2014.362999\n",
            "1987-08-31          NaN\n",
            "1987-09-30          NaN\n",
            "1987-10-31  1991.746998\n",
            "1987-11-30          NaN\n",
            "1987-12-31          NaN\n",
            "1988-01-31  1869.049999\n",
            "1988-02-29          NaN\n",
            "1988-03-31          NaN\n",
            "1988-04-30  2313.631996\n",
            "1988-05-31          NaN\n",
            "1988-06-30          NaN\n",
            "1988-07-31  2128.320000\n",
            "1988-08-31          NaN\n"
          ]
        }
      ]
    },
    {
      "cell_type": "code",
      "metadata": {
        "colab": {
          "base_uri": "https://localhost:8080/",
          "height": 565
        },
        "id": "u7PXqoD6L-YZ",
        "outputId": "9ba91c98-7f87-4915-f420-61b34b607c91"
      },
      "source": [
        "interpolated = upsampled.interpolate(method='linear') ## interplation was done for nan values which we get after doing upsampling by month\n",
        "print(interpolated.head(15))\n",
        "interpolated.plot()\n",
        "plt.show()"
      ],
      "execution_count": 37,
      "outputs": [
        {
          "output_type": "stream",
          "name": "stdout",
          "text": [
            "                  Sales\n",
            "date                   \n",
            "1986-01-31  1734.827000\n",
            "1986-02-28  1904.871666\n",
            "1986-03-31  2074.916332\n",
            "1986-04-30  2244.960999\n",
            "1986-05-31  2341.242330\n",
            "1986-06-30  2437.523661\n",
            "1986-07-31  2533.804993\n",
            "1986-08-31  2407.524328\n",
            "1986-09-30  2281.243663\n",
            "1986-10-31  2154.962997\n",
            "1986-11-30  1952.581664\n",
            "1986-12-31  1750.200330\n",
            "1987-01-31  1547.818996\n",
            "1987-02-28  1733.349996\n",
            "1987-03-31  1918.880995\n"
          ]
        },
        {
          "output_type": "display_data",
          "data": {
            "image/png": "[encoded data removed]",
            "text/plain": [
              "<Figure size 432x288 with 1 Axes>"
            ]
          },
          "metadata": {
            "needs_background": "light"
          }
        }
      ]
    },
    {
      "cell_type": "code",
      "metadata": {
        "colab": {
          "base_uri": "https://localhost:8080/",
          "height": 447
        },
        "id": "piXEaoubi3io",
        "outputId": "f2df321a-6303-4ceb-b68d-6ac10cb577c2"
      },
      "source": [
        "interpolated"
      ],
      "execution_count": 38,
      "outputs": [
        {
          "output_type": "execute_result",
          "data": {
            "text/html": [
              "<div>\n",
              "<style scoped>\n",
              "    .dataframe tbody tr th:only-of-type {\n",
              "        vertical-align: middle;\n",
              "    }\n",
              "\n",
              "    .dataframe tbody tr th {\n",
              "        vertical-align: top;\n",
              "    }\n",
              "\n",
              "    .dataframe thead th {\n",
              "        text-align: right;\n",
              "    }\n",
              "</style>\n",
              "<table border=\"1\" class=\"dataframe\">\n",
              "  <thead>\n",
              "    <tr style=\"text-align: right;\">\n",
              "      <th></th>\n",
              "      <th>Sales</th>\n",
              "    </tr>\n",
              "    <tr>\n",
              "      <th>date</th>\n",
              "      <th></th>\n",
              "    </tr>\n",
              "  </thead>\n",
              "  <tbody>\n",
              "    <tr>\n",
              "      <th>1986-01-31</th>\n",
              "      <td>1734.827000</td>\n",
              "    </tr>\n",
              "    <tr>\n",
              "      <th>1986-02-28</th>\n",
              "      <td>1904.871666</td>\n",
              "    </tr>\n",
              "    <tr>\n",
              "      <th>1986-03-31</th>\n",
              "      <td>2074.916332</td>\n",
              "    </tr>\n",
              "    <tr>\n",
              "      <th>1986-04-30</th>\n",
              "      <td>2244.960999</td>\n",
              "    </tr>\n",
              "    <tr>\n",
              "      <th>1986-05-31</th>\n",
              "      <td>2341.242330</td>\n",
              "    </tr>\n",
              "    <tr>\n",
              "      <th>...</th>\n",
              "      <td>...</td>\n",
              "    </tr>\n",
              "    <tr>\n",
              "      <th>1995-12-31</th>\n",
              "      <td>4240.333333</td>\n",
              "    </tr>\n",
              "    <tr>\n",
              "      <th>1996-01-31</th>\n",
              "      <td>4194.000000</td>\n",
              "    </tr>\n",
              "    <tr>\n",
              "      <th>1996-02-29</th>\n",
              "      <td>4547.000000</td>\n",
              "    </tr>\n",
              "    <tr>\n",
              "      <th>1996-03-31</th>\n",
              "      <td>4900.000000</td>\n",
              "    </tr>\n",
              "    <tr>\n",
              "      <th>1996-04-30</th>\n",
              "      <td>5253.000000</td>\n",
              "    </tr>\n",
              "  </tbody>\n",
              "</table>\n",
              "<p>124 rows × 1 columns</p>\n",
              "</div>"
            ],
            "text/plain": [
              "                  Sales\n",
              "date                   \n",
              "1986-01-31  1734.827000\n",
              "1986-02-28  1904.871666\n",
              "1986-03-31  2074.916332\n",
              "1986-04-30  2244.960999\n",
              "1986-05-31  2341.242330\n",
              "...                 ...\n",
              "1995-12-31  4240.333333\n",
              "1996-01-31  4194.000000\n",
              "1996-02-29  4547.000000\n",
              "1996-03-31  4900.000000\n",
              "1996-04-30  5253.000000\n",
              "\n",
              "[124 rows x 1 columns]"
            ]
          },
          "metadata": {},
          "execution_count": 38
        }
      ]
    },
    {
      "cell_type": "markdown",
      "metadata": {
        "id": "n0B0L9eVMgcG"
      },
      "source": [
        "# Tranformations"
      ]
    },
    {
      "cell_type": "code",
      "metadata": {
        "colab": {
          "base_uri": "https://localhost:8080/",
          "height": 164
        },
        "id": "hjrwRPFSMMvU",
        "outputId": "e19e6564-1117-4a89-b87f-c60c474b57f6"
      },
      "source": [
        "# line plot\n",
        "plt.subplot(211)\n",
        "plt.plot(DF)"
      ],
      "execution_count": 39,
      "outputs": [
        {
          "output_type": "execute_result",
          "data": {
            "text/plain": [
              "[<matplotlib.lines.Line2D at 0x7f70b9483fd0>]"
            ]
          },
          "metadata": {},
          "execution_count": 39
        },
        {
          "output_type": "display_data",
          "data": {
            "image/png": "[encoded data removed]",
            "text/plain": [
              "<Figure size 432x288 with 1 Axes>"
            ]
          },
          "metadata": {
            "needs_background": "light"
          }
        }
      ]
    },
    {
      "cell_type": "code",
      "metadata": {
        "colab": {
          "base_uri": "https://localhost:8080/",
          "height": 147
        },
        "id": "n0oJXMBMMpAR",
        "outputId": "22f0805e-eee5-4b3e-f3ee-ed91557e1920"
      },
      "source": [
        "# histogram\n",
        "plt.subplot(212)\n",
        "plt.hist(DF)\n",
        "plt.show()"
      ],
      "execution_count": 40,
      "outputs": [
        {
          "output_type": "display_data",
          "data": {
            "image/png": "[encoded data removed]",
            "text/plain": [
              "<Figure size 432x288 with 1 Axes>"
            ]
          },
          "metadata": {
            "needs_background": "light"
          }
        }
      ]
    },
    {
      "cell_type": "markdown",
      "metadata": {
        "id": "BOLPA1vYM_lF"
      },
      "source": [
        "# Square Root Transform"
      ]
    },
    {
      "cell_type": "code",
      "metadata": {
        "id": "11ZNmvWmM2r4"
      },
      "source": [
        "dataframe = DataFrame(DF.values)\n",
        "dataframe.columns = ['Sales']\n",
        "dataframe['Sales'] = sqrt(dataframe['Sales'])"
      ],
      "execution_count": 41,
      "outputs": []
    },
    {
      "cell_type": "code",
      "metadata": {
        "colab": {
          "base_uri": "https://localhost:8080/",
          "height": 265
        },
        "id": "xAXEYSHHNNBU",
        "outputId": "7c8471fd-2bb1-4f56-a741-48edf8f0ec61"
      },
      "source": [
        "# line plot\n",
        "plt.subplot(211)\n",
        "plt.plot(DF['Sales'])\n",
        "# histogram\n",
        "plt.subplot(212)\n",
        "plt.hist(DF['Sales'])\n",
        "plt.show()"
      ],
      "execution_count": 42,
      "outputs": [
        {
          "output_type": "display_data",
          "data": {
            "image/png": "[encoded data removed]",
            "text/plain": [
              "<Figure size 432x288 with 2 Axes>"
            ]
          },
          "metadata": {
            "needs_background": "light"
          }
        }
      ]
    },
    {
      "cell_type": "markdown",
      "metadata": {
        "id": "QGdFOc0gRip8"
      },
      "source": [
        "# Log Transform"
      ]
    },
    {
      "cell_type": "code",
      "metadata": {
        "id": "itATs-g4hWlE"
      },
      "source": [
        "from numpy import log\n",
        "## importing the log library"
      ],
      "execution_count": 43,
      "outputs": []
    },
    {
      "cell_type": "code",
      "metadata": {
        "colab": {
          "base_uri": "https://localhost:8080/",
          "height": 265
        },
        "id": "55d7nO8ZNP7X",
        "outputId": "e2943447-5aab-4531-a79f-9747e704cd8b"
      },
      "source": [
        "dataframe = DataFrame(DF.values)\n",
        "dataframe.columns = ['Sales']\n",
        "dataframe['Sales'] = log(dataframe['Sales'])\n",
        "\n",
        "# line plot\n",
        "plt.subplot(211)\n",
        "plt.plot(dataframe['Sales'])\n",
        "# histogram\n",
        "plt.subplot(212)\n",
        "plt.hist(dataframe['Sales'])\n",
        "plt.show()"
      ],
      "execution_count": 44,
      "outputs": [
        {
          "output_type": "display_data",
          "data": {
            "image/png": "[encoded data removed]",
            "text/plain": [
              "<Figure size 432x288 with 2 Axes>"
            ]
          },
          "metadata": {
            "needs_background": "light"
          }
        }
      ]
    },
    {
      "cell_type": "code",
      "metadata": {
        "id": "b-eljPFLaKAf"
      },
      "source": [
        "Train = interpolated.head(112)\n",
        "Test = interpolated.tail(12)"
      ],
      "execution_count": 45,
      "outputs": []
    },
    {
      "cell_type": "markdown",
      "metadata": {
        "id": "7L9XeEUWk7-R"
      },
      "source": [
        "# Moving Average"
      ]
    },
    {
      "cell_type": "code",
      "metadata": {
        "colab": {
          "base_uri": "https://localhost:8080/",
          "height": 296
        },
        "id": "RxbeN2bAj52X",
        "outputId": "5c1cd36e-b4f2-4b73-f368-44a48d30ed9d"
      },
      "source": [
        "plt.figure(figsize=(12,4))\n",
        "interpolated.Sales.plot(label=\"org\")\n",
        "for i in range(2,24,6):\n",
        "    interpolated[\"Sales\"].rolling(i).mean().plot(label=str(i))\n",
        "plt.legend(loc='best')"
      ],
      "execution_count": 46,
      "outputs": [
        {
          "output_type": "execute_result",
          "data": {
            "text/plain": [
              "<matplotlib.legend.Legend at 0x7f70c17c6650>"
            ]
          },
          "metadata": {},
          "execution_count": 46
        },
        {
          "output_type": "display_data",
          "data": {
            "image/png": "[encoded data removed]",
            "text/plain": [
              "<Figure size 864x288 with 1 Axes>"
            ]
          },
          "metadata": {
            "needs_background": "light"
          }
        }
      ]
    },
    {
      "cell_type": "markdown",
      "metadata": {
        "id": "yznIOdmkl_yQ"
      },
      "source": [
        "# Time series decomposition plot"
      ]
    },
    {
      "cell_type": "code",
      "metadata": {
        "colab": {
          "base_uri": "https://localhost:8080/",
          "height": 298
        },
        "id": "Pjhe1IP-lo4X",
        "outputId": "2291de00-d780-4d23-96f8-c9a3c2b31a0c"
      },
      "source": [
        "decompose_ts_add = seasonal_decompose(interpolated.Sales,freq=12)  \n",
        "decompose_ts_add.plot()\n",
        "plt.show()"
      ],
      "execution_count": 47,
      "outputs": [
        {
          "output_type": "display_data",
          "data": {
            "image/png": "[encoded data removed]",
            "text/plain": [
              "<Figure size 432x288 with 4 Axes>"
            ]
          },
          "metadata": {
            "needs_background": "light"
          }
        }
      ]
    },
    {
      "cell_type": "markdown",
      "metadata": {
        "id": "OcX6tGV6mLiB"
      },
      "source": [
        "# ACF plots and PACF plots"
      ]
    },
    {
      "cell_type": "code",
      "metadata": {
        "colab": {
          "base_uri": "https://localhost:8080/",
          "height": 545
        },
        "id": "lnwOuZlFmHpA",
        "outputId": "72f6f74e-1d03-43c6-9fde-cd54363fbdbf"
      },
      "source": [
        "import statsmodels.graphics.tsaplots as tsa_plots\n",
        "\n",
        "tsa_plots.plot_acf(interpolated.Sales,lags=14)\n",
        "tsa_plots.plot_pacf(interpolated.Sales,lags=14)\n",
        "plt.show()\n"
      ],
      "execution_count": 48,
      "outputs": [
        {
          "output_type": "display_data",
          "data": {
            "image/png": "[encoded data removed]",
            "text/plain": [
              "<Figure size 432x288 with 1 Axes>"
            ]
          },
          "metadata": {
            "needs_background": "light"
          }
        },
        {
          "output_type": "display_data",
          "data": {
            "image/png": "[encoded data removed]",
            "text/plain": [
              "<Figure size 432x288 with 1 Axes>"
            ]
          },
          "metadata": {
            "needs_background": "light"
          }
        }
      ]
    },
    {
      "cell_type": "markdown",
      "metadata": {
        "id": "QMhl7r1xmhML"
      },
      "source": [
        "# Evaluation Metric MAPE"
      ]
    },
    {
      "cell_type": "code",
      "metadata": {
        "id": "1b_T4CGjmS7h"
      },
      "source": [
        "def MAPE(pred,org):\n",
        "    temp = np.abs((pred-org)/org)*100\n",
        "    return np.mean(temp)"
      ],
      "execution_count": null,
      "outputs": []
    },
    {
      "cell_type": "markdown",
      "metadata": {
        "id": "9WU9x_xYmniQ"
      },
      "source": [
        "# Simple Exponential Method"
      ]
    },
    {
      "cell_type": "code",
      "metadata": {
        "colab": {
          "base_uri": "https://localhost:8080/"
        },
        "id": "1xU-fSZomkd-",
        "outputId": "751c6132-ceb1-4a12-bc00-8b673689381a"
      },
      "source": [
        "ses_model = SimpleExpSmoothing(Train[\"Sales\"]).fit(smoothing_level=0.2)\n",
        "pred_ses = ses_model.predict(start = Test.index[0],end = Test.index[-1])\n",
        "MAPE(pred_ses,Test.Sales) \n"
      ],
      "execution_count": null,
      "outputs": [
        {
          "output_type": "execute_result",
          "data": {
            "text/plain": [
              "12.708058847582388"
            ]
          },
          "metadata": {},
          "execution_count": 54
        }
      ]
    },
    {
      "cell_type": "markdown",
      "metadata": {
        "id": "HiQ99PBUmyrU"
      },
      "source": [
        "# Holt method"
      ]
    },
    {
      "cell_type": "code",
      "metadata": {
        "colab": {
          "base_uri": "https://localhost:8080/"
        },
        "id": "UAI0OGOImsY0",
        "outputId": "cf98401e-2e96-4cf4-9659-cced75010cf1"
      },
      "source": [
        "# Holt method \n",
        "hw_model = Holt(Train[\"Sales\"]).fit(smoothing_level=0.1, smoothing_slope=0.2)\n",
        "pred_hw = hw_model.predict(start = Test.index[0],end = Test.index[-1])\n",
        "MAPE(pred_hw,Test.Sales) "
      ],
      "execution_count": null,
      "outputs": [
        {
          "output_type": "execute_result",
          "data": {
            "text/plain": [
              "7.232594852619415"
            ]
          },
          "metadata": {},
          "execution_count": 55
        }
      ]
    },
    {
      "cell_type": "markdown",
      "metadata": {
        "id": "jUfy3_5sm7EA"
      },
      "source": [
        "# Holts winter exponential smoothing with additive seasonality and additive trend"
      ]
    },
    {
      "cell_type": "code",
      "metadata": {
        "colab": {
          "base_uri": "https://localhost:8080/"
        },
        "id": "TcZ3xgbVm2tk",
        "outputId": "af24d09c-bb24-4e82-a0d2-77ed8ac09a42"
      },
      "source": [
        "hwe_model_add_add = ExponentialSmoothing(Train[\"Sales\"],seasonal=\"add\",trend=\"add\",seasonal_periods=12).fit(smoothing_level=0.1, smoothing_slope=0.2) #add the trend to the model\n",
        "pred_hwe_add_add = hwe_model_add_add.predict(start = Test.index[0],end = Test.index[-1])\n",
        "MAPE(pred_hwe_add_add,Test.Sales) "
      ],
      "execution_count": null,
      "outputs": [
        {
          "output_type": "execute_result",
          "data": {
            "text/plain": [
              "4.727403178905019"
            ]
          },
          "metadata": {},
          "execution_count": 56
        }
      ]
    },
    {
      "cell_type": "markdown",
      "metadata": {
        "id": "xMfFDM4-nLbx"
      },
      "source": [
        "#Holts winter exponential smoothing with multiplicative seasonality and additive trend"
      ]
    },
    {
      "cell_type": "code",
      "metadata": {
        "colab": {
          "base_uri": "https://localhost:8080/"
        },
        "id": "THBkYGk-nILw",
        "outputId": "a0e644fc-2b51-4d6d-f1e0-da8f23030d1c"
      },
      "source": [
        "hwe_model_mul_add = ExponentialSmoothing(Train[\"Sales\"],seasonal=\"mul\",trend=\"add\",seasonal_periods=12).fit(smoothing_level=0.1, smoothing_slope=0.2) \n",
        "pred_hwe_mul_add = hwe_model_mul_add.predict(start = Test.index[0],end = Test.index[-1])\n",
        "MAPE(pred_hwe_mul_add,Test.Sales)"
      ],
      "execution_count": null,
      "outputs": [
        {
          "output_type": "execute_result",
          "data": {
            "text/plain": [
              "7.197031886538417"
            ]
          },
          "metadata": {},
          "execution_count": 57
        }
      ]
    },
    {
      "cell_type": "code",
      "metadata": {
        "colab": {
          "base_uri": "https://localhost:8080/"
        },
        "id": "KtMjmoUY38gS",
        "outputId": "41b8038b-73ee-41f5-96da-f87e75cf8a12"
      },
      "source": [
        "rmse_hwe_mul_add = sqrt(mean_squared_error(pred_hwe_mul_add,Test.Sales))\n",
        "rmse_hwe_mul_add"
      ],
      "execution_count": null,
      "outputs": [
        {
          "output_type": "execute_result",
          "data": {
            "text/plain": [
              "412.56805954735495"
            ]
          },
          "metadata": {},
          "execution_count": 135
        }
      ]
    },
    {
      "cell_type": "markdown",
      "metadata": {
        "id": "VwfRDX_hnX7x"
      },
      "source": [
        "# Final Model by combining train and test"
      ]
    },
    {
      "cell_type": "code",
      "metadata": {
        "id": "9-Ov2_pYnTLR"
      },
      "source": [
        "hwe_model_add_add = ExponentialSmoothing(interpolated[\"Sales\"],seasonal=\"add\",trend=\"add\",seasonal_periods=10).fit()"
      ],
      "execution_count": null,
      "outputs": []
    },
    {
      "cell_type": "code",
      "metadata": {
        "colab": {
          "base_uri": "https://localhost:8080/"
        },
        "id": "w21L3nGzndap",
        "outputId": "2ceb1010-b8ae-4837-daf1-4a0817c74537"
      },
      "source": [
        "#Forecasting for next 10 time periods\n",
        "hwe_model_add_add.forecast(10)"
      ],
      "execution_count": null,
      "outputs": [
        {
          "output_type": "execute_result",
          "data": {
            "text/plain": [
              "1996-05-31    5477.949273\n",
              "1996-06-30    5561.664838\n",
              "1996-07-31    5623.963680\n",
              "1996-08-31    5622.374932\n",
              "1996-09-30    5474.666216\n",
              "1996-10-31    5339.885387\n",
              "1996-11-30    5041.454351\n",
              "1996-12-31    4940.915865\n",
              "1997-01-31    5113.710486\n",
              "1997-02-28    5488.867372\n",
              "Freq: M, dtype: float64"
            ]
          },
          "metadata": {},
          "execution_count": 60
        }
      ]
    },
    {
      "cell_type": "code",
      "metadata": {
        "id": "KEK6VN1Fnkz9"
      },
      "source": [
        ""
      ],
      "execution_count": null,
      "outputs": []
    },
    {
      "cell_type": "code",
      "metadata": {
        "colab": {
          "base_uri": "https://localhost:8080/",
          "height": 447
        },
        "id": "TUaicyFKn3Jv",
        "outputId": "35c3dcbe-7001-4d91-ccee-d298c73834a6"
      },
      "source": [
        "interpolated"
      ],
      "execution_count": null,
      "outputs": [
        {
          "output_type": "execute_result",
          "data": {
            "text/html": [
              "<div>\n",
              "<style scoped>\n",
              "    .dataframe tbody tr th:only-of-type {\n",
              "        vertical-align: middle;\n",
              "    }\n",
              "\n",
              "    .dataframe tbody tr th {\n",
              "        vertical-align: top;\n",
              "    }\n",
              "\n",
              "    .dataframe thead th {\n",
              "        text-align: right;\n",
              "    }\n",
              "</style>\n",
              "<table border=\"1\" class=\"dataframe\">\n",
              "  <thead>\n",
              "    <tr style=\"text-align: right;\">\n",
              "      <th></th>\n",
              "      <th>Sales</th>\n",
              "    </tr>\n",
              "    <tr>\n",
              "      <th>date</th>\n",
              "      <th></th>\n",
              "    </tr>\n",
              "  </thead>\n",
              "  <tbody>\n",
              "    <tr>\n",
              "      <th>1986-01-31</th>\n",
              "      <td>1734.827000</td>\n",
              "    </tr>\n",
              "    <tr>\n",
              "      <th>1986-02-28</th>\n",
              "      <td>1904.871666</td>\n",
              "    </tr>\n",
              "    <tr>\n",
              "      <th>1986-03-31</th>\n",
              "      <td>2074.916332</td>\n",
              "    </tr>\n",
              "    <tr>\n",
              "      <th>1986-04-30</th>\n",
              "      <td>2244.960999</td>\n",
              "    </tr>\n",
              "    <tr>\n",
              "      <th>1986-05-31</th>\n",
              "      <td>2341.242330</td>\n",
              "    </tr>\n",
              "    <tr>\n",
              "      <th>...</th>\n",
              "      <td>...</td>\n",
              "    </tr>\n",
              "    <tr>\n",
              "      <th>1995-12-31</th>\n",
              "      <td>4240.333333</td>\n",
              "    </tr>\n",
              "    <tr>\n",
              "      <th>1996-01-31</th>\n",
              "      <td>4194.000000</td>\n",
              "    </tr>\n",
              "    <tr>\n",
              "      <th>1996-02-29</th>\n",
              "      <td>4547.000000</td>\n",
              "    </tr>\n",
              "    <tr>\n",
              "      <th>1996-03-31</th>\n",
              "      <td>4900.000000</td>\n",
              "    </tr>\n",
              "    <tr>\n",
              "      <th>1996-04-30</th>\n",
              "      <td>5253.000000</td>\n",
              "    </tr>\n",
              "  </tbody>\n",
              "</table>\n",
              "<p>124 rows × 1 columns</p>\n",
              "</div>"
            ],
            "text/plain": [
              "                  Sales\n",
              "date                   \n",
              "1986-01-31  1734.827000\n",
              "1986-02-28  1904.871666\n",
              "1986-03-31  2074.916332\n",
              "1986-04-30  2244.960999\n",
              "1986-05-31  2341.242330\n",
              "...                 ...\n",
              "1995-12-31  4240.333333\n",
              "1996-01-31  4194.000000\n",
              "1996-02-29  4547.000000\n",
              "1996-03-31  4900.000000\n",
              "1996-04-30  5253.000000\n",
              "\n",
              "[124 rows x 1 columns]"
            ]
          },
          "metadata": {},
          "execution_count": 61
        }
      ]
    },
    {
      "cell_type": "code",
      "metadata": {
        "id": "KibholX-n4Yp"
      },
      "source": [
        "interpolated.reset_index(inplace=True)"
      ],
      "execution_count": null,
      "outputs": []
    },
    {
      "cell_type": "code",
      "metadata": {
        "id": "1oKPqmzCn6sD"
      },
      "source": [
        "interpolated['t'] = 1"
      ],
      "execution_count": null,
      "outputs": []
    },
    {
      "cell_type": "code",
      "metadata": {
        "colab": {
          "base_uri": "https://localhost:8080/",
          "height": 417
        },
        "id": "B2FDgLogn-Mo",
        "outputId": "ed4dc1df-d4a1-4dcd-a9c6-3f16bb901404"
      },
      "source": [
        "interpolated"
      ],
      "execution_count": null,
      "outputs": [
        {
          "output_type": "execute_result",
          "data": {
            "text/html": [
              "<div>\n",
              "<style scoped>\n",
              "    .dataframe tbody tr th:only-of-type {\n",
              "        vertical-align: middle;\n",
              "    }\n",
              "\n",
              "    .dataframe tbody tr th {\n",
              "        vertical-align: top;\n",
              "    }\n",
              "\n",
              "    .dataframe thead th {\n",
              "        text-align: right;\n",
              "    }\n",
              "</style>\n",
              "<table border=\"1\" class=\"dataframe\">\n",
              "  <thead>\n",
              "    <tr style=\"text-align: right;\">\n",
              "      <th></th>\n",
              "      <th>date</th>\n",
              "      <th>Sales</th>\n",
              "      <th>t</th>\n",
              "    </tr>\n",
              "  </thead>\n",
              "  <tbody>\n",
              "    <tr>\n",
              "      <th>0</th>\n",
              "      <td>1986-01-31</td>\n",
              "      <td>1734.827000</td>\n",
              "      <td>1</td>\n",
              "    </tr>\n",
              "    <tr>\n",
              "      <th>1</th>\n",
              "      <td>1986-02-28</td>\n",
              "      <td>1904.871666</td>\n",
              "      <td>1</td>\n",
              "    </tr>\n",
              "    <tr>\n",
              "      <th>2</th>\n",
              "      <td>1986-03-31</td>\n",
              "      <td>2074.916332</td>\n",
              "      <td>1</td>\n",
              "    </tr>\n",
              "    <tr>\n",
              "      <th>3</th>\n",
              "      <td>1986-04-30</td>\n",
              "      <td>2244.960999</td>\n",
              "      <td>1</td>\n",
              "    </tr>\n",
              "    <tr>\n",
              "      <th>4</th>\n",
              "      <td>1986-05-31</td>\n",
              "      <td>2341.242330</td>\n",
              "      <td>1</td>\n",
              "    </tr>\n",
              "    <tr>\n",
              "      <th>...</th>\n",
              "      <td>...</td>\n",
              "      <td>...</td>\n",
              "      <td>...</td>\n",
              "    </tr>\n",
              "    <tr>\n",
              "      <th>119</th>\n",
              "      <td>1995-12-31</td>\n",
              "      <td>4240.333333</td>\n",
              "      <td>1</td>\n",
              "    </tr>\n",
              "    <tr>\n",
              "      <th>120</th>\n",
              "      <td>1996-01-31</td>\n",
              "      <td>4194.000000</td>\n",
              "      <td>1</td>\n",
              "    </tr>\n",
              "    <tr>\n",
              "      <th>121</th>\n",
              "      <td>1996-02-29</td>\n",
              "      <td>4547.000000</td>\n",
              "      <td>1</td>\n",
              "    </tr>\n",
              "    <tr>\n",
              "      <th>122</th>\n",
              "      <td>1996-03-31</td>\n",
              "      <td>4900.000000</td>\n",
              "      <td>1</td>\n",
              "    </tr>\n",
              "    <tr>\n",
              "      <th>123</th>\n",
              "      <td>1996-04-30</td>\n",
              "      <td>5253.000000</td>\n",
              "      <td>1</td>\n",
              "    </tr>\n",
              "  </tbody>\n",
              "</table>\n",
              "<p>124 rows × 3 columns</p>\n",
              "</div>"
            ],
            "text/plain": [
              "          date        Sales  t\n",
              "0   1986-01-31  1734.827000  1\n",
              "1   1986-02-28  1904.871666  1\n",
              "2   1986-03-31  2074.916332  1\n",
              "3   1986-04-30  2244.960999  1\n",
              "4   1986-05-31  2341.242330  1\n",
              "..         ...          ... ..\n",
              "119 1995-12-31  4240.333333  1\n",
              "120 1996-01-31  4194.000000  1\n",
              "121 1996-02-29  4547.000000  1\n",
              "122 1996-03-31  4900.000000  1\n",
              "123 1996-04-30  5253.000000  1\n",
              "\n",
              "[124 rows x 3 columns]"
            ]
          },
          "metadata": {},
          "execution_count": 64
        }
      ]
    },
    {
      "cell_type": "code",
      "metadata": {
        "colab": {
          "base_uri": "https://localhost:8080/"
        },
        "id": "KzSySTY-n_Lf",
        "outputId": "0b61188e-667c-4901-d6a8-8213d63194bd"
      },
      "source": [
        "for i,row in interpolated.iterrows():\n",
        "  interpolated['t'].iloc[i] = i+1"
      ],
      "execution_count": null,
      "outputs": [
        {
          "output_type": "stream",
          "name": "stderr",
          "text": [
            "/usr/local/lib/python3.7/dist-packages/pandas/core/indexing.py:670: SettingWithCopyWarning: \n",
            "A value is trying to be set on a copy of a slice from a DataFrame\n",
            "\n",
            "See the caveats in the documentation: https://pandas.pydata.org/pandas-docs/stable/user_guide/indexing.html#returning-a-view-versus-a-copy\n",
            "  iloc._setitem_with_indexer(indexer, value)\n"
          ]
        }
      ]
    },
    {
      "cell_type": "code",
      "metadata": {
        "colab": {
          "base_uri": "https://localhost:8080/",
          "height": 417
        },
        "id": "PEIddQCdoDJt",
        "outputId": "5cf81d0a-2b1d-486c-bcd8-86ccfea739c2"
      },
      "source": [
        "interpolated"
      ],
      "execution_count": null,
      "outputs": [
        {
          "output_type": "execute_result",
          "data": {
            "text/html": [
              "<div>\n",
              "<style scoped>\n",
              "    .dataframe tbody tr th:only-of-type {\n",
              "        vertical-align: middle;\n",
              "    }\n",
              "\n",
              "    .dataframe tbody tr th {\n",
              "        vertical-align: top;\n",
              "    }\n",
              "\n",
              "    .dataframe thead th {\n",
              "        text-align: right;\n",
              "    }\n",
              "</style>\n",
              "<table border=\"1\" class=\"dataframe\">\n",
              "  <thead>\n",
              "    <tr style=\"text-align: right;\">\n",
              "      <th></th>\n",
              "      <th>date</th>\n",
              "      <th>Sales</th>\n",
              "      <th>t</th>\n",
              "    </tr>\n",
              "  </thead>\n",
              "  <tbody>\n",
              "    <tr>\n",
              "      <th>0</th>\n",
              "      <td>1986-01-31</td>\n",
              "      <td>1734.827000</td>\n",
              "      <td>1</td>\n",
              "    </tr>\n",
              "    <tr>\n",
              "      <th>1</th>\n",
              "      <td>1986-02-28</td>\n",
              "      <td>1904.871666</td>\n",
              "      <td>2</td>\n",
              "    </tr>\n",
              "    <tr>\n",
              "      <th>2</th>\n",
              "      <td>1986-03-31</td>\n",
              "      <td>2074.916332</td>\n",
              "      <td>3</td>\n",
              "    </tr>\n",
              "    <tr>\n",
              "      <th>3</th>\n",
              "      <td>1986-04-30</td>\n",
              "      <td>2244.960999</td>\n",
              "      <td>4</td>\n",
              "    </tr>\n",
              "    <tr>\n",
              "      <th>4</th>\n",
              "      <td>1986-05-31</td>\n",
              "      <td>2341.242330</td>\n",
              "      <td>5</td>\n",
              "    </tr>\n",
              "    <tr>\n",
              "      <th>...</th>\n",
              "      <td>...</td>\n",
              "      <td>...</td>\n",
              "      <td>...</td>\n",
              "    </tr>\n",
              "    <tr>\n",
              "      <th>119</th>\n",
              "      <td>1995-12-31</td>\n",
              "      <td>4240.333333</td>\n",
              "      <td>120</td>\n",
              "    </tr>\n",
              "    <tr>\n",
              "      <th>120</th>\n",
              "      <td>1996-01-31</td>\n",
              "      <td>4194.000000</td>\n",
              "      <td>121</td>\n",
              "    </tr>\n",
              "    <tr>\n",
              "      <th>121</th>\n",
              "      <td>1996-02-29</td>\n",
              "      <td>4547.000000</td>\n",
              "      <td>122</td>\n",
              "    </tr>\n",
              "    <tr>\n",
              "      <th>122</th>\n",
              "      <td>1996-03-31</td>\n",
              "      <td>4900.000000</td>\n",
              "      <td>123</td>\n",
              "    </tr>\n",
              "    <tr>\n",
              "      <th>123</th>\n",
              "      <td>1996-04-30</td>\n",
              "      <td>5253.000000</td>\n",
              "      <td>124</td>\n",
              "    </tr>\n",
              "  </tbody>\n",
              "</table>\n",
              "<p>124 rows × 3 columns</p>\n",
              "</div>"
            ],
            "text/plain": [
              "          date        Sales    t\n",
              "0   1986-01-31  1734.827000    1\n",
              "1   1986-02-28  1904.871666    2\n",
              "2   1986-03-31  2074.916332    3\n",
              "3   1986-04-30  2244.960999    4\n",
              "4   1986-05-31  2341.242330    5\n",
              "..         ...          ...  ...\n",
              "119 1995-12-31  4240.333333  120\n",
              "120 1996-01-31  4194.000000  121\n",
              "121 1996-02-29  4547.000000  122\n",
              "122 1996-03-31  4900.000000  123\n",
              "123 1996-04-30  5253.000000  124\n",
              "\n",
              "[124 rows x 3 columns]"
            ]
          },
          "metadata": {},
          "execution_count": 66
        }
      ]
    },
    {
      "cell_type": "code",
      "metadata": {
        "id": "ocs9dthuoH2S"
      },
      "source": [
        "interpolated['t_sq'] = (interpolated['t'])**2\n",
        "## inserted t_sq column with values"
      ],
      "execution_count": null,
      "outputs": []
    },
    {
      "cell_type": "code",
      "metadata": {
        "colab": {
          "base_uri": "https://localhost:8080/",
          "height": 417
        },
        "id": "FsCeU0tjoOHj",
        "outputId": "18bc6b61-2264-4ce4-898c-90190334b3db"
      },
      "source": [
        "interpolated"
      ],
      "execution_count": null,
      "outputs": [
        {
          "output_type": "execute_result",
          "data": {
            "text/html": [
              "<div>\n",
              "<style scoped>\n",
              "    .dataframe tbody tr th:only-of-type {\n",
              "        vertical-align: middle;\n",
              "    }\n",
              "\n",
              "    .dataframe tbody tr th {\n",
              "        vertical-align: top;\n",
              "    }\n",
              "\n",
              "    .dataframe thead th {\n",
              "        text-align: right;\n",
              "    }\n",
              "</style>\n",
              "<table border=\"1\" class=\"dataframe\">\n",
              "  <thead>\n",
              "    <tr style=\"text-align: right;\">\n",
              "      <th></th>\n",
              "      <th>date</th>\n",
              "      <th>Sales</th>\n",
              "      <th>t</th>\n",
              "      <th>t_sq</th>\n",
              "    </tr>\n",
              "  </thead>\n",
              "  <tbody>\n",
              "    <tr>\n",
              "      <th>0</th>\n",
              "      <td>1986-01-31</td>\n",
              "      <td>1734.827000</td>\n",
              "      <td>1</td>\n",
              "      <td>1</td>\n",
              "    </tr>\n",
              "    <tr>\n",
              "      <th>1</th>\n",
              "      <td>1986-02-28</td>\n",
              "      <td>1904.871666</td>\n",
              "      <td>2</td>\n",
              "      <td>4</td>\n",
              "    </tr>\n",
              "    <tr>\n",
              "      <th>2</th>\n",
              "      <td>1986-03-31</td>\n",
              "      <td>2074.916332</td>\n",
              "      <td>3</td>\n",
              "      <td>9</td>\n",
              "    </tr>\n",
              "    <tr>\n",
              "      <th>3</th>\n",
              "      <td>1986-04-30</td>\n",
              "      <td>2244.960999</td>\n",
              "      <td>4</td>\n",
              "      <td>16</td>\n",
              "    </tr>\n",
              "    <tr>\n",
              "      <th>4</th>\n",
              "      <td>1986-05-31</td>\n",
              "      <td>2341.242330</td>\n",
              "      <td>5</td>\n",
              "      <td>25</td>\n",
              "    </tr>\n",
              "    <tr>\n",
              "      <th>...</th>\n",
              "      <td>...</td>\n",
              "      <td>...</td>\n",
              "      <td>...</td>\n",
              "      <td>...</td>\n",
              "    </tr>\n",
              "    <tr>\n",
              "      <th>119</th>\n",
              "      <td>1995-12-31</td>\n",
              "      <td>4240.333333</td>\n",
              "      <td>120</td>\n",
              "      <td>14400</td>\n",
              "    </tr>\n",
              "    <tr>\n",
              "      <th>120</th>\n",
              "      <td>1996-01-31</td>\n",
              "      <td>4194.000000</td>\n",
              "      <td>121</td>\n",
              "      <td>14641</td>\n",
              "    </tr>\n",
              "    <tr>\n",
              "      <th>121</th>\n",
              "      <td>1996-02-29</td>\n",
              "      <td>4547.000000</td>\n",
              "      <td>122</td>\n",
              "      <td>14884</td>\n",
              "    </tr>\n",
              "    <tr>\n",
              "      <th>122</th>\n",
              "      <td>1996-03-31</td>\n",
              "      <td>4900.000000</td>\n",
              "      <td>123</td>\n",
              "      <td>15129</td>\n",
              "    </tr>\n",
              "    <tr>\n",
              "      <th>123</th>\n",
              "      <td>1996-04-30</td>\n",
              "      <td>5253.000000</td>\n",
              "      <td>124</td>\n",
              "      <td>15376</td>\n",
              "    </tr>\n",
              "  </tbody>\n",
              "</table>\n",
              "<p>124 rows × 4 columns</p>\n",
              "</div>"
            ],
            "text/plain": [
              "          date        Sales    t   t_sq\n",
              "0   1986-01-31  1734.827000    1      1\n",
              "1   1986-02-28  1904.871666    2      4\n",
              "2   1986-03-31  2074.916332    3      9\n",
              "3   1986-04-30  2244.960999    4     16\n",
              "4   1986-05-31  2341.242330    5     25\n",
              "..         ...          ...  ...    ...\n",
              "119 1995-12-31  4240.333333  120  14400\n",
              "120 1996-01-31  4194.000000  121  14641\n",
              "121 1996-02-29  4547.000000  122  14884\n",
              "122 1996-03-31  4900.000000  123  15129\n",
              "123 1996-04-30  5253.000000  124  15376\n",
              "\n",
              "[124 rows x 4 columns]"
            ]
          },
          "metadata": {},
          "execution_count": 70
        }
      ]
    },
    {
      "cell_type": "code",
      "metadata": {
        "id": "1b30PaQSoP5R"
      },
      "source": [
        "interpolated[\"month\"] = interpolated.date.dt.strftime(\"%b\") # month extraction\n",
        "interpolated[\"year\"] = interpolated.date.dt.strftime(\"%Y\") # year extraction"
      ],
      "execution_count": null,
      "outputs": []
    },
    {
      "cell_type": "code",
      "metadata": {
        "colab": {
          "base_uri": "https://localhost:8080/",
          "height": 417
        },
        "id": "1G3TkdUBoilc",
        "outputId": "606c995b-160e-4801-c6d3-4ab7720cf98e"
      },
      "source": [
        "interpolated"
      ],
      "execution_count": null,
      "outputs": [
        {
          "output_type": "execute_result",
          "data": {
            "text/html": [
              "<div>\n",
              "<style scoped>\n",
              "    .dataframe tbody tr th:only-of-type {\n",
              "        vertical-align: middle;\n",
              "    }\n",
              "\n",
              "    .dataframe tbody tr th {\n",
              "        vertical-align: top;\n",
              "    }\n",
              "\n",
              "    .dataframe thead th {\n",
              "        text-align: right;\n",
              "    }\n",
              "</style>\n",
              "<table border=\"1\" class=\"dataframe\">\n",
              "  <thead>\n",
              "    <tr style=\"text-align: right;\">\n",
              "      <th></th>\n",
              "      <th>date</th>\n",
              "      <th>Sales</th>\n",
              "      <th>t</th>\n",
              "      <th>t_sq</th>\n",
              "      <th>month</th>\n",
              "      <th>year</th>\n",
              "    </tr>\n",
              "  </thead>\n",
              "  <tbody>\n",
              "    <tr>\n",
              "      <th>0</th>\n",
              "      <td>1986-01-31</td>\n",
              "      <td>1734.827000</td>\n",
              "      <td>1</td>\n",
              "      <td>1</td>\n",
              "      <td>Jan</td>\n",
              "      <td>1986</td>\n",
              "    </tr>\n",
              "    <tr>\n",
              "      <th>1</th>\n",
              "      <td>1986-02-28</td>\n",
              "      <td>1904.871666</td>\n",
              "      <td>2</td>\n",
              "      <td>4</td>\n",
              "      <td>Feb</td>\n",
              "      <td>1986</td>\n",
              "    </tr>\n",
              "    <tr>\n",
              "      <th>2</th>\n",
              "      <td>1986-03-31</td>\n",
              "      <td>2074.916332</td>\n",
              "      <td>3</td>\n",
              "      <td>9</td>\n",
              "      <td>Mar</td>\n",
              "      <td>1986</td>\n",
              "    </tr>\n",
              "    <tr>\n",
              "      <th>3</th>\n",
              "      <td>1986-04-30</td>\n",
              "      <td>2244.960999</td>\n",
              "      <td>4</td>\n",
              "      <td>16</td>\n",
              "      <td>Apr</td>\n",
              "      <td>1986</td>\n",
              "    </tr>\n",
              "    <tr>\n",
              "      <th>4</th>\n",
              "      <td>1986-05-31</td>\n",
              "      <td>2341.242330</td>\n",
              "      <td>5</td>\n",
              "      <td>25</td>\n",
              "      <td>May</td>\n",
              "      <td>1986</td>\n",
              "    </tr>\n",
              "    <tr>\n",
              "      <th>...</th>\n",
              "      <td>...</td>\n",
              "      <td>...</td>\n",
              "      <td>...</td>\n",
              "      <td>...</td>\n",
              "      <td>...</td>\n",
              "      <td>...</td>\n",
              "    </tr>\n",
              "    <tr>\n",
              "      <th>119</th>\n",
              "      <td>1995-12-31</td>\n",
              "      <td>4240.333333</td>\n",
              "      <td>120</td>\n",
              "      <td>14400</td>\n",
              "      <td>Dec</td>\n",
              "      <td>1995</td>\n",
              "    </tr>\n",
              "    <tr>\n",
              "      <th>120</th>\n",
              "      <td>1996-01-31</td>\n",
              "      <td>4194.000000</td>\n",
              "      <td>121</td>\n",
              "      <td>14641</td>\n",
              "      <td>Jan</td>\n",
              "      <td>1996</td>\n",
              "    </tr>\n",
              "    <tr>\n",
              "      <th>121</th>\n",
              "      <td>1996-02-29</td>\n",
              "      <td>4547.000000</td>\n",
              "      <td>122</td>\n",
              "      <td>14884</td>\n",
              "      <td>Feb</td>\n",
              "      <td>1996</td>\n",
              "    </tr>\n",
              "    <tr>\n",
              "      <th>122</th>\n",
              "      <td>1996-03-31</td>\n",
              "      <td>4900.000000</td>\n",
              "      <td>123</td>\n",
              "      <td>15129</td>\n",
              "      <td>Mar</td>\n",
              "      <td>1996</td>\n",
              "    </tr>\n",
              "    <tr>\n",
              "      <th>123</th>\n",
              "      <td>1996-04-30</td>\n",
              "      <td>5253.000000</td>\n",
              "      <td>124</td>\n",
              "      <td>15376</td>\n",
              "      <td>Apr</td>\n",
              "      <td>1996</td>\n",
              "    </tr>\n",
              "  </tbody>\n",
              "</table>\n",
              "<p>124 rows × 6 columns</p>\n",
              "</div>"
            ],
            "text/plain": [
              "          date        Sales    t   t_sq month  year\n",
              "0   1986-01-31  1734.827000    1      1   Jan  1986\n",
              "1   1986-02-28  1904.871666    2      4   Feb  1986\n",
              "2   1986-03-31  2074.916332    3      9   Mar  1986\n",
              "3   1986-04-30  2244.960999    4     16   Apr  1986\n",
              "4   1986-05-31  2341.242330    5     25   May  1986\n",
              "..         ...          ...  ...    ...   ...   ...\n",
              "119 1995-12-31  4240.333333  120  14400   Dec  1995\n",
              "120 1996-01-31  4194.000000  121  14641   Jan  1996\n",
              "121 1996-02-29  4547.000000  122  14884   Feb  1996\n",
              "122 1996-03-31  4900.000000  123  15129   Mar  1996\n",
              "123 1996-04-30  5253.000000  124  15376   Apr  1996\n",
              "\n",
              "[124 rows x 6 columns]"
            ]
          },
          "metadata": {},
          "execution_count": 72
        }
      ]
    },
    {
      "cell_type": "code",
      "metadata": {
        "id": "gCGbkBaPolHz"
      },
      "source": [
        "months = pd.get_dummies(interpolated['month']) ## converting the dummy variables for month column"
      ],
      "execution_count": null,
      "outputs": []
    },
    {
      "cell_type": "code",
      "metadata": {
        "colab": {
          "base_uri": "https://localhost:8080/",
          "height": 417
        },
        "id": "hPAAQWyKooA1",
        "outputId": "eea74aea-4ec2-4c44-eff9-f638a9ea0773"
      },
      "source": [
        "months"
      ],
      "execution_count": null,
      "outputs": [
        {
          "output_type": "execute_result",
          "data": {
            "text/html": [
              "<div>\n",
              "<style scoped>\n",
              "    .dataframe tbody tr th:only-of-type {\n",
              "        vertical-align: middle;\n",
              "    }\n",
              "\n",
              "    .dataframe tbody tr th {\n",
              "        vertical-align: top;\n",
              "    }\n",
              "\n",
              "    .dataframe thead th {\n",
              "        text-align: right;\n",
              "    }\n",
              "</style>\n",
              "<table border=\"1\" class=\"dataframe\">\n",
              "  <thead>\n",
              "    <tr style=\"text-align: right;\">\n",
              "      <th></th>\n",
              "      <th>Apr</th>\n",
              "      <th>Aug</th>\n",
              "      <th>Dec</th>\n",
              "      <th>Feb</th>\n",
              "      <th>Jan</th>\n",
              "      <th>Jul</th>\n",
              "      <th>Jun</th>\n",
              "      <th>Mar</th>\n",
              "      <th>May</th>\n",
              "      <th>Nov</th>\n",
              "      <th>Oct</th>\n",
              "      <th>Sep</th>\n",
              "    </tr>\n",
              "  </thead>\n",
              "  <tbody>\n",
              "    <tr>\n",
              "      <th>0</th>\n",
              "      <td>0</td>\n",
              "      <td>0</td>\n",
              "      <td>0</td>\n",
              "      <td>0</td>\n",
              "      <td>1</td>\n",
              "      <td>0</td>\n",
              "      <td>0</td>\n",
              "      <td>0</td>\n",
              "      <td>0</td>\n",
              "      <td>0</td>\n",
              "      <td>0</td>\n",
              "      <td>0</td>\n",
              "    </tr>\n",
              "    <tr>\n",
              "      <th>1</th>\n",
              "      <td>0</td>\n",
              "      <td>0</td>\n",
              "      <td>0</td>\n",
              "      <td>1</td>\n",
              "      <td>0</td>\n",
              "      <td>0</td>\n",
              "      <td>0</td>\n",
              "      <td>0</td>\n",
              "      <td>0</td>\n",
              "      <td>0</td>\n",
              "      <td>0</td>\n",
              "      <td>0</td>\n",
              "    </tr>\n",
              "    <tr>\n",
              "      <th>2</th>\n",
              "      <td>0</td>\n",
              "      <td>0</td>\n",
              "      <td>0</td>\n",
              "      <td>0</td>\n",
              "      <td>0</td>\n",
              "      <td>0</td>\n",
              "      <td>0</td>\n",
              "      <td>1</td>\n",
              "      <td>0</td>\n",
              "      <td>0</td>\n",
              "      <td>0</td>\n",
              "      <td>0</td>\n",
              "    </tr>\n",
              "    <tr>\n",
              "      <th>3</th>\n",
              "      <td>1</td>\n",
              "      <td>0</td>\n",
              "      <td>0</td>\n",
              "      <td>0</td>\n",
              "      <td>0</td>\n",
              "      <td>0</td>\n",
              "      <td>0</td>\n",
              "      <td>0</td>\n",
              "      <td>0</td>\n",
              "      <td>0</td>\n",
              "      <td>0</td>\n",
              "      <td>0</td>\n",
              "    </tr>\n",
              "    <tr>\n",
              "      <th>4</th>\n",
              "      <td>0</td>\n",
              "      <td>0</td>\n",
              "      <td>0</td>\n",
              "      <td>0</td>\n",
              "      <td>0</td>\n",
              "      <td>0</td>\n",
              "      <td>0</td>\n",
              "      <td>0</td>\n",
              "      <td>1</td>\n",
              "      <td>0</td>\n",
              "      <td>0</td>\n",
              "      <td>0</td>\n",
              "    </tr>\n",
              "    <tr>\n",
              "      <th>...</th>\n",
              "      <td>...</td>\n",
              "      <td>...</td>\n",
              "      <td>...</td>\n",
              "      <td>...</td>\n",
              "      <td>...</td>\n",
              "      <td>...</td>\n",
              "      <td>...</td>\n",
              "      <td>...</td>\n",
              "      <td>...</td>\n",
              "      <td>...</td>\n",
              "      <td>...</td>\n",
              "      <td>...</td>\n",
              "    </tr>\n",
              "    <tr>\n",
              "      <th>119</th>\n",
              "      <td>0</td>\n",
              "      <td>0</td>\n",
              "      <td>1</td>\n",
              "      <td>0</td>\n",
              "      <td>0</td>\n",
              "      <td>0</td>\n",
              "      <td>0</td>\n",
              "      <td>0</td>\n",
              "      <td>0</td>\n",
              "      <td>0</td>\n",
              "      <td>0</td>\n",
              "      <td>0</td>\n",
              "    </tr>\n",
              "    <tr>\n",
              "      <th>120</th>\n",
              "      <td>0</td>\n",
              "      <td>0</td>\n",
              "      <td>0</td>\n",
              "      <td>0</td>\n",
              "      <td>1</td>\n",
              "      <td>0</td>\n",
              "      <td>0</td>\n",
              "      <td>0</td>\n",
              "      <td>0</td>\n",
              "      <td>0</td>\n",
              "      <td>0</td>\n",
              "      <td>0</td>\n",
              "    </tr>\n",
              "    <tr>\n",
              "      <th>121</th>\n",
              "      <td>0</td>\n",
              "      <td>0</td>\n",
              "      <td>0</td>\n",
              "      <td>1</td>\n",
              "      <td>0</td>\n",
              "      <td>0</td>\n",
              "      <td>0</td>\n",
              "      <td>0</td>\n",
              "      <td>0</td>\n",
              "      <td>0</td>\n",
              "      <td>0</td>\n",
              "      <td>0</td>\n",
              "    </tr>\n",
              "    <tr>\n",
              "      <th>122</th>\n",
              "      <td>0</td>\n",
              "      <td>0</td>\n",
              "      <td>0</td>\n",
              "      <td>0</td>\n",
              "      <td>0</td>\n",
              "      <td>0</td>\n",
              "      <td>0</td>\n",
              "      <td>1</td>\n",
              "      <td>0</td>\n",
              "      <td>0</td>\n",
              "      <td>0</td>\n",
              "      <td>0</td>\n",
              "    </tr>\n",
              "    <tr>\n",
              "      <th>123</th>\n",
              "      <td>1</td>\n",
              "      <td>0</td>\n",
              "      <td>0</td>\n",
              "      <td>0</td>\n",
              "      <td>0</td>\n",
              "      <td>0</td>\n",
              "      <td>0</td>\n",
              "      <td>0</td>\n",
              "      <td>0</td>\n",
              "      <td>0</td>\n",
              "      <td>0</td>\n",
              "      <td>0</td>\n",
              "    </tr>\n",
              "  </tbody>\n",
              "</table>\n",
              "<p>124 rows × 12 columns</p>\n",
              "</div>"
            ],
            "text/plain": [
              "     Apr  Aug  Dec  Feb  Jan  Jul  Jun  Mar  May  Nov  Oct  Sep\n",
              "0      0    0    0    0    1    0    0    0    0    0    0    0\n",
              "1      0    0    0    1    0    0    0    0    0    0    0    0\n",
              "2      0    0    0    0    0    0    0    1    0    0    0    0\n",
              "3      1    0    0    0    0    0    0    0    0    0    0    0\n",
              "4      0    0    0    0    0    0    0    0    1    0    0    0\n",
              "..   ...  ...  ...  ...  ...  ...  ...  ...  ...  ...  ...  ...\n",
              "119    0    0    1    0    0    0    0    0    0    0    0    0\n",
              "120    0    0    0    0    1    0    0    0    0    0    0    0\n",
              "121    0    0    0    1    0    0    0    0    0    0    0    0\n",
              "122    0    0    0    0    0    0    0    1    0    0    0    0\n",
              "123    1    0    0    0    0    0    0    0    0    0    0    0\n",
              "\n",
              "[124 rows x 12 columns]"
            ]
          },
          "metadata": {},
          "execution_count": 74
        }
      ]
    },
    {
      "cell_type": "code",
      "metadata": {
        "id": "xfs-4EODoq3r"
      },
      "source": [
        "months = months[['Jan','Feb','Mar','Apr','May','Jun','Jul','Aug','Sep','Oct','Nov','Dec']]\n",
        "## storing the months as serial wise again in months variable"
      ],
      "execution_count": null,
      "outputs": []
    },
    {
      "cell_type": "code",
      "metadata": {
        "id": "5fzbhlgHosil"
      },
      "source": [
        "Coka_Cola = pd.concat([interpolated,months],axis=1)\n"
      ],
      "execution_count": null,
      "outputs": []
    },
    {
      "cell_type": "code",
      "metadata": {
        "colab": {
          "base_uri": "https://localhost:8080/",
          "height": 203
        },
        "id": "fvz9Tt6qpAnY",
        "outputId": "a0a29ce2-51aa-4caf-aa9c-60c4899504a4"
      },
      "source": [
        "Coka_Cola.head()"
      ],
      "execution_count": null,
      "outputs": [
        {
          "output_type": "execute_result",
          "data": {
            "text/html": [
              "<div>\n",
              "<style scoped>\n",
              "    .dataframe tbody tr th:only-of-type {\n",
              "        vertical-align: middle;\n",
              "    }\n",
              "\n",
              "    .dataframe tbody tr th {\n",
              "        vertical-align: top;\n",
              "    }\n",
              "\n",
              "    .dataframe thead th {\n",
              "        text-align: right;\n",
              "    }\n",
              "</style>\n",
              "<table border=\"1\" class=\"dataframe\">\n",
              "  <thead>\n",
              "    <tr style=\"text-align: right;\">\n",
              "      <th></th>\n",
              "      <th>date</th>\n",
              "      <th>Sales</th>\n",
              "      <th>t</th>\n",
              "      <th>t_sq</th>\n",
              "      <th>month</th>\n",
              "      <th>year</th>\n",
              "      <th>Jan</th>\n",
              "      <th>Feb</th>\n",
              "      <th>Mar</th>\n",
              "      <th>Apr</th>\n",
              "      <th>May</th>\n",
              "      <th>Jun</th>\n",
              "      <th>Jul</th>\n",
              "      <th>Aug</th>\n",
              "      <th>Sep</th>\n",
              "      <th>Oct</th>\n",
              "      <th>Nov</th>\n",
              "      <th>Dec</th>\n",
              "    </tr>\n",
              "  </thead>\n",
              "  <tbody>\n",
              "    <tr>\n",
              "      <th>0</th>\n",
              "      <td>1986-01-31</td>\n",
              "      <td>1734.827000</td>\n",
              "      <td>1</td>\n",
              "      <td>1</td>\n",
              "      <td>Jan</td>\n",
              "      <td>1986</td>\n",
              "      <td>1</td>\n",
              "      <td>0</td>\n",
              "      <td>0</td>\n",
              "      <td>0</td>\n",
              "      <td>0</td>\n",
              "      <td>0</td>\n",
              "      <td>0</td>\n",
              "      <td>0</td>\n",
              "      <td>0</td>\n",
              "      <td>0</td>\n",
              "      <td>0</td>\n",
              "      <td>0</td>\n",
              "    </tr>\n",
              "    <tr>\n",
              "      <th>1</th>\n",
              "      <td>1986-02-28</td>\n",
              "      <td>1904.871666</td>\n",
              "      <td>2</td>\n",
              "      <td>4</td>\n",
              "      <td>Feb</td>\n",
              "      <td>1986</td>\n",
              "      <td>0</td>\n",
              "      <td>1</td>\n",
              "      <td>0</td>\n",
              "      <td>0</td>\n",
              "      <td>0</td>\n",
              "      <td>0</td>\n",
              "      <td>0</td>\n",
              "      <td>0</td>\n",
              "      <td>0</td>\n",
              "      <td>0</td>\n",
              "      <td>0</td>\n",
              "      <td>0</td>\n",
              "    </tr>\n",
              "    <tr>\n",
              "      <th>2</th>\n",
              "      <td>1986-03-31</td>\n",
              "      <td>2074.916332</td>\n",
              "      <td>3</td>\n",
              "      <td>9</td>\n",
              "      <td>Mar</td>\n",
              "      <td>1986</td>\n",
              "      <td>0</td>\n",
              "      <td>0</td>\n",
              "      <td>1</td>\n",
              "      <td>0</td>\n",
              "      <td>0</td>\n",
              "      <td>0</td>\n",
              "      <td>0</td>\n",
              "      <td>0</td>\n",
              "      <td>0</td>\n",
              "      <td>0</td>\n",
              "      <td>0</td>\n",
              "      <td>0</td>\n",
              "    </tr>\n",
              "    <tr>\n",
              "      <th>3</th>\n",
              "      <td>1986-04-30</td>\n",
              "      <td>2244.960999</td>\n",
              "      <td>4</td>\n",
              "      <td>16</td>\n",
              "      <td>Apr</td>\n",
              "      <td>1986</td>\n",
              "      <td>0</td>\n",
              "      <td>0</td>\n",
              "      <td>0</td>\n",
              "      <td>1</td>\n",
              "      <td>0</td>\n",
              "      <td>0</td>\n",
              "      <td>0</td>\n",
              "      <td>0</td>\n",
              "      <td>0</td>\n",
              "      <td>0</td>\n",
              "      <td>0</td>\n",
              "      <td>0</td>\n",
              "    </tr>\n",
              "    <tr>\n",
              "      <th>4</th>\n",
              "      <td>1986-05-31</td>\n",
              "      <td>2341.242330</td>\n",
              "      <td>5</td>\n",
              "      <td>25</td>\n",
              "      <td>May</td>\n",
              "      <td>1986</td>\n",
              "      <td>0</td>\n",
              "      <td>0</td>\n",
              "      <td>0</td>\n",
              "      <td>0</td>\n",
              "      <td>1</td>\n",
              "      <td>0</td>\n",
              "      <td>0</td>\n",
              "      <td>0</td>\n",
              "      <td>0</td>\n",
              "      <td>0</td>\n",
              "      <td>0</td>\n",
              "      <td>0</td>\n",
              "    </tr>\n",
              "  </tbody>\n",
              "</table>\n",
              "</div>"
            ],
            "text/plain": [
              "        date        Sales  t  t_sq month  year  ...  Jul  Aug  Sep  Oct  Nov  Dec\n",
              "0 1986-01-31  1734.827000  1     1   Jan  1986  ...    0    0    0    0    0    0\n",
              "1 1986-02-28  1904.871666  2     4   Feb  1986  ...    0    0    0    0    0    0\n",
              "2 1986-03-31  2074.916332  3     9   Mar  1986  ...    0    0    0    0    0    0\n",
              "3 1986-04-30  2244.960999  4    16   Apr  1986  ...    0    0    0    0    0    0\n",
              "4 1986-05-31  2341.242330  5    25   May  1986  ...    0    0    0    0    0    0\n",
              "\n",
              "[5 rows x 18 columns]"
            ]
          },
          "metadata": {},
          "execution_count": 77
        }
      ]
    },
    {
      "cell_type": "code",
      "metadata": {
        "id": "RSu-lohkpBSR"
      },
      "source": [
        "Coka_Cola['log_sales'] = np.log(Coka_Cola['Sales'])"
      ],
      "execution_count": null,
      "outputs": []
    },
    {
      "cell_type": "code",
      "metadata": {
        "colab": {
          "base_uri": "https://localhost:8080/",
          "height": 417
        },
        "id": "NnCILbFlpIaP",
        "outputId": "165972c5-3899-4eb5-a336-2d937722841c"
      },
      "source": [
        "Coka_Cola"
      ],
      "execution_count": null,
      "outputs": [
        {
          "output_type": "execute_result",
          "data": {
            "text/html": [
              "<div>\n",
              "<style scoped>\n",
              "    .dataframe tbody tr th:only-of-type {\n",
              "        vertical-align: middle;\n",
              "    }\n",
              "\n",
              "    .dataframe tbody tr th {\n",
              "        vertical-align: top;\n",
              "    }\n",
              "\n",
              "    .dataframe thead th {\n",
              "        text-align: right;\n",
              "    }\n",
              "</style>\n",
              "<table border=\"1\" class=\"dataframe\">\n",
              "  <thead>\n",
              "    <tr style=\"text-align: right;\">\n",
              "      <th></th>\n",
              "      <th>date</th>\n",
              "      <th>Sales</th>\n",
              "      <th>t</th>\n",
              "      <th>t_sq</th>\n",
              "      <th>month</th>\n",
              "      <th>year</th>\n",
              "      <th>Jan</th>\n",
              "      <th>Feb</th>\n",
              "      <th>Mar</th>\n",
              "      <th>Apr</th>\n",
              "      <th>May</th>\n",
              "      <th>Jun</th>\n",
              "      <th>Jul</th>\n",
              "      <th>Aug</th>\n",
              "      <th>Sep</th>\n",
              "      <th>Oct</th>\n",
              "      <th>Nov</th>\n",
              "      <th>Dec</th>\n",
              "      <th>log_sales</th>\n",
              "    </tr>\n",
              "  </thead>\n",
              "  <tbody>\n",
              "    <tr>\n",
              "      <th>0</th>\n",
              "      <td>1986-01-31</td>\n",
              "      <td>1734.827000</td>\n",
              "      <td>1</td>\n",
              "      <td>1</td>\n",
              "      <td>Jan</td>\n",
              "      <td>1986</td>\n",
              "      <td>1</td>\n",
              "      <td>0</td>\n",
              "      <td>0</td>\n",
              "      <td>0</td>\n",
              "      <td>0</td>\n",
              "      <td>0</td>\n",
              "      <td>0</td>\n",
              "      <td>0</td>\n",
              "      <td>0</td>\n",
              "      <td>0</td>\n",
              "      <td>0</td>\n",
              "      <td>0</td>\n",
              "      <td>7.458663</td>\n",
              "    </tr>\n",
              "    <tr>\n",
              "      <th>1</th>\n",
              "      <td>1986-02-28</td>\n",
              "      <td>1904.871666</td>\n",
              "      <td>2</td>\n",
              "      <td>4</td>\n",
              "      <td>Feb</td>\n",
              "      <td>1986</td>\n",
              "      <td>0</td>\n",
              "      <td>1</td>\n",
              "      <td>0</td>\n",
              "      <td>0</td>\n",
              "      <td>0</td>\n",
              "      <td>0</td>\n",
              "      <td>0</td>\n",
              "      <td>0</td>\n",
              "      <td>0</td>\n",
              "      <td>0</td>\n",
              "      <td>0</td>\n",
              "      <td>0</td>\n",
              "      <td>7.552170</td>\n",
              "    </tr>\n",
              "    <tr>\n",
              "      <th>2</th>\n",
              "      <td>1986-03-31</td>\n",
              "      <td>2074.916332</td>\n",
              "      <td>3</td>\n",
              "      <td>9</td>\n",
              "      <td>Mar</td>\n",
              "      <td>1986</td>\n",
              "      <td>0</td>\n",
              "      <td>0</td>\n",
              "      <td>1</td>\n",
              "      <td>0</td>\n",
              "      <td>0</td>\n",
              "      <td>0</td>\n",
              "      <td>0</td>\n",
              "      <td>0</td>\n",
              "      <td>0</td>\n",
              "      <td>0</td>\n",
              "      <td>0</td>\n",
              "      <td>0</td>\n",
              "      <td>7.637676</td>\n",
              "    </tr>\n",
              "    <tr>\n",
              "      <th>3</th>\n",
              "      <td>1986-04-30</td>\n",
              "      <td>2244.960999</td>\n",
              "      <td>4</td>\n",
              "      <td>16</td>\n",
              "      <td>Apr</td>\n",
              "      <td>1986</td>\n",
              "      <td>0</td>\n",
              "      <td>0</td>\n",
              "      <td>0</td>\n",
              "      <td>1</td>\n",
              "      <td>0</td>\n",
              "      <td>0</td>\n",
              "      <td>0</td>\n",
              "      <td>0</td>\n",
              "      <td>0</td>\n",
              "      <td>0</td>\n",
              "      <td>0</td>\n",
              "      <td>0</td>\n",
              "      <td>7.716443</td>\n",
              "    </tr>\n",
              "    <tr>\n",
              "      <th>4</th>\n",
              "      <td>1986-05-31</td>\n",
              "      <td>2341.242330</td>\n",
              "      <td>5</td>\n",
              "      <td>25</td>\n",
              "      <td>May</td>\n",
              "      <td>1986</td>\n",
              "      <td>0</td>\n",
              "      <td>0</td>\n",
              "      <td>0</td>\n",
              "      <td>0</td>\n",
              "      <td>1</td>\n",
              "      <td>0</td>\n",
              "      <td>0</td>\n",
              "      <td>0</td>\n",
              "      <td>0</td>\n",
              "      <td>0</td>\n",
              "      <td>0</td>\n",
              "      <td>0</td>\n",
              "      <td>7.758437</td>\n",
              "    </tr>\n",
              "    <tr>\n",
              "      <th>...</th>\n",
              "      <td>...</td>\n",
              "      <td>...</td>\n",
              "      <td>...</td>\n",
              "      <td>...</td>\n",
              "      <td>...</td>\n",
              "      <td>...</td>\n",
              "      <td>...</td>\n",
              "      <td>...</td>\n",
              "      <td>...</td>\n",
              "      <td>...</td>\n",
              "      <td>...</td>\n",
              "      <td>...</td>\n",
              "      <td>...</td>\n",
              "      <td>...</td>\n",
              "      <td>...</td>\n",
              "      <td>...</td>\n",
              "      <td>...</td>\n",
              "      <td>...</td>\n",
              "      <td>...</td>\n",
              "    </tr>\n",
              "    <tr>\n",
              "      <th>119</th>\n",
              "      <td>1995-12-31</td>\n",
              "      <td>4240.333333</td>\n",
              "      <td>120</td>\n",
              "      <td>14400</td>\n",
              "      <td>Dec</td>\n",
              "      <td>1995</td>\n",
              "      <td>0</td>\n",
              "      <td>0</td>\n",
              "      <td>0</td>\n",
              "      <td>0</td>\n",
              "      <td>0</td>\n",
              "      <td>0</td>\n",
              "      <td>0</td>\n",
              "      <td>0</td>\n",
              "      <td>0</td>\n",
              "      <td>0</td>\n",
              "      <td>0</td>\n",
              "      <td>1</td>\n",
              "      <td>8.352397</td>\n",
              "    </tr>\n",
              "    <tr>\n",
              "      <th>120</th>\n",
              "      <td>1996-01-31</td>\n",
              "      <td>4194.000000</td>\n",
              "      <td>121</td>\n",
              "      <td>14641</td>\n",
              "      <td>Jan</td>\n",
              "      <td>1996</td>\n",
              "      <td>1</td>\n",
              "      <td>0</td>\n",
              "      <td>0</td>\n",
              "      <td>0</td>\n",
              "      <td>0</td>\n",
              "      <td>0</td>\n",
              "      <td>0</td>\n",
              "      <td>0</td>\n",
              "      <td>0</td>\n",
              "      <td>0</td>\n",
              "      <td>0</td>\n",
              "      <td>0</td>\n",
              "      <td>8.341410</td>\n",
              "    </tr>\n",
              "    <tr>\n",
              "      <th>121</th>\n",
              "      <td>1996-02-29</td>\n",
              "      <td>4547.000000</td>\n",
              "      <td>122</td>\n",
              "      <td>14884</td>\n",
              "      <td>Feb</td>\n",
              "      <td>1996</td>\n",
              "      <td>0</td>\n",
              "      <td>1</td>\n",
              "      <td>0</td>\n",
              "      <td>0</td>\n",
              "      <td>0</td>\n",
              "      <td>0</td>\n",
              "      <td>0</td>\n",
              "      <td>0</td>\n",
              "      <td>0</td>\n",
              "      <td>0</td>\n",
              "      <td>0</td>\n",
              "      <td>0</td>\n",
              "      <td>8.422223</td>\n",
              "    </tr>\n",
              "    <tr>\n",
              "      <th>122</th>\n",
              "      <td>1996-03-31</td>\n",
              "      <td>4900.000000</td>\n",
              "      <td>123</td>\n",
              "      <td>15129</td>\n",
              "      <td>Mar</td>\n",
              "      <td>1996</td>\n",
              "      <td>0</td>\n",
              "      <td>0</td>\n",
              "      <td>1</td>\n",
              "      <td>0</td>\n",
              "      <td>0</td>\n",
              "      <td>0</td>\n",
              "      <td>0</td>\n",
              "      <td>0</td>\n",
              "      <td>0</td>\n",
              "      <td>0</td>\n",
              "      <td>0</td>\n",
              "      <td>0</td>\n",
              "      <td>8.496990</td>\n",
              "    </tr>\n",
              "    <tr>\n",
              "      <th>123</th>\n",
              "      <td>1996-04-30</td>\n",
              "      <td>5253.000000</td>\n",
              "      <td>124</td>\n",
              "      <td>15376</td>\n",
              "      <td>Apr</td>\n",
              "      <td>1996</td>\n",
              "      <td>0</td>\n",
              "      <td>0</td>\n",
              "      <td>0</td>\n",
              "      <td>1</td>\n",
              "      <td>0</td>\n",
              "      <td>0</td>\n",
              "      <td>0</td>\n",
              "      <td>0</td>\n",
              "      <td>0</td>\n",
              "      <td>0</td>\n",
              "      <td>0</td>\n",
              "      <td>0</td>\n",
              "      <td>8.566555</td>\n",
              "    </tr>\n",
              "  </tbody>\n",
              "</table>\n",
              "<p>124 rows × 19 columns</p>\n",
              "</div>"
            ],
            "text/plain": [
              "          date        Sales    t   t_sq month  ... Sep  Oct  Nov  Dec  log_sales\n",
              "0   1986-01-31  1734.827000    1      1   Jan  ...   0    0    0    0   7.458663\n",
              "1   1986-02-28  1904.871666    2      4   Feb  ...   0    0    0    0   7.552170\n",
              "2   1986-03-31  2074.916332    3      9   Mar  ...   0    0    0    0   7.637676\n",
              "3   1986-04-30  2244.960999    4     16   Apr  ...   0    0    0    0   7.716443\n",
              "4   1986-05-31  2341.242330    5     25   May  ...   0    0    0    0   7.758437\n",
              "..         ...          ...  ...    ...   ...  ...  ..  ...  ...  ...        ...\n",
              "119 1995-12-31  4240.333333  120  14400   Dec  ...   0    0    0    1   8.352397\n",
              "120 1996-01-31  4194.000000  121  14641   Jan  ...   0    0    0    0   8.341410\n",
              "121 1996-02-29  4547.000000  122  14884   Feb  ...   0    0    0    0   8.422223\n",
              "122 1996-03-31  4900.000000  123  15129   Mar  ...   0    0    0    0   8.496990\n",
              "123 1996-04-30  5253.000000  124  15376   Apr  ...   0    0    0    0   8.566555\n",
              "\n",
              "[124 rows x 19 columns]"
            ]
          },
          "metadata": {},
          "execution_count": 79
        }
      ]
    },
    {
      "cell_type": "code",
      "metadata": {
        "colab": {
          "base_uri": "https://localhost:8080/",
          "height": 514
        },
        "id": "oTsXs5TJpJy6",
        "outputId": "8f8b45c2-ae20-49f4-fa8d-279e832d7a01"
      },
      "source": [
        "plt.figure(figsize=(12,8))\n",
        "heatmap_y_month = pd.pivot_table(data=Coka_Cola,values=\"Sales\",index=\"year\",columns=\"month\",aggfunc=\"mean\",fill_value=0)\n",
        "sns.heatmap(heatmap_y_month,annot=True,fmt=\"g\")"
      ],
      "execution_count": null,
      "outputs": [
        {
          "output_type": "execute_result",
          "data": {
            "text/plain": [
              "<matplotlib.axes._subplots.AxesSubplot at 0x7f20d1841f50>"
            ]
          },
          "metadata": {},
          "execution_count": 80
        },
        {
          "output_type": "display_data",
          "data": {
            "image/png": "[encoded data removed]",
            "text/plain": [
              "<Figure size 864x576 with 2 Axes>"
            ]
          },
          "metadata": {
            "needs_background": "light"
          }
        }
      ]
    },
    {
      "cell_type": "code",
      "metadata": {
        "colab": {
          "base_uri": "https://localhost:8080/",
          "height": 405
        },
        "id": "w3HGDsSIpmqD",
        "outputId": "44a3cbe3-c435-4e70-a4a8-670cc5b4a8cd"
      },
      "source": [
        "# Boxplot \n",
        "plt.figure(figsize=(8,6))\n",
        "plt.subplot(211)\n",
        "sns.boxplot(x=\"month\",y=\"Sales\",data= Coka_Cola)\n",
        "plt.subplot(212)\n",
        "sns.boxplot(x=\"year\",y=\"Sales\",data=Coka_Cola)"
      ],
      "execution_count": null,
      "outputs": [
        {
          "output_type": "execute_result",
          "data": {
            "text/plain": [
              "<matplotlib.axes._subplots.AxesSubplot at 0x7f20c7295110>"
            ]
          },
          "metadata": {},
          "execution_count": 81
        },
        {
          "output_type": "display_data",
          "data": {
            "image/png": "[encoded data removed]",
            "text/plain": [
              "<Figure size 576x432 with 2 Axes>"
            ]
          },
          "metadata": {
            "needs_background": "light"
          }
        }
      ]
    },
    {
      "cell_type": "code",
      "metadata": {
        "colab": {
          "base_uri": "https://localhost:8080/",
          "height": 242
        },
        "id": "Xl0WpiRKpyhL",
        "outputId": "df1c6ac0-c965-4132-cc7a-c3bf6519467d"
      },
      "source": [
        "plt.figure(figsize=(12,3))\n",
        "sns.lineplot(x=\"year\",y=\"Sales\",data=Coka_Cola)"
      ],
      "execution_count": null,
      "outputs": [
        {
          "output_type": "execute_result",
          "data": {
            "text/plain": [
              "<matplotlib.axes._subplots.AxesSubplot at 0x7f20c7144e10>"
            ]
          },
          "metadata": {},
          "execution_count": 82
        },
        {
          "output_type": "display_data",
          "data": {
            "image/png": "[encoded data removed]",
            "text/plain": [
              "<Figure size 864x216 with 1 Axes>"
            ]
          },
          "metadata": {
            "needs_background": "light"
          }
        }
      ]
    },
    {
      "cell_type": "markdown",
      "metadata": {
        "id": "yVWJwfqdqKyV"
      },
      "source": [
        "#Splitting data"
      ]
    },
    {
      "cell_type": "code",
      "metadata": {
        "id": "Pd2ii2WAp3dy"
      },
      "source": [
        "Train = Coka_Cola.head(110) # training data\n",
        "Test = Coka_Cola.tail(14) # test Data"
      ],
      "execution_count": null,
      "outputs": []
    },
    {
      "cell_type": "code",
      "metadata": {
        "colab": {
          "base_uri": "https://localhost:8080/"
        },
        "id": "XJN1kzb7qfPw",
        "outputId": "fa298c1a-c167-4455-e94d-679d61dfd942"
      },
      "source": [
        "#Linear Model\n",
        "import statsmodels.formula.api as smf \n",
        "\n",
        "linear_model = smf.ols('Sales~t',data=Train).fit()\n",
        "pred_linear =  pd.Series(linear_model.predict(pd.DataFrame(Test['t'])))\n",
        "rmse_linear = np.sqrt(np.mean((np.array(Test['Sales'])-np.array(pred_linear))**2))\n",
        "rmse_linear"
      ],
      "execution_count": null,
      "outputs": [
        {
          "output_type": "execute_result",
          "data": {
            "text/plain": [
              "638.1208225922795"
            ]
          },
          "metadata": {},
          "execution_count": 85
        }
      ]
    },
    {
      "cell_type": "code",
      "metadata": {
        "colab": {
          "base_uri": "https://localhost:8080/"
        },
        "id": "rg8P2rpwqv8Z",
        "outputId": "8cf41565-22d4-40de-e946-fa72844cec7d"
      },
      "source": [
        "#Exponential\n",
        "Exp = smf.ols('log_sales~t',data=Train).fit()\n",
        "pred_Exp = pd.Series(Exp.predict(pd.DataFrame(Test['t'])))\n",
        "rmse_Exp = np.sqrt(np.mean((np.array(Test['Sales'])-np.array(np.exp(pred_Exp)))**2))\n",
        "rmse_Exp"
      ],
      "execution_count": null,
      "outputs": [
        {
          "output_type": "execute_result",
          "data": {
            "text/plain": [
              "494.44069305457606"
            ]
          },
          "metadata": {},
          "execution_count": 86
        }
      ]
    },
    {
      "cell_type": "code",
      "metadata": {
        "colab": {
          "base_uri": "https://localhost:8080/"
        },
        "id": "DxLt_t94qz8j",
        "outputId": "14ed8a24-df5f-4fb4-bcd0-787b4b560e5f"
      },
      "source": [
        "#Quadratic \n",
        "\n",
        "Quad = smf.ols('Sales~t+t_sq',data=Train).fit()\n",
        "pred_Quad = pd.Series(Quad.predict(Test[[\"t\",\"t_sq\"]]))\n",
        "rmse_Quad = np.sqrt(np.mean((np.array(Test['Sales'])-np.array(pred_Quad))**2))\n",
        "rmse_Quad"
      ],
      "execution_count": null,
      "outputs": [
        {
          "output_type": "execute_result",
          "data": {
            "text/plain": [
              "387.2816008292832"
            ]
          },
          "metadata": {},
          "execution_count": 87
        }
      ]
    },
    {
      "cell_type": "code",
      "metadata": {
        "colab": {
          "base_uri": "https://localhost:8080/"
        },
        "id": "V8NBwcFmq2e7",
        "outputId": "b2a5cee2-281c-434d-9af2-d1980934ac17"
      },
      "source": [
        "#Additive seasonality \n",
        "\n",
        "add_sea = smf.ols('Sales~Jan+Feb+Mar+Apr+May+Jun+Jul+Aug+Sep+Oct+Nov',data=Train).fit()\n",
        "pred_add_sea = pd.Series(add_sea.predict(Test[['Jan','Feb','Mar','Apr','May','Jun','Jul','Aug','Sep','Oct','Nov']]))\n",
        "rmse_add_sea = np.sqrt(np.mean((np.array(Test['Sales'])-np.array(pred_add_sea))**2))\n",
        "rmse_add_sea"
      ],
      "execution_count": null,
      "outputs": [
        {
          "output_type": "execute_result",
          "data": {
            "text/plain": [
              "1881.8135899060228"
            ]
          },
          "metadata": {},
          "execution_count": 88
        }
      ]
    },
    {
      "cell_type": "code",
      "metadata": {
        "colab": {
          "base_uri": "https://localhost:8080/"
        },
        "id": "MH3uDC51q5fJ",
        "outputId": "f44dd324-f0e6-4c11-ca8c-1e531ecafb1f"
      },
      "source": [
        "#Additive Seasonality Quadratic \n",
        "\n",
        "add_sea_Quad = smf.ols('Sales~t+t_sq+Jan+Feb+Mar+Apr+May+Jun+Jul+Aug+Sep+Oct+Nov',data=Train).fit()\n",
        "pred_add_sea_quad = pd.Series(add_sea_Quad.predict(Test[['Jan','Feb','Mar','Apr','May','Jun','Jul','Aug','Sep','Oct','Nov','t','t_sq']]))\n",
        "rmse_add_sea_quad = np.sqrt(np.mean((np.array(Test['Sales'])-np.array(pred_add_sea_quad))**2))\n",
        "rmse_add_sea_quad"
      ],
      "execution_count": null,
      "outputs": [
        {
          "output_type": "execute_result",
          "data": {
            "text/plain": [
              "242.77660443466993"
            ]
          },
          "metadata": {},
          "execution_count": 89
        }
      ]
    },
    {
      "cell_type": "code",
      "metadata": {
        "colab": {
          "base_uri": "https://localhost:8080/"
        },
        "id": "gXtLqwoOq8sM",
        "outputId": "cae06561-7a89-46bd-a07e-4b94c9dceb41"
      },
      "source": [
        "##Multiplicative Seasonality\n",
        "\n",
        "Mul_sea = smf.ols('log_sales~Jan+Feb+Mar+Apr+May+Jun+Jul+Aug+Sep+Oct+Nov',data = Train).fit()\n",
        "pred_Mult_sea = pd.Series(Mul_sea.predict(Test))\n",
        "rmse_Mult_sea = np.sqrt(np.mean((np.array(Test['Sales'])-np.array(np.exp(pred_Mult_sea)))**2))\n",
        "rmse_Mult_sea"
      ],
      "execution_count": null,
      "outputs": [
        {
          "output_type": "execute_result",
          "data": {
            "text/plain": [
              "1973.2620608123132"
            ]
          },
          "metadata": {},
          "execution_count": 90
        }
      ]
    },
    {
      "cell_type": "code",
      "metadata": {
        "colab": {
          "base_uri": "https://localhost:8080/"
        },
        "id": "1N8W8vFSq_GW",
        "outputId": "65216700-52d1-4701-b363-3512dbe2ecc0"
      },
      "source": [
        "#Multiplicative Additive Seasonality \n",
        "\n",
        "Mul_Add_sea = smf.ols('log_sales~t+Jan+Feb+Mar+Apr+May+Jun+Jul+Aug+Sep+Oct+Nov',data = Train).fit()\n",
        "pred_Mult_add_sea = pd.Series(Mul_Add_sea.predict(Test))\n",
        "rmse_Mult_add_sea = np.sqrt(np.mean((np.array(Test['Sales'])-np.array(np.exp(pred_Mult_add_sea)))**2))\n",
        "rmse_Mult_add_sea "
      ],
      "execution_count": null,
      "outputs": [
        {
          "output_type": "execute_result",
          "data": {
            "text/plain": [
              "275.2750321115881"
            ]
          },
          "metadata": {},
          "execution_count": 91
        }
      ]
    },
    {
      "cell_type": "code",
      "metadata": {
        "colab": {
          "base_uri": "https://localhost:8080/",
          "height": 265
        },
        "id": "CZa3kupFrBey",
        "outputId": "f515cfca-d3fe-46c1-c5b3-32d1284db8ea"
      },
      "source": [
        "#Compareing the results \n",
        "\n",
        "data = {\"MODEL\":pd.Series([\"rmse_linear\",\"rmse_Exp\",\"rmse_Quad\",\"rmse_add_sea\",\"rmse_add_sea_quad\",\"rmse_Mult_sea\",\"rmse_Mult_add_sea\"]),\"RMSE_Values\":pd.Series([rmse_linear,rmse_Exp,rmse_Quad,rmse_add_sea,rmse_add_sea_quad,rmse_Mult_sea,rmse_Mult_add_sea])}\n",
        "table_rmse=pd.DataFrame(data)\n",
        "table_rmse.sort_values(['RMSE_Values'])"
      ],
      "execution_count": null,
      "outputs": [
        {
          "output_type": "execute_result",
          "data": {
            "text/html": [
              "<div>\n",
              "<style scoped>\n",
              "    .dataframe tbody tr th:only-of-type {\n",
              "        vertical-align: middle;\n",
              "    }\n",
              "\n",
              "    .dataframe tbody tr th {\n",
              "        vertical-align: top;\n",
              "    }\n",
              "\n",
              "    .dataframe thead th {\n",
              "        text-align: right;\n",
              "    }\n",
              "</style>\n",
              "<table border=\"1\" class=\"dataframe\">\n",
              "  <thead>\n",
              "    <tr style=\"text-align: right;\">\n",
              "      <th></th>\n",
              "      <th>MODEL</th>\n",
              "      <th>RMSE_Values</th>\n",
              "    </tr>\n",
              "  </thead>\n",
              "  <tbody>\n",
              "    <tr>\n",
              "      <th>4</th>\n",
              "      <td>rmse_add_sea_quad</td>\n",
              "      <td>242.776604</td>\n",
              "    </tr>\n",
              "    <tr>\n",
              "      <th>6</th>\n",
              "      <td>rmse_Mult_add_sea</td>\n",
              "      <td>275.275032</td>\n",
              "    </tr>\n",
              "    <tr>\n",
              "      <th>2</th>\n",
              "      <td>rmse_Quad</td>\n",
              "      <td>387.281601</td>\n",
              "    </tr>\n",
              "    <tr>\n",
              "      <th>1</th>\n",
              "      <td>rmse_Exp</td>\n",
              "      <td>494.440693</td>\n",
              "    </tr>\n",
              "    <tr>\n",
              "      <th>0</th>\n",
              "      <td>rmse_linear</td>\n",
              "      <td>638.120823</td>\n",
              "    </tr>\n",
              "    <tr>\n",
              "      <th>3</th>\n",
              "      <td>rmse_add_sea</td>\n",
              "      <td>1881.813590</td>\n",
              "    </tr>\n",
              "    <tr>\n",
              "      <th>5</th>\n",
              "      <td>rmse_Mult_sea</td>\n",
              "      <td>1973.262061</td>\n",
              "    </tr>\n",
              "  </tbody>\n",
              "</table>\n",
              "</div>"
            ],
            "text/plain": [
              "               MODEL  RMSE_Values\n",
              "4  rmse_add_sea_quad   242.776604\n",
              "6  rmse_Mult_add_sea   275.275032\n",
              "2          rmse_Quad   387.281601\n",
              "1           rmse_Exp   494.440693\n",
              "0        rmse_linear   638.120823\n",
              "3       rmse_add_sea  1881.813590\n",
              "5      rmse_Mult_sea  1973.262061"
            ]
          },
          "metadata": {},
          "execution_count": 92
        }
      ]
    },
    {
      "cell_type": "markdown",
      "metadata": {
        "id": "en-UETBXrYmv"
      },
      "source": [
        "#Predict for new time period"
      ]
    },
    {
      "cell_type": "code",
      "metadata": {
        "id": "sw5s0ZiWrLX0"
      },
      "source": [
        "predict_data = pd.read_excel('/content/Predict_new_coke.xlsx')"
      ],
      "execution_count": null,
      "outputs": []
    },
    {
      "cell_type": "code",
      "metadata": {
        "colab": {
          "base_uri": "https://localhost:8080/",
          "height": 450
        },
        "id": "f3ULHYXesy8G",
        "outputId": "d09a9b51-e1ea-461f-8633-880a3892b669"
      },
      "source": [
        "predict_data"
      ],
      "execution_count": null,
      "outputs": [
        {
          "output_type": "execute_result",
          "data": {
            "text/html": [
              "<div>\n",
              "<style scoped>\n",
              "    .dataframe tbody tr th:only-of-type {\n",
              "        vertical-align: middle;\n",
              "    }\n",
              "\n",
              "    .dataframe tbody tr th {\n",
              "        vertical-align: top;\n",
              "    }\n",
              "\n",
              "    .dataframe thead th {\n",
              "        text-align: right;\n",
              "    }\n",
              "</style>\n",
              "<table border=\"1\" class=\"dataframe\">\n",
              "  <thead>\n",
              "    <tr style=\"text-align: right;\">\n",
              "      <th></th>\n",
              "      <th>Date</th>\n",
              "      <th>Jan</th>\n",
              "      <th>Feb</th>\n",
              "      <th>Mar</th>\n",
              "      <th>Apr</th>\n",
              "      <th>May</th>\n",
              "      <th>Jun</th>\n",
              "      <th>Jul</th>\n",
              "      <th>Aug</th>\n",
              "      <th>Sep</th>\n",
              "      <th>Oct</th>\n",
              "      <th>Nov</th>\n",
              "      <th>Dec</th>\n",
              "      <th>t</th>\n",
              "      <th>t_sq</th>\n",
              "    </tr>\n",
              "  </thead>\n",
              "  <tbody>\n",
              "    <tr>\n",
              "      <th>0</th>\n",
              "      <td>1996-05-31</td>\n",
              "      <td>0</td>\n",
              "      <td>0</td>\n",
              "      <td>0</td>\n",
              "      <td>0</td>\n",
              "      <td>1</td>\n",
              "      <td>0</td>\n",
              "      <td>0</td>\n",
              "      <td>0</td>\n",
              "      <td>0</td>\n",
              "      <td>0</td>\n",
              "      <td>0</td>\n",
              "      <td>0</td>\n",
              "      <td>125</td>\n",
              "      <td>15625</td>\n",
              "    </tr>\n",
              "    <tr>\n",
              "      <th>1</th>\n",
              "      <td>1996-06-30</td>\n",
              "      <td>0</td>\n",
              "      <td>0</td>\n",
              "      <td>0</td>\n",
              "      <td>0</td>\n",
              "      <td>0</td>\n",
              "      <td>1</td>\n",
              "      <td>0</td>\n",
              "      <td>0</td>\n",
              "      <td>0</td>\n",
              "      <td>0</td>\n",
              "      <td>0</td>\n",
              "      <td>0</td>\n",
              "      <td>126</td>\n",
              "      <td>15876</td>\n",
              "    </tr>\n",
              "    <tr>\n",
              "      <th>2</th>\n",
              "      <td>1996-07-31</td>\n",
              "      <td>0</td>\n",
              "      <td>0</td>\n",
              "      <td>0</td>\n",
              "      <td>0</td>\n",
              "      <td>0</td>\n",
              "      <td>0</td>\n",
              "      <td>1</td>\n",
              "      <td>0</td>\n",
              "      <td>0</td>\n",
              "      <td>0</td>\n",
              "      <td>0</td>\n",
              "      <td>0</td>\n",
              "      <td>127</td>\n",
              "      <td>16129</td>\n",
              "    </tr>\n",
              "    <tr>\n",
              "      <th>3</th>\n",
              "      <td>1996-07-31</td>\n",
              "      <td>0</td>\n",
              "      <td>0</td>\n",
              "      <td>0</td>\n",
              "      <td>0</td>\n",
              "      <td>0</td>\n",
              "      <td>0</td>\n",
              "      <td>0</td>\n",
              "      <td>1</td>\n",
              "      <td>0</td>\n",
              "      <td>0</td>\n",
              "      <td>0</td>\n",
              "      <td>0</td>\n",
              "      <td>128</td>\n",
              "      <td>16384</td>\n",
              "    </tr>\n",
              "    <tr>\n",
              "      <th>4</th>\n",
              "      <td>1996-08-31</td>\n",
              "      <td>0</td>\n",
              "      <td>0</td>\n",
              "      <td>0</td>\n",
              "      <td>0</td>\n",
              "      <td>0</td>\n",
              "      <td>0</td>\n",
              "      <td>0</td>\n",
              "      <td>0</td>\n",
              "      <td>1</td>\n",
              "      <td>0</td>\n",
              "      <td>0</td>\n",
              "      <td>0</td>\n",
              "      <td>129</td>\n",
              "      <td>16641</td>\n",
              "    </tr>\n",
              "    <tr>\n",
              "      <th>5</th>\n",
              "      <td>1996-09-30</td>\n",
              "      <td>0</td>\n",
              "      <td>0</td>\n",
              "      <td>0</td>\n",
              "      <td>0</td>\n",
              "      <td>0</td>\n",
              "      <td>0</td>\n",
              "      <td>0</td>\n",
              "      <td>0</td>\n",
              "      <td>0</td>\n",
              "      <td>1</td>\n",
              "      <td>0</td>\n",
              "      <td>0</td>\n",
              "      <td>130</td>\n",
              "      <td>16900</td>\n",
              "    </tr>\n",
              "    <tr>\n",
              "      <th>6</th>\n",
              "      <td>1996-10-31</td>\n",
              "      <td>0</td>\n",
              "      <td>0</td>\n",
              "      <td>0</td>\n",
              "      <td>0</td>\n",
              "      <td>0</td>\n",
              "      <td>0</td>\n",
              "      <td>0</td>\n",
              "      <td>0</td>\n",
              "      <td>0</td>\n",
              "      <td>0</td>\n",
              "      <td>1</td>\n",
              "      <td>0</td>\n",
              "      <td>131</td>\n",
              "      <td>17161</td>\n",
              "    </tr>\n",
              "    <tr>\n",
              "      <th>7</th>\n",
              "      <td>1996-11-30</td>\n",
              "      <td>0</td>\n",
              "      <td>0</td>\n",
              "      <td>0</td>\n",
              "      <td>0</td>\n",
              "      <td>0</td>\n",
              "      <td>0</td>\n",
              "      <td>0</td>\n",
              "      <td>0</td>\n",
              "      <td>0</td>\n",
              "      <td>0</td>\n",
              "      <td>0</td>\n",
              "      <td>1</td>\n",
              "      <td>132</td>\n",
              "      <td>17424</td>\n",
              "    </tr>\n",
              "    <tr>\n",
              "      <th>8</th>\n",
              "      <td>1996-12-31</td>\n",
              "      <td>1</td>\n",
              "      <td>0</td>\n",
              "      <td>0</td>\n",
              "      <td>0</td>\n",
              "      <td>0</td>\n",
              "      <td>0</td>\n",
              "      <td>0</td>\n",
              "      <td>0</td>\n",
              "      <td>0</td>\n",
              "      <td>0</td>\n",
              "      <td>0</td>\n",
              "      <td>0</td>\n",
              "      <td>133</td>\n",
              "      <td>17689</td>\n",
              "    </tr>\n",
              "    <tr>\n",
              "      <th>9</th>\n",
              "      <td>1997-01-31</td>\n",
              "      <td>0</td>\n",
              "      <td>1</td>\n",
              "      <td>0</td>\n",
              "      <td>0</td>\n",
              "      <td>0</td>\n",
              "      <td>0</td>\n",
              "      <td>0</td>\n",
              "      <td>0</td>\n",
              "      <td>0</td>\n",
              "      <td>0</td>\n",
              "      <td>0</td>\n",
              "      <td>0</td>\n",
              "      <td>134</td>\n",
              "      <td>17956</td>\n",
              "    </tr>\n",
              "    <tr>\n",
              "      <th>10</th>\n",
              "      <td>1997-02-28</td>\n",
              "      <td>0</td>\n",
              "      <td>0</td>\n",
              "      <td>1</td>\n",
              "      <td>0</td>\n",
              "      <td>0</td>\n",
              "      <td>0</td>\n",
              "      <td>0</td>\n",
              "      <td>0</td>\n",
              "      <td>0</td>\n",
              "      <td>0</td>\n",
              "      <td>0</td>\n",
              "      <td>0</td>\n",
              "      <td>135</td>\n",
              "      <td>18225</td>\n",
              "    </tr>\n",
              "    <tr>\n",
              "      <th>11</th>\n",
              "      <td>1997-03-31</td>\n",
              "      <td>0</td>\n",
              "      <td>0</td>\n",
              "      <td>1</td>\n",
              "      <td>0</td>\n",
              "      <td>0</td>\n",
              "      <td>0</td>\n",
              "      <td>0</td>\n",
              "      <td>0</td>\n",
              "      <td>0</td>\n",
              "      <td>0</td>\n",
              "      <td>0</td>\n",
              "      <td>0</td>\n",
              "      <td>136</td>\n",
              "      <td>18496</td>\n",
              "    </tr>\n",
              "    <tr>\n",
              "      <th>12</th>\n",
              "      <td>1997-04-30</td>\n",
              "      <td>0</td>\n",
              "      <td>0</td>\n",
              "      <td>0</td>\n",
              "      <td>1</td>\n",
              "      <td>0</td>\n",
              "      <td>0</td>\n",
              "      <td>0</td>\n",
              "      <td>0</td>\n",
              "      <td>0</td>\n",
              "      <td>0</td>\n",
              "      <td>0</td>\n",
              "      <td>0</td>\n",
              "      <td>137</td>\n",
              "      <td>18769</td>\n",
              "    </tr>\n",
              "  </tbody>\n",
              "</table>\n",
              "</div>"
            ],
            "text/plain": [
              "         Date  Jan  Feb  Mar  Apr  May  ...  Sep  Oct  Nov  Dec    t   t_sq\n",
              "0  1996-05-31    0    0    0    0    1  ...    0    0    0    0  125  15625\n",
              "1  1996-06-30    0    0    0    0    0  ...    0    0    0    0  126  15876\n",
              "2  1996-07-31    0    0    0    0    0  ...    0    0    0    0  127  16129\n",
              "3  1996-07-31    0    0    0    0    0  ...    0    0    0    0  128  16384\n",
              "4  1996-08-31    0    0    0    0    0  ...    1    0    0    0  129  16641\n",
              "5  1996-09-30    0    0    0    0    0  ...    0    1    0    0  130  16900\n",
              "6  1996-10-31    0    0    0    0    0  ...    0    0    1    0  131  17161\n",
              "7  1996-11-30    0    0    0    0    0  ...    0    0    0    1  132  17424\n",
              "8  1996-12-31    1    0    0    0    0  ...    0    0    0    0  133  17689\n",
              "9  1997-01-31    0    1    0    0    0  ...    0    0    0    0  134  17956\n",
              "10 1997-02-28    0    0    1    0    0  ...    0    0    0    0  135  18225\n",
              "11 1997-03-31    0    0    1    0    0  ...    0    0    0    0  136  18496\n",
              "12 1997-04-30    0    0    0    1    0  ...    0    0    0    0  137  18769\n",
              "\n",
              "[13 rows x 15 columns]"
            ]
          },
          "metadata": {},
          "execution_count": 94
        }
      ]
    },
    {
      "cell_type": "code",
      "metadata": {
        "id": "OvJB3gfms3Sa"
      },
      "source": [
        "#Build the model on entire data set\n",
        "model_full = smf.ols('log_sales~t+Jan+Feb+Mar+Apr+May+Jun+Jul+Aug+Sep+Oct+Nov',data=Coka_Cola).fit()"
      ],
      "execution_count": null,
      "outputs": []
    },
    {
      "cell_type": "code",
      "metadata": {
        "id": "cXpwkbcXs4o5"
      },
      "source": [
        "pred_new  = pd.Series(Mul_Add_sea.predict(predict_data))\n",
        "pred_new = np.exp(pred_new) \n",
        "#since this model gives us the log value we have to the take the exponent to give us the forecasted value"
      ],
      "execution_count": null,
      "outputs": []
    },
    {
      "cell_type": "code",
      "metadata": {
        "colab": {
          "base_uri": "https://localhost:8080/"
        },
        "id": "ez8j9yJntFAQ",
        "outputId": "7a709fd1-d334-43ac-c08f-6c0dc04debbe"
      },
      "source": [
        "pred_new"
      ],
      "execution_count": null,
      "outputs": [
        {
          "output_type": "execute_result",
          "data": {
            "text/plain": [
              "0     5006.933974\n",
              "1     4996.601057\n",
              "2     4984.163917\n",
              "3     4864.490735\n",
              "4     4743.824656\n",
              "5     4622.080556\n",
              "6     4520.448396\n",
              "7     4414.929091\n",
              "8     4357.315890\n",
              "9     4755.608584\n",
              "10    5114.335054\n",
              "11    5154.417846\n",
              "12    5550.821576\n",
              "dtype: float64"
            ]
          },
          "metadata": {},
          "execution_count": 98
        }
      ]
    },
    {
      "cell_type": "code",
      "metadata": {
        "id": "EuBakTmRtFZH"
      },
      "source": [
        "predict_data[\"forecasted_Sales\"] = pd.Series(pred_new)"
      ],
      "execution_count": null,
      "outputs": []
    },
    {
      "cell_type": "code",
      "metadata": {
        "colab": {
          "base_uri": "https://localhost:8080/",
          "height": 450
        },
        "id": "8asvIX1ZtIEV",
        "outputId": "c2f82f33-b4ef-45ea-8745-8304862b20cd"
      },
      "source": [
        "predict_data"
      ],
      "execution_count": null,
      "outputs": [
        {
          "output_type": "execute_result",
          "data": {
            "text/html": [
              "<div>\n",
              "<style scoped>\n",
              "    .dataframe tbody tr th:only-of-type {\n",
              "        vertical-align: middle;\n",
              "    }\n",
              "\n",
              "    .dataframe tbody tr th {\n",
              "        vertical-align: top;\n",
              "    }\n",
              "\n",
              "    .dataframe thead th {\n",
              "        text-align: right;\n",
              "    }\n",
              "</style>\n",
              "<table border=\"1\" class=\"dataframe\">\n",
              "  <thead>\n",
              "    <tr style=\"text-align: right;\">\n",
              "      <th></th>\n",
              "      <th>Date</th>\n",
              "      <th>Jan</th>\n",
              "      <th>Feb</th>\n",
              "      <th>Mar</th>\n",
              "      <th>Apr</th>\n",
              "      <th>May</th>\n",
              "      <th>Jun</th>\n",
              "      <th>Jul</th>\n",
              "      <th>Aug</th>\n",
              "      <th>Sep</th>\n",
              "      <th>Oct</th>\n",
              "      <th>Nov</th>\n",
              "      <th>Dec</th>\n",
              "      <th>t</th>\n",
              "      <th>t_sq</th>\n",
              "      <th>forecasted_Sales</th>\n",
              "    </tr>\n",
              "  </thead>\n",
              "  <tbody>\n",
              "    <tr>\n",
              "      <th>0</th>\n",
              "      <td>1996-05-31</td>\n",
              "      <td>0</td>\n",
              "      <td>0</td>\n",
              "      <td>0</td>\n",
              "      <td>0</td>\n",
              "      <td>1</td>\n",
              "      <td>0</td>\n",
              "      <td>0</td>\n",
              "      <td>0</td>\n",
              "      <td>0</td>\n",
              "      <td>0</td>\n",
              "      <td>0</td>\n",
              "      <td>0</td>\n",
              "      <td>125</td>\n",
              "      <td>15625</td>\n",
              "      <td>5006.933974</td>\n",
              "    </tr>\n",
              "    <tr>\n",
              "      <th>1</th>\n",
              "      <td>1996-06-30</td>\n",
              "      <td>0</td>\n",
              "      <td>0</td>\n",
              "      <td>0</td>\n",
              "      <td>0</td>\n",
              "      <td>0</td>\n",
              "      <td>1</td>\n",
              "      <td>0</td>\n",
              "      <td>0</td>\n",
              "      <td>0</td>\n",
              "      <td>0</td>\n",
              "      <td>0</td>\n",
              "      <td>0</td>\n",
              "      <td>126</td>\n",
              "      <td>15876</td>\n",
              "      <td>4996.601057</td>\n",
              "    </tr>\n",
              "    <tr>\n",
              "      <th>2</th>\n",
              "      <td>1996-07-31</td>\n",
              "      <td>0</td>\n",
              "      <td>0</td>\n",
              "      <td>0</td>\n",
              "      <td>0</td>\n",
              "      <td>0</td>\n",
              "      <td>0</td>\n",
              "      <td>1</td>\n",
              "      <td>0</td>\n",
              "      <td>0</td>\n",
              "      <td>0</td>\n",
              "      <td>0</td>\n",
              "      <td>0</td>\n",
              "      <td>127</td>\n",
              "      <td>16129</td>\n",
              "      <td>4984.163917</td>\n",
              "    </tr>\n",
              "    <tr>\n",
              "      <th>3</th>\n",
              "      <td>1996-07-31</td>\n",
              "      <td>0</td>\n",
              "      <td>0</td>\n",
              "      <td>0</td>\n",
              "      <td>0</td>\n",
              "      <td>0</td>\n",
              "      <td>0</td>\n",
              "      <td>0</td>\n",
              "      <td>1</td>\n",
              "      <td>0</td>\n",
              "      <td>0</td>\n",
              "      <td>0</td>\n",
              "      <td>0</td>\n",
              "      <td>128</td>\n",
              "      <td>16384</td>\n",
              "      <td>4864.490735</td>\n",
              "    </tr>\n",
              "    <tr>\n",
              "      <th>4</th>\n",
              "      <td>1996-08-31</td>\n",
              "      <td>0</td>\n",
              "      <td>0</td>\n",
              "      <td>0</td>\n",
              "      <td>0</td>\n",
              "      <td>0</td>\n",
              "      <td>0</td>\n",
              "      <td>0</td>\n",
              "      <td>0</td>\n",
              "      <td>1</td>\n",
              "      <td>0</td>\n",
              "      <td>0</td>\n",
              "      <td>0</td>\n",
              "      <td>129</td>\n",
              "      <td>16641</td>\n",
              "      <td>4743.824656</td>\n",
              "    </tr>\n",
              "    <tr>\n",
              "      <th>5</th>\n",
              "      <td>1996-09-30</td>\n",
              "      <td>0</td>\n",
              "      <td>0</td>\n",
              "      <td>0</td>\n",
              "      <td>0</td>\n",
              "      <td>0</td>\n",
              "      <td>0</td>\n",
              "      <td>0</td>\n",
              "      <td>0</td>\n",
              "      <td>0</td>\n",
              "      <td>1</td>\n",
              "      <td>0</td>\n",
              "      <td>0</td>\n",
              "      <td>130</td>\n",
              "      <td>16900</td>\n",
              "      <td>4622.080556</td>\n",
              "    </tr>\n",
              "    <tr>\n",
              "      <th>6</th>\n",
              "      <td>1996-10-31</td>\n",
              "      <td>0</td>\n",
              "      <td>0</td>\n",
              "      <td>0</td>\n",
              "      <td>0</td>\n",
              "      <td>0</td>\n",
              "      <td>0</td>\n",
              "      <td>0</td>\n",
              "      <td>0</td>\n",
              "      <td>0</td>\n",
              "      <td>0</td>\n",
              "      <td>1</td>\n",
              "      <td>0</td>\n",
              "      <td>131</td>\n",
              "      <td>17161</td>\n",
              "      <td>4520.448396</td>\n",
              "    </tr>\n",
              "    <tr>\n",
              "      <th>7</th>\n",
              "      <td>1996-11-30</td>\n",
              "      <td>0</td>\n",
              "      <td>0</td>\n",
              "      <td>0</td>\n",
              "      <td>0</td>\n",
              "      <td>0</td>\n",
              "      <td>0</td>\n",
              "      <td>0</td>\n",
              "      <td>0</td>\n",
              "      <td>0</td>\n",
              "      <td>0</td>\n",
              "      <td>0</td>\n",
              "      <td>1</td>\n",
              "      <td>132</td>\n",
              "      <td>17424</td>\n",
              "      <td>4414.929091</td>\n",
              "    </tr>\n",
              "    <tr>\n",
              "      <th>8</th>\n",
              "      <td>1996-12-31</td>\n",
              "      <td>1</td>\n",
              "      <td>0</td>\n",
              "      <td>0</td>\n",
              "      <td>0</td>\n",
              "      <td>0</td>\n",
              "      <td>0</td>\n",
              "      <td>0</td>\n",
              "      <td>0</td>\n",
              "      <td>0</td>\n",
              "      <td>0</td>\n",
              "      <td>0</td>\n",
              "      <td>0</td>\n",
              "      <td>133</td>\n",
              "      <td>17689</td>\n",
              "      <td>4357.315890</td>\n",
              "    </tr>\n",
              "    <tr>\n",
              "      <th>9</th>\n",
              "      <td>1997-01-31</td>\n",
              "      <td>0</td>\n",
              "      <td>1</td>\n",
              "      <td>0</td>\n",
              "      <td>0</td>\n",
              "      <td>0</td>\n",
              "      <td>0</td>\n",
              "      <td>0</td>\n",
              "      <td>0</td>\n",
              "      <td>0</td>\n",
              "      <td>0</td>\n",
              "      <td>0</td>\n",
              "      <td>0</td>\n",
              "      <td>134</td>\n",
              "      <td>17956</td>\n",
              "      <td>4755.608584</td>\n",
              "    </tr>\n",
              "    <tr>\n",
              "      <th>10</th>\n",
              "      <td>1997-02-28</td>\n",
              "      <td>0</td>\n",
              "      <td>0</td>\n",
              "      <td>1</td>\n",
              "      <td>0</td>\n",
              "      <td>0</td>\n",
              "      <td>0</td>\n",
              "      <td>0</td>\n",
              "      <td>0</td>\n",
              "      <td>0</td>\n",
              "      <td>0</td>\n",
              "      <td>0</td>\n",
              "      <td>0</td>\n",
              "      <td>135</td>\n",
              "      <td>18225</td>\n",
              "      <td>5114.335054</td>\n",
              "    </tr>\n",
              "    <tr>\n",
              "      <th>11</th>\n",
              "      <td>1997-03-31</td>\n",
              "      <td>0</td>\n",
              "      <td>0</td>\n",
              "      <td>1</td>\n",
              "      <td>0</td>\n",
              "      <td>0</td>\n",
              "      <td>0</td>\n",
              "      <td>0</td>\n",
              "      <td>0</td>\n",
              "      <td>0</td>\n",
              "      <td>0</td>\n",
              "      <td>0</td>\n",
              "      <td>0</td>\n",
              "      <td>136</td>\n",
              "      <td>18496</td>\n",
              "      <td>5154.417846</td>\n",
              "    </tr>\n",
              "    <tr>\n",
              "      <th>12</th>\n",
              "      <td>1997-04-30</td>\n",
              "      <td>0</td>\n",
              "      <td>0</td>\n",
              "      <td>0</td>\n",
              "      <td>1</td>\n",
              "      <td>0</td>\n",
              "      <td>0</td>\n",
              "      <td>0</td>\n",
              "      <td>0</td>\n",
              "      <td>0</td>\n",
              "      <td>0</td>\n",
              "      <td>0</td>\n",
              "      <td>0</td>\n",
              "      <td>137</td>\n",
              "      <td>18769</td>\n",
              "      <td>5550.821576</td>\n",
              "    </tr>\n",
              "  </tbody>\n",
              "</table>\n",
              "</div>"
            ],
            "text/plain": [
              "         Date  Jan  Feb  Mar  Apr  ...  Nov  Dec    t   t_sq  forecasted_Sales\n",
              "0  1996-05-31    0    0    0    0  ...    0    0  125  15625       5006.933974\n",
              "1  1996-06-30    0    0    0    0  ...    0    0  126  15876       4996.601057\n",
              "2  1996-07-31    0    0    0    0  ...    0    0  127  16129       4984.163917\n",
              "3  1996-07-31    0    0    0    0  ...    0    0  128  16384       4864.490735\n",
              "4  1996-08-31    0    0    0    0  ...    0    0  129  16641       4743.824656\n",
              "5  1996-09-30    0    0    0    0  ...    0    0  130  16900       4622.080556\n",
              "6  1996-10-31    0    0    0    0  ...    1    0  131  17161       4520.448396\n",
              "7  1996-11-30    0    0    0    0  ...    0    1  132  17424       4414.929091\n",
              "8  1996-12-31    1    0    0    0  ...    0    0  133  17689       4357.315890\n",
              "9  1997-01-31    0    1    0    0  ...    0    0  134  17956       4755.608584\n",
              "10 1997-02-28    0    0    1    0  ...    0    0  135  18225       5114.335054\n",
              "11 1997-03-31    0    0    1    0  ...    0    0  136  18496       5154.417846\n",
              "12 1997-04-30    0    0    0    1  ...    0    0  137  18769       5550.821576\n",
              "\n",
              "[13 rows x 16 columns]"
            ]
          },
          "metadata": {},
          "execution_count": 100
        }
      ]
    },
    {
      "cell_type": "code",
      "metadata": {
        "id": "KEnzVYgats3K"
      },
      "source": [
        "new_var = pd.concat([interpolated,predict_data])"
      ],
      "execution_count": null,
      "outputs": []
    },
    {
      "cell_type": "code",
      "metadata": {
        "colab": {
          "base_uri": "https://localhost:8080/",
          "height": 282
        },
        "id": "M9KMD4i1txDD",
        "outputId": "0dcc8967-f072-44f3-cb0c-7cad74e51c9b"
      },
      "source": [
        "new_var[['Sales','forecasted_Sales']].reset_index(drop=True).plot()"
      ],
      "execution_count": null,
      "outputs": [
        {
          "output_type": "execute_result",
          "data": {
            "text/plain": [
              "<matplotlib.axes._subplots.AxesSubplot at 0x7f20c717e0d0>"
            ]
          },
          "metadata": {},
          "execution_count": 105
        },
        {
          "output_type": "display_data",
          "data": {
            "image/png": "[encoded data removed]",
            "text/plain": [
              "<Figure size 432x288 with 1 Axes>"
            ]
          },
          "metadata": {
            "needs_background": "light"
          }
        }
      ]
    },
    {
      "cell_type": "code",
      "metadata": {
        "colab": {
          "base_uri": "https://localhost:8080/",
          "height": 417
        },
        "id": "yruK0xI5tLAN",
        "outputId": "ee010de9-9423-4915-cbca-13e0bc5b2a5a"
      },
      "source": [
        "interpolated"
      ],
      "execution_count": null,
      "outputs": [
        {
          "output_type": "execute_result",
          "data": {
            "text/html": [
              "<div>\n",
              "<style scoped>\n",
              "    .dataframe tbody tr th:only-of-type {\n",
              "        vertical-align: middle;\n",
              "    }\n",
              "\n",
              "    .dataframe tbody tr th {\n",
              "        vertical-align: top;\n",
              "    }\n",
              "\n",
              "    .dataframe thead th {\n",
              "        text-align: right;\n",
              "    }\n",
              "</style>\n",
              "<table border=\"1\" class=\"dataframe\">\n",
              "  <thead>\n",
              "    <tr style=\"text-align: right;\">\n",
              "      <th></th>\n",
              "      <th>date</th>\n",
              "      <th>Sales</th>\n",
              "      <th>t</th>\n",
              "      <th>t_sq</th>\n",
              "      <th>month</th>\n",
              "      <th>year</th>\n",
              "    </tr>\n",
              "  </thead>\n",
              "  <tbody>\n",
              "    <tr>\n",
              "      <th>0</th>\n",
              "      <td>1986-01-31</td>\n",
              "      <td>1734.827000</td>\n",
              "      <td>1</td>\n",
              "      <td>1</td>\n",
              "      <td>Jan</td>\n",
              "      <td>1986</td>\n",
              "    </tr>\n",
              "    <tr>\n",
              "      <th>1</th>\n",
              "      <td>1986-02-28</td>\n",
              "      <td>1904.871666</td>\n",
              "      <td>2</td>\n",
              "      <td>4</td>\n",
              "      <td>Feb</td>\n",
              "      <td>1986</td>\n",
              "    </tr>\n",
              "    <tr>\n",
              "      <th>2</th>\n",
              "      <td>1986-03-31</td>\n",
              "      <td>2074.916332</td>\n",
              "      <td>3</td>\n",
              "      <td>9</td>\n",
              "      <td>Mar</td>\n",
              "      <td>1986</td>\n",
              "    </tr>\n",
              "    <tr>\n",
              "      <th>3</th>\n",
              "      <td>1986-04-30</td>\n",
              "      <td>2244.960999</td>\n",
              "      <td>4</td>\n",
              "      <td>16</td>\n",
              "      <td>Apr</td>\n",
              "      <td>1986</td>\n",
              "    </tr>\n",
              "    <tr>\n",
              "      <th>4</th>\n",
              "      <td>1986-05-31</td>\n",
              "      <td>2341.242330</td>\n",
              "      <td>5</td>\n",
              "      <td>25</td>\n",
              "      <td>May</td>\n",
              "      <td>1986</td>\n",
              "    </tr>\n",
              "    <tr>\n",
              "      <th>...</th>\n",
              "      <td>...</td>\n",
              "      <td>...</td>\n",
              "      <td>...</td>\n",
              "      <td>...</td>\n",
              "      <td>...</td>\n",
              "      <td>...</td>\n",
              "    </tr>\n",
              "    <tr>\n",
              "      <th>119</th>\n",
              "      <td>1995-12-31</td>\n",
              "      <td>4240.333333</td>\n",
              "      <td>120</td>\n",
              "      <td>14400</td>\n",
              "      <td>Dec</td>\n",
              "      <td>1995</td>\n",
              "    </tr>\n",
              "    <tr>\n",
              "      <th>120</th>\n",
              "      <td>1996-01-31</td>\n",
              "      <td>4194.000000</td>\n",
              "      <td>121</td>\n",
              "      <td>14641</td>\n",
              "      <td>Jan</td>\n",
              "      <td>1996</td>\n",
              "    </tr>\n",
              "    <tr>\n",
              "      <th>121</th>\n",
              "      <td>1996-02-29</td>\n",
              "      <td>4547.000000</td>\n",
              "      <td>122</td>\n",
              "      <td>14884</td>\n",
              "      <td>Feb</td>\n",
              "      <td>1996</td>\n",
              "    </tr>\n",
              "    <tr>\n",
              "      <th>122</th>\n",
              "      <td>1996-03-31</td>\n",
              "      <td>4900.000000</td>\n",
              "      <td>123</td>\n",
              "      <td>15129</td>\n",
              "      <td>Mar</td>\n",
              "      <td>1996</td>\n",
              "    </tr>\n",
              "    <tr>\n",
              "      <th>123</th>\n",
              "      <td>1996-04-30</td>\n",
              "      <td>5253.000000</td>\n",
              "      <td>124</td>\n",
              "      <td>15376</td>\n",
              "      <td>Apr</td>\n",
              "      <td>1996</td>\n",
              "    </tr>\n",
              "  </tbody>\n",
              "</table>\n",
              "<p>124 rows × 6 columns</p>\n",
              "</div>"
            ],
            "text/plain": [
              "          date        Sales    t   t_sq month  year\n",
              "0   1986-01-31  1734.827000    1      1   Jan  1986\n",
              "1   1986-02-28  1904.871666    2      4   Feb  1986\n",
              "2   1986-03-31  2074.916332    3      9   Mar  1986\n",
              "3   1986-04-30  2244.960999    4     16   Apr  1986\n",
              "4   1986-05-31  2341.242330    5     25   May  1986\n",
              "..         ...          ...  ...    ...   ...   ...\n",
              "119 1995-12-31  4240.333333  120  14400   Dec  1995\n",
              "120 1996-01-31  4194.000000  121  14641   Jan  1996\n",
              "121 1996-02-29  4547.000000  122  14884   Feb  1996\n",
              "122 1996-03-31  4900.000000  123  15129   Mar  1996\n",
              "123 1996-04-30  5253.000000  124  15376   Apr  1996\n",
              "\n",
              "[124 rows x 6 columns]"
            ]
          },
          "metadata": {},
          "execution_count": 101
        }
      ]
    },
    {
      "cell_type": "code",
      "metadata": {
        "colab": {
          "base_uri": "https://localhost:8080/"
        },
        "id": "2zq-K3FttMXA",
        "outputId": "6c65edd1-c55b-4cfc-fb34-2edbc7c7de2c"
      },
      "source": [
        "interpolated.info()"
      ],
      "execution_count": null,
      "outputs": [
        {
          "output_type": "stream",
          "name": "stdout",
          "text": [
            "<class 'pandas.core.frame.DataFrame'>\n",
            "RangeIndex: 124 entries, 0 to 123\n",
            "Data columns (total 6 columns):\n",
            " #   Column  Non-Null Count  Dtype         \n",
            "---  ------  --------------  -----         \n",
            " 0   date    124 non-null    datetime64[ns]\n",
            " 1   Sales   124 non-null    float64       \n",
            " 2   t       124 non-null    int64         \n",
            " 3   t_sq    124 non-null    int64         \n",
            " 4   month   124 non-null    object        \n",
            " 5   year    124 non-null    object        \n",
            "dtypes: datetime64[ns](1), float64(1), int64(2), object(2)\n",
            "memory usage: 5.9+ KB\n"
          ]
        }
      ]
    },
    {
      "cell_type": "code",
      "metadata": {
        "colab": {
          "base_uri": "https://localhost:8080/",
          "height": 447
        },
        "id": "2pj_ZlUrtOTM",
        "outputId": "20409b1c-90f3-4cdc-e030-9769ddac677d"
      },
      "source": [
        "DF_new = interpolated.drop(columns=['t','t_sq','month','year']).set_index('date') ## droping the columns and storing in DF_new\n",
        "DF_new"
      ],
      "execution_count": null,
      "outputs": [
        {
          "output_type": "execute_result",
          "data": {
            "text/html": [
              "<div>\n",
              "<style scoped>\n",
              "    .dataframe tbody tr th:only-of-type {\n",
              "        vertical-align: middle;\n",
              "    }\n",
              "\n",
              "    .dataframe tbody tr th {\n",
              "        vertical-align: top;\n",
              "    }\n",
              "\n",
              "    .dataframe thead th {\n",
              "        text-align: right;\n",
              "    }\n",
              "</style>\n",
              "<table border=\"1\" class=\"dataframe\">\n",
              "  <thead>\n",
              "    <tr style=\"text-align: right;\">\n",
              "      <th></th>\n",
              "      <th>Sales</th>\n",
              "    </tr>\n",
              "    <tr>\n",
              "      <th>date</th>\n",
              "      <th></th>\n",
              "    </tr>\n",
              "  </thead>\n",
              "  <tbody>\n",
              "    <tr>\n",
              "      <th>1986-01-31</th>\n",
              "      <td>1734.827000</td>\n",
              "    </tr>\n",
              "    <tr>\n",
              "      <th>1986-02-28</th>\n",
              "      <td>1904.871666</td>\n",
              "    </tr>\n",
              "    <tr>\n",
              "      <th>1986-03-31</th>\n",
              "      <td>2074.916332</td>\n",
              "    </tr>\n",
              "    <tr>\n",
              "      <th>1986-04-30</th>\n",
              "      <td>2244.960999</td>\n",
              "    </tr>\n",
              "    <tr>\n",
              "      <th>1986-05-31</th>\n",
              "      <td>2341.242330</td>\n",
              "    </tr>\n",
              "    <tr>\n",
              "      <th>...</th>\n",
              "      <td>...</td>\n",
              "    </tr>\n",
              "    <tr>\n",
              "      <th>1995-12-31</th>\n",
              "      <td>4240.333333</td>\n",
              "    </tr>\n",
              "    <tr>\n",
              "      <th>1996-01-31</th>\n",
              "      <td>4194.000000</td>\n",
              "    </tr>\n",
              "    <tr>\n",
              "      <th>1996-02-29</th>\n",
              "      <td>4547.000000</td>\n",
              "    </tr>\n",
              "    <tr>\n",
              "      <th>1996-03-31</th>\n",
              "      <td>4900.000000</td>\n",
              "    </tr>\n",
              "    <tr>\n",
              "      <th>1996-04-30</th>\n",
              "      <td>5253.000000</td>\n",
              "    </tr>\n",
              "  </tbody>\n",
              "</table>\n",
              "<p>124 rows × 1 columns</p>\n",
              "</div>"
            ],
            "text/plain": [
              "                  Sales\n",
              "date                   \n",
              "1986-01-31  1734.827000\n",
              "1986-02-28  1904.871666\n",
              "1986-03-31  2074.916332\n",
              "1986-04-30  2244.960999\n",
              "1986-05-31  2341.242330\n",
              "...                 ...\n",
              "1995-12-31  4240.333333\n",
              "1996-01-31  4194.000000\n",
              "1996-02-29  4547.000000\n",
              "1996-03-31  4900.000000\n",
              "1996-04-30  5253.000000\n",
              "\n",
              "[124 rows x 1 columns]"
            ]
          },
          "metadata": {},
          "execution_count": 106
        }
      ]
    },
    {
      "cell_type": "code",
      "metadata": {
        "colab": {
          "base_uri": "https://localhost:8080/"
        },
        "id": "uvD7aCLruFx9",
        "outputId": "e10b199c-fdb0-45f0-9eac-8d32de5c2191"
      },
      "source": [
        "# separate out a validation dataset\n",
        "split_point = len(DF_new) - 14\n",
        "dataset, validation = DF_new[0:split_point], DF_new[split_point:]\n",
        "print('Dataset %d, Validation %d' % (len(dataset), len(validation)))\n",
        "dataset.to_csv('dataset.csv', header=False)\n",
        "validation.to_csv('validation.csv', header=False)"
      ],
      "execution_count": null,
      "outputs": [
        {
          "output_type": "stream",
          "name": "stdout",
          "text": [
            "Dataset 110, Validation 14\n"
          ]
        }
      ]
    },
    {
      "cell_type": "markdown",
      "metadata": {
        "id": "_-t16BkMvCLd"
      },
      "source": [
        "#Persistence/ Base model"
      ]
    },
    {
      "cell_type": "code",
      "metadata": {
        "id": "plPt3OiXu6AQ"
      },
      "source": [
        "# evaluate a persistence model\n",
        "from pandas import read_csv\n",
        "from sklearn.metrics import mean_squared_error\n",
        "from math import sqrt\n",
        "# load data\n",
        "train = read_csv('dataset.csv', header=None, index_col=0, parse_dates=True, squeeze=True)\n",
        "# prepare data\n",
        "X = train.values\n",
        "X = X.astype('float32')\n",
        "train_size = int(len(X) * 0.50)\n",
        "train, test = X[0:train_size], X[train_size:]"
      ],
      "execution_count": null,
      "outputs": []
    },
    {
      "cell_type": "code",
      "metadata": {
        "colab": {
          "base_uri": "https://localhost:8080/"
        },
        "id": "HDZWuA4CvKF5",
        "outputId": "2f36abf3-ed09-4897-871e-6b6f6155ec0a"
      },
      "source": [
        "# walk-forward validation\n",
        "history = [x for x in train]\n",
        "predictions = list()\n",
        "for i in range(len(test)):\n",
        "    yhat = history[-1]\n",
        "    predictions.append(yhat)\n",
        "# observation\n",
        "    obs = test[i]\n",
        "    history.append(obs)\n",
        "    print('>Predicted=%.3f, Expected=%.3f' % (yhat, obs))\n",
        "# report performance\n",
        "rmse = sqrt(mean_squared_error(test, predictions))\n",
        "print('RMSE: %.3f' % rmse)"
      ],
      "execution_count": null,
      "outputs": [
        {
          "output_type": "stream",
          "name": "stdout",
          "text": [
            ">Predicted=2792.754, Expected=2713.839\n",
            ">Predicted=2713.839, Expected=2634.925\n",
            ">Predicted=2634.925, Expected=2556.010\n",
            ">Predicted=2556.010, Expected=2530.998\n",
            ">Predicted=2530.998, Expected=2505.986\n",
            ">Predicted=2505.986, Expected=2480.974\n",
            ">Predicted=2480.974, Expected=2667.157\n",
            ">Predicted=2667.157, Expected=2853.340\n",
            ">Predicted=2853.340, Expected=3039.523\n",
            ">Predicted=3039.523, Expected=3083.721\n",
            ">Predicted=3083.721, Expected=3127.918\n",
            ">Predicted=3127.918, Expected=3172.116\n",
            ">Predicted=3172.116, Expected=3074.411\n",
            ">Predicted=3074.411, Expected=2976.706\n",
            ">Predicted=2976.706, Expected=2879.001\n",
            ">Predicted=2879.001, Expected=2843.334\n",
            ">Predicted=2843.334, Expected=2807.667\n",
            ">Predicted=2807.667, Expected=2772.000\n",
            ">Predicted=2772.000, Expected=3031.333\n",
            ">Predicted=3031.333, Expected=3290.667\n",
            ">Predicted=3290.667, Expected=3550.000\n",
            ">Predicted=3550.000, Expected=3536.000\n",
            ">Predicted=3536.000, Expected=3522.000\n",
            ">Predicted=3522.000, Expected=3508.000\n",
            ">Predicted=3508.000, Expected=3419.953\n",
            ">Predicted=3419.953, Expected=3331.907\n",
            ">Predicted=3331.907, Expected=3243.860\n",
            ">Predicted=3243.860, Expected=3181.240\n",
            ">Predicted=3181.240, Expected=3118.620\n",
            ">Predicted=3118.620, Expected=3056.000\n",
            ">Predicted=3056.000, Expected=3337.000\n",
            ">Predicted=3337.000, Expected=3618.000\n",
            ">Predicted=3618.000, Expected=3899.000\n",
            ">Predicted=3899.000, Expected=3809.000\n",
            ">Predicted=3809.000, Expected=3719.000\n",
            ">Predicted=3719.000, Expected=3629.000\n",
            ">Predicted=3629.000, Expected=3543.667\n",
            ">Predicted=3543.667, Expected=3458.333\n",
            ">Predicted=3458.333, Expected=3373.000\n",
            ">Predicted=3373.000, Expected=3366.000\n",
            ">Predicted=3366.000, Expected=3359.000\n",
            ">Predicted=3359.000, Expected=3352.000\n",
            ">Predicted=3352.000, Expected=3682.000\n",
            ">Predicted=3682.000, Expected=4012.000\n",
            ">Predicted=4012.000, Expected=4342.000\n",
            ">Predicted=4342.000, Expected=4381.667\n",
            ">Predicted=4381.667, Expected=4421.333\n",
            ">Predicted=4421.333, Expected=4461.000\n",
            ">Predicted=4461.000, Expected=4313.000\n",
            ">Predicted=4313.000, Expected=4165.000\n",
            ">Predicted=4165.000, Expected=4017.000\n",
            ">Predicted=4017.000, Expected=3962.667\n",
            ">Predicted=3962.667, Expected=3908.333\n",
            ">Predicted=3908.333, Expected=3854.000\n",
            ">Predicted=3854.000, Expected=4214.667\n",
            "RMSE: 148.904\n"
          ]
        }
      ]
    },
    {
      "cell_type": "markdown",
      "metadata": {
        "id": "cSzveiaKvUwm"
      },
      "source": [
        "#ARIMA Hyperparameters"
      ]
    },
    {
      "cell_type": "code",
      "metadata": {
        "id": "Qcw6zCTBvUFI"
      },
      "source": [
        "# grid search ARIMA parameters for a time series\n",
        "\n",
        "import warnings\n",
        "from pandas import read_csv\n",
        "from statsmodels.tsa.arima_model import ARIMA\n",
        "from sklearn.metrics import mean_squared_error\n",
        "from math import sqrt\n",
        "\n",
        "\n",
        "# evaluate an ARIMA model for a given order (p,d,q) and return RMSE\n",
        "def evaluate_arima_model(X, arima_order):\n",
        "# prepare training dataset\n",
        "    X = X.astype('float32')\n",
        "    train_size = int(len(X) * 0.50)\n",
        "    train, test = X[0:train_size], X[train_size:]\n",
        "    history = [x for x in train]\n",
        "# make predictions\n",
        "    predictions = list()\n",
        "    for t in range(len(test)):\n",
        "        model = ARIMA(history, order=arima_order)\n",
        "# model_fit = model.fit(disp=0)\n",
        "        model_fit = model.fit(disp=0)\n",
        "        yhat = model_fit.forecast()[0]\n",
        "        predictions.append(yhat)\n",
        "        history.append(test[t])\n",
        "# calculate out of sample error\n",
        "    rmse = sqrt(mean_squared_error(test, predictions))\n",
        "    return rmse"
      ],
      "execution_count": null,
      "outputs": []
    },
    {
      "cell_type": "code",
      "metadata": {
        "colab": {
          "base_uri": "https://localhost:8080/"
        },
        "id": "il8C0UjgvP6U",
        "outputId": "ea9c7f0f-0441-4586-a7b7-dbd8c0395fdd"
      },
      "source": [
        "rmse"
      ],
      "execution_count": null,
      "outputs": [
        {
          "output_type": "execute_result",
          "data": {
            "text/plain": [
              "148.9039644368141"
            ]
          },
          "metadata": {},
          "execution_count": 113
        }
      ]
    },
    {
      "cell_type": "markdown",
      "metadata": {
        "id": "SXsPL5GXvjge"
      },
      "source": [
        "#Grid search for p,d,q values"
      ]
    },
    {
      "cell_type": "code",
      "metadata": {
        "id": "wK7lQ7PQvfi9"
      },
      "source": [
        "# evaluate combinations of p, d and q values for an ARIMA model\n",
        "def evaluate_models(dataset, p_values, d_values, q_values):\n",
        "    dataset = dataset.astype('float32')\n",
        "    best_score, best_cfg = float('inf'), None\n",
        "    for p in p_values:\n",
        "        for d in d_values:\n",
        "            for q in q_values:\n",
        "                order = (p,d,q)\n",
        "                try:\n",
        "                    rmse = evaluate_arima_model(train, order)\n",
        "                    if rmse < best_score:\n",
        "                        best_score, best_cfg = rmse, order\n",
        "                    print('ARIMA%s RMSE=%.3f' % (order,rmse))\n",
        "                except:\n",
        "                    continue\n",
        "    print('Best ARIMA%s RMSE=%.3f' % (best_cfg, best_score))"
      ],
      "execution_count": null,
      "outputs": []
    },
    {
      "cell_type": "code",
      "metadata": {
        "colab": {
          "base_uri": "https://localhost:8080/"
        },
        "id": "d9tBwfhxvoyr",
        "outputId": "7002f9a4-5612-448f-b6b5-eaa35cff6a3f"
      },
      "source": [
        "# load dataset\n",
        "train = read_csv('dataset.csv', header=None, index_col=0, parse_dates=True, squeeze=True)\n",
        "# evaluate parameters\n",
        "p_values = range(0, 5)\n",
        "d_values = range(0, 5)\n",
        "q_values = range(0, 5)\n",
        "warnings.filterwarnings(\"ignore\")\n",
        "evaluate_models(train.values, p_values, d_values, q_values)"
      ],
      "execution_count": null,
      "outputs": [
        {
          "output_type": "stream",
          "name": "stdout",
          "text": [
            "ARIMA(0, 0, 0) RMSE=1035.185\n",
            "ARIMA(0, 0, 1) RMSE=566.612\n",
            "ARIMA(0, 1, 0) RMSE=147.580\n",
            "ARIMA(0, 1, 1) RMSE=125.023\n",
            "ARIMA(0, 2, 0) RMSE=131.848\n",
            "ARIMA(0, 2, 1) RMSE=131.848\n",
            "ARIMA(0, 2, 2) RMSE=131.852\n",
            "ARIMA(0, 2, 3) RMSE=94.884\n",
            "ARIMA(0, 2, 4) RMSE=94.888\n",
            "ARIMA(1, 0, 0) RMSE=152.358\n",
            "ARIMA(1, 1, 0) RMSE=121.085\n",
            "ARIMA(1, 1, 1) RMSE=119.715\n",
            "ARIMA(1, 1, 2) RMSE=93.992\n",
            "ARIMA(1, 2, 0) RMSE=131.848\n",
            "ARIMA(1, 2, 2) RMSE=128.266\n",
            "ARIMA(2, 0, 0) RMSE=128.434\n",
            "ARIMA(2, 0, 1) RMSE=126.807\n",
            "ARIMA(2, 0, 2) RMSE=97.904\n",
            "ARIMA(2, 1, 0) RMSE=118.577\n",
            "ARIMA(2, 1, 1) RMSE=107.465\n",
            "ARIMA(2, 1, 2) RMSE=93.980\n",
            "ARIMA(2, 2, 0) RMSE=131.849\n",
            "ARIMA(2, 2, 2) RMSE=122.898\n",
            "ARIMA(3, 0, 0) RMSE=125.201\n",
            "ARIMA(3, 0, 2) RMSE=97.656\n",
            "ARIMA(3, 1, 0) RMSE=114.254\n",
            "ARIMA(3, 1, 1) RMSE=115.827\n",
            "ARIMA(3, 2, 0) RMSE=133.613\n",
            "ARIMA(3, 2, 1) RMSE=133.615\n",
            "ARIMA(3, 2, 3) RMSE=94.789\n",
            "ARIMA(4, 0, 0) RMSE=119.889\n",
            "ARIMA(4, 1, 0) RMSE=116.743\n",
            "ARIMA(4, 1, 1) RMSE=116.767\n",
            "ARIMA(4, 1, 3) RMSE=89.831\n",
            "ARIMA(4, 2, 0) RMSE=133.615\n",
            "ARIMA(4, 2, 1) RMSE=119.663\n",
            "ARIMA(4, 2, 2) RMSE=110.640\n",
            "ARIMA(4, 2, 3) RMSE=95.114\n",
            "ARIMA(4, 2, 4) RMSE=93.667\n",
            "Best ARIMA(4, 1, 3) RMSE=89.831\n"
          ]
        }
      ]
    },
    {
      "cell_type": "markdown",
      "metadata": {
        "id": "1q2xTwMHv1j4"
      },
      "source": [
        "# Build Model based on the optimized values"
      ]
    },
    {
      "cell_type": "code",
      "metadata": {
        "id": "909lSRQMvu-_"
      },
      "source": [
        "# save finalized model to file\n",
        "from pandas import read_csv\n",
        "from statsmodels.tsa.arima_model import ARIMA\n",
        "import numpy"
      ],
      "execution_count": null,
      "outputs": []
    },
    {
      "cell_type": "code",
      "metadata": {
        "id": "gTEojJJWv7T4"
      },
      "source": [
        "# load data\n",
        "train = read_csv('dataset.csv', header=0, index_col=0, parse_dates=True)\n",
        "# prepare data\n",
        "X = train.values\n",
        "X = X.astype('float32')"
      ],
      "execution_count": null,
      "outputs": []
    },
    {
      "cell_type": "code",
      "metadata": {
        "colab": {
          "base_uri": "https://localhost:8080/",
          "height": 521
        },
        "id": "gEk8bwVrwAct",
        "outputId": "9187161d-8458-4ab6-c562-e6b16585a724"
      },
      "source": [
        "# fit model\n",
        "model = ARIMA(X, order=(3,1,0))\n",
        "model_fit = model.fit()\n",
        "forecast=model_fit.forecast(steps=14)[0]\n",
        "model_fit.plot_predict(1, 135)"
      ],
      "execution_count": null,
      "outputs": [
        {
          "output_type": "execute_result",
          "data": {
            "image/png": "[encoded data removed]",
            "text/plain": [
              "<Figure size 432x288 with 1 Axes>"
            ]
          },
          "metadata": {},
          "execution_count": 126
        },
        {
          "output_type": "display_data",
          "data": {
            "image/png": "[encoded data removed]",
            "text/plain": [
              "<Figure size 432x288 with 1 Axes>"
            ]
          },
          "metadata": {
            "needs_background": "light"
          }
        }
      ]
    },
    {
      "cell_type": "code",
      "metadata": {
        "colab": {
          "base_uri": "https://localhost:8080/"
        },
        "id": "Efp6P7ThwEty",
        "outputId": "521e6e79-791c-4861-fff9-e2891d606fb3"
      },
      "source": [
        "#Error on the test data\n",
        "val=pd.read_csv('validation.csv',header=None)\n",
        "rmse = sqrt(mean_squared_error(val[1], forecast))\n",
        "rmse"
      ],
      "execution_count": null,
      "outputs": [
        {
          "output_type": "execute_result",
          "data": {
            "text/plain": [
              "297.7968035285254"
            ]
          },
          "metadata": {},
          "execution_count": 127
        }
      ]
    },
    {
      "cell_type": "markdown",
      "metadata": {
        "id": "6IKhXiymwII-"
      },
      "source": [
        "# Combine train and test data and build final model"
      ]
    },
    {
      "cell_type": "code",
      "metadata": {
        "id": "v5xrrI4JwFrb"
      },
      "source": [
        "model = ARIMA(X, order=(3,1,0))\n",
        "model_fit = model.fit()"
      ],
      "execution_count": null,
      "outputs": []
    },
    {
      "cell_type": "code",
      "metadata": {
        "colab": {
          "base_uri": "https://localhost:8080/",
          "height": 513
        },
        "id": "OOnhVztow0vF",
        "outputId": "2bbb5fdf-21b7-4351-841b-489e1dfb9b75"
      },
      "source": [
        "forecast=model_fit.forecast(steps=12)[0]\n",
        "model_fit.plot_predict(1,130)"
      ],
      "execution_count": null,
      "outputs": [
        {
          "output_type": "execute_result",
          "data": {
            "image/png": "[encoded data removed]",
            "text/plain": [
              "<Figure size 432x288 with 1 Axes>"
            ]
          },
          "metadata": {},
          "execution_count": 129
        },
        {
          "output_type": "display_data",
          "data": {
            "image/png": "[encoded data removed]",
            "text/plain": [
              "<Figure size 432x288 with 1 Axes>"
            ]
          },
          "metadata": {
            "needs_background": "light"
          }
        }
      ]
    },
    {
      "cell_type": "code",
      "metadata": {
        "colab": {
          "base_uri": "https://localhost:8080/"
        },
        "id": "eyT_x_e3w3Ur",
        "outputId": "2fbb38a1-fa0e-4fc9-b46b-001ba3888692"
      },
      "source": [
        "forecast"
      ],
      "execution_count": null,
      "outputs": [
        {
          "output_type": "execute_result",
          "data": {
            "text/plain": [
              "array([4493.52568464, 4714.69180462, 4769.20563353, 4734.90855607,\n",
              "       4658.15326049, 4603.84765506, 4592.36579367, 4623.17083734,\n",
              "       4675.87940165, 4730.27268761, 4772.74576753, 4800.31917999])"
            ]
          },
          "metadata": {},
          "execution_count": 130
        }
      ]
    },
    {
      "cell_type": "markdown",
      "metadata": {
        "id": "nj6PqzH9xBoO"
      },
      "source": [
        "#Summary with different forecasting methods"
      ]
    },
    {
      "cell_type": "code",
      "metadata": {
        "colab": {
          "base_uri": "https://localhost:8080/",
          "height": 418
        },
        "id": "AhxCpL4_w32I",
        "outputId": "7f93c962-4e7c-4d91-a179-1c1dd9530a0a"
      },
      "source": [
        "pd.DataFrame({'Holts':hwe_model_add_add.forecast(12),'ARIMA':forecast,'Mas':pred_new[:12].values})"
      ],
      "execution_count": null,
      "outputs": [
        {
          "output_type": "execute_result",
          "data": {
            "text/html": [
              "<div>\n",
              "<style scoped>\n",
              "    .dataframe tbody tr th:only-of-type {\n",
              "        vertical-align: middle;\n",
              "    }\n",
              "\n",
              "    .dataframe tbody tr th {\n",
              "        vertical-align: top;\n",
              "    }\n",
              "\n",
              "    .dataframe thead th {\n",
              "        text-align: right;\n",
              "    }\n",
              "</style>\n",
              "<table border=\"1\" class=\"dataframe\">\n",
              "  <thead>\n",
              "    <tr style=\"text-align: right;\">\n",
              "      <th></th>\n",
              "      <th>Holts</th>\n",
              "      <th>ARIMA</th>\n",
              "      <th>Mas</th>\n",
              "    </tr>\n",
              "  </thead>\n",
              "  <tbody>\n",
              "    <tr>\n",
              "      <th>1996-05-31</th>\n",
              "      <td>5477.949273</td>\n",
              "      <td>4493.525685</td>\n",
              "      <td>5006.933974</td>\n",
              "    </tr>\n",
              "    <tr>\n",
              "      <th>1996-06-30</th>\n",
              "      <td>5561.664838</td>\n",
              "      <td>4714.691805</td>\n",
              "      <td>4996.601057</td>\n",
              "    </tr>\n",
              "    <tr>\n",
              "      <th>1996-07-31</th>\n",
              "      <td>5623.963680</td>\n",
              "      <td>4769.205634</td>\n",
              "      <td>4984.163917</td>\n",
              "    </tr>\n",
              "    <tr>\n",
              "      <th>1996-08-31</th>\n",
              "      <td>5622.374932</td>\n",
              "      <td>4734.908556</td>\n",
              "      <td>4864.490735</td>\n",
              "    </tr>\n",
              "    <tr>\n",
              "      <th>1996-09-30</th>\n",
              "      <td>5474.666216</td>\n",
              "      <td>4658.153260</td>\n",
              "      <td>4743.824656</td>\n",
              "    </tr>\n",
              "    <tr>\n",
              "      <th>1996-10-31</th>\n",
              "      <td>5339.885387</td>\n",
              "      <td>4603.847655</td>\n",
              "      <td>4622.080556</td>\n",
              "    </tr>\n",
              "    <tr>\n",
              "      <th>1996-11-30</th>\n",
              "      <td>5041.454351</td>\n",
              "      <td>4592.365794</td>\n",
              "      <td>4520.448396</td>\n",
              "    </tr>\n",
              "    <tr>\n",
              "      <th>1996-12-31</th>\n",
              "      <td>4940.915865</td>\n",
              "      <td>4623.170837</td>\n",
              "      <td>4414.929091</td>\n",
              "    </tr>\n",
              "    <tr>\n",
              "      <th>1997-01-31</th>\n",
              "      <td>5113.710486</td>\n",
              "      <td>4675.879402</td>\n",
              "      <td>4357.315890</td>\n",
              "    </tr>\n",
              "    <tr>\n",
              "      <th>1997-02-28</th>\n",
              "      <td>5488.867372</td>\n",
              "      <td>4730.272688</td>\n",
              "      <td>4755.608584</td>\n",
              "    </tr>\n",
              "    <tr>\n",
              "      <th>1997-03-31</th>\n",
              "      <td>5702.439856</td>\n",
              "      <td>4772.745768</td>\n",
              "      <td>5114.335054</td>\n",
              "    </tr>\n",
              "    <tr>\n",
              "      <th>1997-04-30</th>\n",
              "      <td>5786.155420</td>\n",
              "      <td>4800.319180</td>\n",
              "      <td>5154.417846</td>\n",
              "    </tr>\n",
              "  </tbody>\n",
              "</table>\n",
              "</div>"
            ],
            "text/plain": [
              "                  Holts        ARIMA          Mas\n",
              "1996-05-31  5477.949273  4493.525685  5006.933974\n",
              "1996-06-30  5561.664838  4714.691805  4996.601057\n",
              "1996-07-31  5623.963680  4769.205634  4984.163917\n",
              "1996-08-31  5622.374932  4734.908556  4864.490735\n",
              "1996-09-30  5474.666216  4658.153260  4743.824656\n",
              "1996-10-31  5339.885387  4603.847655  4622.080556\n",
              "1996-11-30  5041.454351  4592.365794  4520.448396\n",
              "1996-12-31  4940.915865  4623.170837  4414.929091\n",
              "1997-01-31  5113.710486  4675.879402  4357.315890\n",
              "1997-02-28  5488.867372  4730.272688  4755.608584\n",
              "1997-03-31  5702.439856  4772.745768  5114.335054\n",
              "1997-04-30  5786.155420  4800.319180  5154.417846"
            ]
          },
          "metadata": {},
          "execution_count": 133
        }
      ]
    },
    {
      "cell_type": "code",
      "metadata": {
        "colab": {
          "base_uri": "https://localhost:8080/",
          "height": 142
        },
        "id": "GWwAwuoJyvrx",
        "outputId": "57aa8c7f-e617-439d-d37f-d3c0f8d24c6f"
      },
      "source": [
        "pd.DataFrame({'Model':['Holts','ARIMA','MAS'],\"RMSE\":[rmse_hwe_mul_add,rmse,rmse_Mult_add_sea]})"
      ],
      "execution_count": null,
      "outputs": [
        {
          "output_type": "execute_result",
          "data": {
            "text/html": [
              "<div>\n",
              "<style scoped>\n",
              "    .dataframe tbody tr th:only-of-type {\n",
              "        vertical-align: middle;\n",
              "    }\n",
              "\n",
              "    .dataframe tbody tr th {\n",
              "        vertical-align: top;\n",
              "    }\n",
              "\n",
              "    .dataframe thead th {\n",
              "        text-align: right;\n",
              "    }\n",
              "</style>\n",
              "<table border=\"1\" class=\"dataframe\">\n",
              "  <thead>\n",
              "    <tr style=\"text-align: right;\">\n",
              "      <th></th>\n",
              "      <th>Model</th>\n",
              "      <th>RMSE</th>\n",
              "    </tr>\n",
              "  </thead>\n",
              "  <tbody>\n",
              "    <tr>\n",
              "      <th>0</th>\n",
              "      <td>Holts</td>\n",
              "      <td>412.568060</td>\n",
              "    </tr>\n",
              "    <tr>\n",
              "      <th>1</th>\n",
              "      <td>ARIMA</td>\n",
              "      <td>297.796804</td>\n",
              "    </tr>\n",
              "    <tr>\n",
              "      <th>2</th>\n",
              "      <td>MAS</td>\n",
              "      <td>275.275032</td>\n",
              "    </tr>\n",
              "  </tbody>\n",
              "</table>\n",
              "</div>"
            ],
            "text/plain": [
              "   Model        RMSE\n",
              "0  Holts  412.568060\n",
              "1  ARIMA  297.796804\n",
              "2    MAS  275.275032"
            ]
          },
          "metadata": {},
          "execution_count": 136
        }
      ]
    },
    {
      "cell_type": "markdown",
      "metadata": {
        "id": "ki0WC17w4MIb"
      },
      "source": [
        "\n",
        "\n",
        "```\n",
        "So Finally Multiplicative additive seasonality(MAS) will be the prefrerred technique because it has least RMSE value\n",
        "```\n",
        "\n",
        "# MAS will be prefered than any other in this analysis\n"
      ]
    },
    {
      "cell_type": "code",
      "metadata": {
        "id": "fVEBdl8azLap"
      },
      "source": [
        ""
      ],
      "execution_count": null,
      "outputs": []
    }
  ]
}